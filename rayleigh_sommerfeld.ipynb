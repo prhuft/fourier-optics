{
 "cells": [
  {
   "cell_type": "markdown",
   "metadata": {},
   "source": [
    "## Beyond Fresnel diffraction\n",
    "\n",
    "DONT TRUST THIS. VERY SLOW AND RESULT IS GARBAGE. USE DIFFRACTIO. \n",
    "\n",
    "Rayleigh-Sommerfeld model. Good for non-paraxial wave propagation. \n",
    "\n",
    "All length units are mm."
   ]
  },
  {
   "cell_type": "code",
   "execution_count": 1,
   "metadata": {
    "scrolled": true
   },
   "outputs": [
    {
     "data": {
      "text/html": [
       "<style>.container{width:100% !important;}</style>"
      ],
      "text/plain": [
       "<IPython.core.display.HTML object>"
      ]
     },
     "metadata": {},
     "output_type": "display_data"
    }
   ],
   "source": [
    "## general imports\n",
    "from numpy import *\n",
    "from numpy.fft import fft,fft2,fftshift,ifftshift\n",
    "from scipy.special import j0, j1\n",
    "import matplotlib.pyplot as plt\n",
    "from matplotlib import colors\n",
    "from time import time\n",
    "import random as rand\n",
    "from scipy.integrate import dblquad\n",
    "\n",
    "## local imports\n",
    "from field_funcs import * # my helper functions\n",
    "from rayleigh_sommerfeld import RSDiffract as RS\n",
    "\n",
    "## make the display wide\n",
    "from IPython.core.display import HTML, display, Image\n",
    "display(HTML(\"<style>.container{width:100% !important;}</style>\"))"
   ]
  },
  {
   "cell_type": "markdown",
   "metadata": {},
   "source": [
    "## test with circular aperture\n",
    "Rayleight-Sommerfeld vs Fresnel diffraction"
   ]
  },
  {
   "cell_type": "code",
   "execution_count": 12,
   "metadata": {
    "scrolled": true
   },
   "outputs": [
    {
     "data": {
      "text/plain": [
       "<matplotlib.contour.QuadContourSet at 0x1ecb39a0400>"
      ]
     },
     "execution_count": 12,
     "metadata": {},
     "output_type": "execute_result"
    },
    {
     "data": {
      "image/png": "[encoded data removed]",
      "text/plain": [
       "<Figure size 432x288 with 1 Axes>"
      ]
     },
     "metadata": {
      "needs_background": "light"
     },
     "output_type": "display_data"
    }
   ],
   "source": [
    "## physics and system params\n",
    "lmbda = 1e-6\n",
    "k = 2*pi/lmbda\n",
    "a = .1 # aperture radius\n",
    "z_prop = 10 # distance to propagate\n",
    "\n",
    "## grid params\n",
    "w = 2*a # grid half-width\n",
    "pts = 201 #1025\n",
    "x0pts, midpt, xx, yy = get_meshgrid(w, pts)\n",
    "rr = sqrt(xx**2 + yy**2)\n",
    "# print('rr.shape =', rr.shape)\n",
    "\n",
    "mask = circ_mask(rr, a)\n",
    "\n",
    "fig, ax = figax()\n",
    "ax.contourf(x0pts, x0pts, mask)"
   ]
  },
  {
   "cell_type": "code",
   "execution_count": 13,
   "metadata": {},
   "outputs": [],
   "source": [
    "model = RS(k, w, mask)"
   ]
  },
  {
   "cell_type": "code",
   "execution_count": 15,
   "metadata": {
    "scrolled": true
   },
   "outputs": [
    {
     "name": "stdout",
     "output_type": "stream",
     "text": [
      "completed step 0 in time 81.22766208648682\n",
      "completed step 1 in time 84.6977972984314\n",
      "completed step 2 in time 88.75531792640686\n",
      "completed step 3 in time 86.76461791992188\n",
      "completed step 4 in time 69.33312511444092\n",
      "completed step 5 in time 59.75173044204712\n",
      "completed step 6 in time 116.31767439842224\n",
      "completed step 7 in time 85.78537702560425\n",
      "completed step 8 in time 97.03440594673157\n",
      "completed step 9 in time 107.79533672332764\n",
      "completed step 10 in time 102.99765944480896\n",
      "completed step 11 in time 87.46037864685059\n",
      "completed step 12 in time 78.25801205635071\n",
      "completed step 13 in time 70.81332492828369\n",
      "completed step 14 in time 74.13667869567871\n",
      "completed step 15 in time 85.521249294281\n",
      "completed step 16 in time 90.6594250202179\n",
      "completed step 17 in time 118.51889085769653\n",
      "completed step 18 in time 109.95431518554688\n",
      "completed step 19 in time 68.00891470909119\n"
     ]
    }
   ],
   "source": [
    "# approximate the output plane scale of interest as we\n",
    "# would with an FFT\n",
    "xsteps = 20\n",
    "x1pts = array([i*1/(x0pts[1]-x0pts[0])*lmbda*z_prop/(2*pts) \n",
    "               for i in linspace(0, pts/4, xsteps)])\n",
    "y1 = 0\n",
    "\n",
    "field2_slice = zeros(xsteps, complex)\n",
    "\n",
    "for i in range(xsteps):\n",
    "    \n",
    "    t0 = time()\n",
    "    field2_slice[i] = model.field2_at_pt(x1pts[i],y1,z_prop)\n",
    "    print(f\"completed step {i} in time {time()-t0}\")"
   ]
  },
  {
   "cell_type": "code",
   "execution_count": 17,
   "metadata": {},
   "outputs": [
    {
     "data": {
      "text/plain": [
       "[<matplotlib.lines.Line2D at 0x1ecd73304f0>]"
      ]
     },
     "execution_count": 17,
     "metadata": {},
     "output_type": "execute_result"
    },
    {
     "data": {
      "image/png": "[encoded data removed]",
      "text/plain": [
       "<Figure size 432x288 with 1 Axes>"
      ]
     },
     "metadata": {
      "needs_background": "light"
     },
     "output_type": "display_data"
    }
   ],
   "source": [
    "plt.plot(x1pts,abs(field2_slice)**2)"
   ]
  },
  {
   "cell_type": "markdown",
   "metadata": {},
   "source": [
    "## test with circular aperture\n",
    "Fresnel diffraction with FFT"
   ]
  },
  {
   "cell_type": "code",
   "execution_count": 21,
   "metadata": {},
   "outputs": [
    {
     "data": {
      "text/plain": [
       "<matplotlib.contour.QuadContourSet at 0x1f3b8aff340>"
      ]
     },
     "execution_count": 21,
     "metadata": {},
     "output_type": "execute_result"
    },
    {
     "data": {
      "image/png": "[encoded data removed]",
      "text/plain": [
       "<Figure size 432x288 with 1 Axes>"
      ]
     },
     "metadata": {
      "needs_background": "light"
     },
     "output_type": "display_data"
    }
   ],
   "source": [
    "## physics and system params\n",
    "lmbda = 1e-6\n",
    "k = 2*pi/lmbda\n",
    "a = .1 # aperture radius\n",
    "z_prop = 10 # distance to propagate\n",
    "\n",
    "## grid params\n",
    "w = 2*a # grid half-width\n",
    "pts = 1001 #1025\n",
    "x0pts, midpt, xx, yy = get_meshgrid(w, pts)\n",
    "rr = sqrt(xx**2 + yy**2)\n",
    "# print('rr.shape =', rr.shape)\n",
    "\n",
    "mask = circ_mask(rr, a)\n",
    "\n",
    "fig, ax = figax()\n",
    "ax.contourf(x0pts, x0pts, mask)"
   ]
  },
  {
   "cell_type": "code",
   "execution_count": 22,
   "metadata": {},
   "outputs": [],
   "source": [
    "## compute 2D fft to get the Fourier plane field\n",
    "\n",
    "padding = int(pts-1/2)\n",
    "mask = zero_pad(mask, padding)\n",
    "rr = zero_pad(rr, padding)\n",
    "\n",
    "field1 = fftshift(fft2(ifftshift(mask)))\n",
    "\n",
    "field1 = unpad(field1, padding)\n",
    "mask = unpad(mask, padding)\n",
    "rr = unpad(rr, padding)\n",
    "\n",
    "I1 = conjugate(field1)*field1\n",
    "I1 /= amax(I1)\n",
    "I1x = justify(I1[midpt,:])"
   ]
  },
  {
   "cell_type": "code",
   "execution_count": 23,
   "metadata": {
    "scrolled": false
   },
   "outputs": [
    {
     "data": {
      "text/plain": [
       "<matplotlib.legend.Legend at 0x1f3c0647250>"
      ]
     },
     "execution_count": 23,
     "metadata": {},
     "output_type": "execute_result"
    },
    {
     "data": {
      "image/png": "[encoded data removed]",
      "text/plain": [
       "<Figure size 700x500 with 1 Axes>"
      ]
     },
     "metadata": {
      "needs_background": "light"
     },
     "output_type": "display_data"
    }
   ],
   "source": [
    "## plot the 1D fft\n",
    "\n",
    "plt.close()\n",
    "fig,ax = plt.subplots(figsize=(7,5))\n",
    "fig.dpi=100\n",
    "\n",
    "x1pts = array([i*1/(x0pts[1]-x0pts[0])*lmbda*z_prop/(2*padding+pts) for i in linspace(-pts/2, pts/2, pts)])\n",
    "\n",
    "start = 400\n",
    "stop = len(x1pts) - start\n",
    "\n",
    "# plot the analytic result, up to constant scaling factor\n",
    "I1_func = lambda x: (j1(a*x*k/z_prop)/x)**2\n",
    "x1_pts = linspace(x1pts[start],x1pts[stop],200) # essentially the same as x1pts but omits x=0\n",
    "I1_analytic = I1_func(x1_pts)\n",
    "I1_analytic /= max(I1_analytic)\n",
    "ax.plot(x1_pts, I1_analytic, label='analytic result', color='blue',linewidth=4)\n",
    "# ax.set_title('Circular apperture diffraction intensity')\n",
    "\n",
    "# plot the fft result\n",
    "ax.plot(x1pts[start:stop], real(I1x)[start:stop], label='FFT result',color='orange')\n",
    "\n",
    "ax.set_xlabel(r'x [m]')\n",
    "# ax.set_xlim(-0.002,0.002)\n",
    "\n",
    "ax.legend(loc='upper right')\n",
    "\n",
    "# plt.savefig('airy_disk_fft_verification.png', bbox_inches='tight')"
   ]
  },
  {
   "cell_type": "code",
   "execution_count": null,
   "metadata": {},
   "outputs": [],
   "source": []
  }
 ],
 "metadata": {
  "kernelspec": {
   "display_name": "Python 3 (ipykernel)",
   "language": "python",
   "name": "python3"
  },
  "language_info": {
   "codemirror_mode": {
    "name": "ipython",
    "version": 3
   },
   "file_extension": ".py",
   "mimetype": "text/x-python",
   "name": "python",
   "nbconvert_exporter": "python",
   "pygments_lexer": "ipython3",
   "version": "3.9.6"
  }
 },
 "nbformat": 4,
 "nbformat_minor": 2
}
