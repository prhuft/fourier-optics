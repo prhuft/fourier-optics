{
 "cells": [
  {
   "cell_type": "code",
   "execution_count": 49,
   "metadata": {},
   "outputs": [],
   "source": [
    "from numpy import *\n",
    "from scipy.integrate import quad, dblquad\n",
    "from scipy.special import j0, j1\n",
    "import matplotlib.pyplot as plt\n",
    "from time import time, perf_counter_ns"
   ]
  },
  {
   "cell_type": "code",
   "execution_count": 37,
   "metadata": {},
   "outputs": [],
   "source": [
    "# setup the field\n",
    "\n",
    "# the output field for a plane wave of wave number k and\n",
    "# amplitude A0 passing through\n",
    "# 1) circular aperture, radius a\n",
    "# 2) lens f1\n",
    "# 3) circular aperture radius b\n",
    "# 4) lens f2\n",
    "\n",
    "# field returned at radius=r2"
   ]
  },
  {
   "cell_type": "markdown",
   "metadata": {},
   "source": [
    "TODO: \n",
    "* plot axial field from lens f2 onward using eq i derived\n",
    "* make field input aperture periodic, 1D"
   ]
  },
  {
   "cell_type": "code",
   "execution_count": 239,
   "metadata": {},
   "outputs": [],
   "source": [
    "## functions\n",
    "\n",
    "def from_quadrant3(qd3, field=None):\n",
    "    \"\"\"\n",
    "    construct field with rectangular symmetry given only\n",
    "    quadrant 3 (i.e., field is mirrored across x axis and\n",
    "    across y axis)\n",
    "    \n",
    "    'qd3' 2D numpy array\n",
    "    Return 'field' 2D numpy array\n",
    "    \"\"\"\n",
    "    \n",
    "    xpts, ypts = qd3.shape\n",
    "    xmpt, ympt = int(xpts/2), int(ypts/2)\n",
    "    \n",
    "    if field is None:\n",
    "        field = zeros((2*xpts, 2*ypts))\n",
    "    \n",
    "    field[:midpt, :midpt] = qd3\n",
    "    # qd4\n",
    "    field[:midpt, midpt:] = flip(qd3, axis=1) \n",
    "    # qd1\n",
    "    field[midpt:, midpt:] = flip(qd3)\n",
    "    # qd2\n",
    "    field[midpt:, :midpt] = flip(qd3, axis=0)\n",
    "    \n",
    "    return field\n",
    "\n",
    "def integrand(r1, r2, a, k, f1, f2):\n",
    "    \"\"\"output field for 4f Fourier filtered plane wave\"\"\"\n",
    "    return j1(a*r1*k/f1)*j0(r1*r2*k/f2)\n",
    "\n",
    "def get_meshgrid(w, pts, radial=False):\n",
    "    midpt = int(pts/2)\n",
    "    x = linspace(-w, w, pts)\n",
    "    y = linspace(-w, w, pts)\n",
    "    xx, yy = meshgrid(x,y, sparse=True)\n",
    "    if radial:\n",
    "        rr = sqrt(xx**2 + yy**2)\n",
    "        return x,midpt,rr\n",
    "    else:\n",
    "        return x,midpt,xx,yy"
   ]
  },
  {
   "cell_type": "code",
   "execution_count": null,
   "metadata": {},
   "outputs": [],
   "source": [
    "## physics and system params\n",
    "k = 2*pi/1.064e-6\n",
    "A0 = 1\n",
    "f1 = 0.03\n",
    "f2 = 1\n",
    "a = 1e-4 # aperture 1 radius\n",
    "b = 1e-5 # aperture 2 radius; leave wide for now to see unfiltered beam"
   ]
  },
  {
   "cell_type": "code",
   "execution_count": 250,
   "metadata": {},
   "outputs": [],
   "source": [
    "## build meshgrid \n",
    "w = 6*a # array width \n",
    "pts = 1000\n",
    "    \n",
    "x,midpt,rr = get_meshgrid(w, pts, radial=True)    "
   ]
  },
  {
   "cell_type": "code",
   "execution_count": 277,
   "metadata": {},
   "outputs": [],
   "source": [
    "## calculate the field in Fourier plane\n",
    "A1 = lambda r1: -1j*A0*a*j1(a*r1*k/f1)/r1\n",
    "qd3 = zeros((midpt, midpt), complex)\n",
    "for i in range(midpt):\n",
    "    for j in range(midpt):\n",
    "        qd3[i,j] = A1(rr[i,j])\n",
    "field1 = from_quadrant3(abs(qd3))"
   ]
  },
  {
   "cell_type": "code",
   "execution_count": 278,
   "metadata": {
    "scrolled": false
   },
   "outputs": [
    {
     "data": {
      "image/png": "[encoded data removed]",
      "text/plain": [
       "<Figure size 432x288 with 1 Axes>"
      ]
     },
     "metadata": {
      "needs_background": "light"
     },
     "output_type": "display_data"
    }
   ],
   "source": [
    "fig,ax = plt.subplots()\n",
    "I1 = conjugate(field1)*field1\n",
    "ax.contourf(x*1e3,x*1e3,I1)\n",
    "ax.set_title('Intensity in Fourier Plane (A1)')\n",
    "ax.set_aspect('equal')"
   ]
  },
  {
   "cell_type": "code",
   "execution_count": 281,
   "metadata": {
    "scrolled": true
   },
   "outputs": [
    {
     "data": {
      "text/plain": [
       "[<matplotlib.lines.Line2D at 0x235e85c4d68>]"
      ]
     },
     "execution_count": 281,
     "metadata": {},
     "output_type": "execute_result"
    },
    {
     "data": {
      "image/png": "[encoded data removed]",
      "text/plain": [
       "<Figure size 432x288 with 1 Axes>"
      ]
     },
     "metadata": {
      "needs_background": "light"
     },
     "output_type": "display_data"
    }
   ],
   "source": [
    "fig, ax= plt.subplots()\n",
    "ax.plot(x*1e3, I1[midpt,:])"
   ]
  },
  {
   "cell_type": "code",
   "execution_count": 285,
   "metadata": {},
   "outputs": [
    {
     "name": "stdout",
     "output_type": "stream",
     "text": [
      "total field 8.652242363869369e-10\n",
      "central field 5.1395457473227935e-09\n"
     ]
    }
   ],
   "source": [
    "## how much of the field is in that central ring?\n",
    "\n",
    "# i must be missing something to be getting such a small integral\n",
    "# result\n",
    "I1int = lambda r1: r1*(a*A0*j1(a*r1*k/f1)/r1)**2\n",
    "\n",
    "total = 2*pi*quad(I1int, 0, inf)[0]\n",
    "print(f'total field {total}') # should be 1\n",
    "central = 2*pi*quad(I1int, 0, .2)[0]\n",
    "print(f'central field {central}')"
   ]
  },
  {
   "cell_type": "code",
   "execution_count": 231,
   "metadata": {},
   "outputs": [],
   "source": [
    "## build meshgrid \n",
    "w = 6e-6 # array width \n",
    "pts = 200\n",
    "    \n",
    "x,midpt,rr = get_meshgrid(w, pts, radial=True)    "
   ]
  },
  {
   "cell_type": "code",
   "execution_count": 232,
   "metadata": {
    "scrolled": true
   },
   "outputs": [
    {
     "name": "stdout",
     "output_type": "stream",
     "text": [
      "run time: 0.8836328983306885 [s]\n"
     ]
    }
   ],
   "source": [
    "## calcute the output field in the back focal plane\n",
    "\n",
    "# calculate only one quadrant, then reflect\n",
    "field = zeros((pts, pts))\n",
    "qd3 = field[0:midpt, 0:midpt]\n",
    "\n",
    "t0 = time()\n",
    "for i in range(midpt):\n",
    "    for j in range(midpt):\n",
    "        args = (rr[i,j], a, k, f1, f2)\n",
    "        qd3[i,j] = quad(integrand, 0, b, args)[0]\n",
    "print(f'run time: {time()-t0} [s]')\n",
    "field = from_quadrant3(qd3, field=field)"
   ]
  },
  {
   "cell_type": "code",
   "execution_count": 215,
   "metadata": {
    "scrolled": false
   },
   "outputs": [],
   "source": [
    "# field *= -k*A0*a/f2 #"
   ]
  },
  {
   "cell_type": "code",
   "execution_count": 233,
   "metadata": {
    "scrolled": true
   },
   "outputs": [
    {
     "data": {
      "text/plain": [
       "<matplotlib.contour.QuadContourSet at 0x235d5020198>"
      ]
     },
     "execution_count": 233,
     "metadata": {},
     "output_type": "execute_result"
    },
    {
     "data": {
      "image/png": "[encoded data removed]",
      "text/plain": [
       "<Figure size 432x288 with 1 Axes>"
      ]
     },
     "metadata": {
      "needs_background": "light"
     },
     "output_type": "display_data"
    }
   ],
   "source": [
    "# question: how to get phase of field here? could calculate phase\n",
    "# using the transfer function on the input field?\n",
    "# plt.contourf(x*1e6,y*1e6,field**2)\n",
    "plt.contourf(x, y, field**2)"
   ]
  },
  {
   "cell_type": "code",
   "execution_count": null,
   "metadata": {},
   "outputs": [],
   "source": [
    "plt"
   ]
  },
  {
   "cell_type": "code",
   "execution_count": 229,
   "metadata": {},
   "outputs": [
    {
     "data": {
      "text/plain": [
       "[<matplotlib.lines.Line2D at 0x235d4f49dd8>]"
      ]
     },
     "execution_count": 229,
     "metadata": {},
     "output_type": "execute_result"
    },
    {
     "data": {
      "image/png": "[encoded data removed]",
      "text/plain": [
       "<Figure size 432x288 with 1 Axes>"
      ]
     },
     "metadata": {
      "needs_background": "light"
     },
     "output_type": "display_data"
    }
   ],
   "source": [
    "plt.plot(x*1e6,field1[midpt,:]**2)"
   ]
  },
  {
   "cell_type": "code",
   "execution_count": 81,
   "metadata": {},
   "outputs": [
    {
     "data": {
      "text/plain": [
       "(-1, 1)"
      ]
     },
     "execution_count": 81,
     "metadata": {},
     "output_type": "execute_result"
    },
    {
     "data": {
      "image/png": "[encoded data removed]",
      "text/plain": [
       "<Figure size 432x288 with 2 Axes>"
      ]
     },
     "metadata": {
      "needs_background": "light"
     },
     "output_type": "display_data"
    }
   ],
   "source": [
    "xscl = 1e6\n",
    "fig, axes = plt.subplots(nrows=1, ncols=2)\n",
    "ax, ax1 = axes\n",
    "ax.set_title(f'a=200 um, b=200 um')\n",
    "ax.set_xlabel('x [um]')\n",
    "ax.set_ylabel('y [um]')\n",
    "# for a in axes:\n",
    "ax.set_aspect('equal')\n",
    "    \n",
    "ax.contourf(x*xscl, y*xscl, field**2)\n",
    "ax1.plot(x*xscl, field[:,int(len(x)/2)]**2)\n",
    "for a in axes:\n",
    "    a.set_xlim(-1,1)\n",
    "ax.set_ylim(-1,1)"
   ]
  },
  {
   "cell_type": "code",
   "execution_count": null,
   "metadata": {},
   "outputs": [],
   "source": []
  }
 ],
 "metadata": {
  "kernelspec": {
   "display_name": "Python 3",
   "language": "python",
   "name": "python3"
  },
  "language_info": {
   "codemirror_mode": {
    "name": "ipython",
    "version": 3
   },
   "file_extension": ".py",
   "mimetype": "text/x-python",
   "name": "python",
   "nbconvert_exporter": "python",
   "pygments_lexer": "ipython3",
   "version": "3.7.3"
  }
 },
 "nbformat": 4,
 "nbformat_minor": 2
}
