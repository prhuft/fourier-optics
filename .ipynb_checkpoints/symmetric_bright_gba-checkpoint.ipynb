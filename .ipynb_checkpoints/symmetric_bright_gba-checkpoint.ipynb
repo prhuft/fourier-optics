{
 "cells": [
  {
   "cell_type": "markdown",
   "metadata": {},
   "source": [
    "## Periodic Array - Bright Traps\n",
    "\n",
    "Calculate output field for a plane wave of wave number k and\n",
    "amplitude A0 passing through  \n",
    "1) aperture plate: rectangular grid of spots of radius a, dx,dy center to center; spots can be transmissive or reflective  \n",
    "2) lens f1  \n",
    "3) circular aperture radius b  \n",
    "4) lens f2  \n",
    "\n",
    "Everything in this notebook pertains to bright traps."
   ]
  },
  {
   "cell_type": "code",
   "execution_count": 22,
   "metadata": {},
   "outputs": [
    {
     "data": {
      "text/html": [
       "<style>.container{width:100% !important;}</style>"
      ],
      "text/plain": [
       "<IPython.core.display.HTML object>"
      ]
     },
     "metadata": {},
     "output_type": "display_data"
    }
   ],
   "source": [
    "from numpy import *\n",
    "from numpy.fft import fft,fft2,fftshift,ifftshift\n",
    "from scipy.integrate import quad, dblquad\n",
    "from scipy.special import j0, j1\n",
    "import matplotlib.pyplot as plt\n",
    "from time import time, perf_counter_ns\n",
    "import random as rand\n",
    "\n",
    "## make the display wide\n",
    "from IPython.core.display import HTML, display\n",
    "display(HTML(\"<style>.container{width:100% !important;}</style>\"))"
   ]
  },
  {
   "cell_type": "markdown",
   "metadata": {},
   "source": [
    "TODO: \n",
    "1) make field input aperture periodic, 1D  \n",
    "2) plot axial field from lens f2 onward using eq i derived"
   ]
  },
  {
   "cell_type": "code",
   "execution_count": 134,
   "metadata": {},
   "outputs": [],
   "source": [
    "## functions\n",
    "\n",
    "def from_quadrant3(qd3, field=None):\n",
    "    \"\"\"\n",
    "    construct field with rectangular symmetry given only\n",
    "    quadrant 3 (i.e., field is mirrored across x axis and\n",
    "    across y axis)\n",
    "    \n",
    "    'qd3' 2D numpy array\n",
    "    Return 'field' 2D numpy array\n",
    "    \"\"\"\n",
    "    \n",
    "    xpts, ypts = qd3.shape\n",
    "    xmpt, ympt = int(xpts/2), int(ypts/2)\n",
    "    \n",
    "    if field is None:\n",
    "        field = zeros((2*xpts, 2*ypts), complex)\n",
    "    \n",
    "    field[:midpt, :midpt] = qd3\n",
    "    # qd4\n",
    "    field[:midpt, midpt:] = flip(qd3, axis=1) \n",
    "    # qd1\n",
    "    field[midpt:, midpt:] = flip(qd3)\n",
    "    # qd2\n",
    "    field[midpt:, :midpt] = flip(qd3, axis=0)\n",
    "    \n",
    "    return field\n",
    "\n",
    "def get_meshgrid(w, pts, polar=False):\n",
    "    \"\"\"\n",
    "    'w': grid half width\n",
    "    'pts': pts along one dimension; i.e. the full grid is pts x pts\n",
    "    \"\"\"\n",
    "    midpt = int(pts/2)\n",
    "    x = linspace(-w, w, pts)\n",
    "    y = linspace(-w, w, pts)\n",
    "    xx, yy = meshgrid(x,y, sparse=True)\n",
    "    if polar:\n",
    "        rr = sqrt(xx**2 + yy**2)\n",
    "        phi = arctan2(yy,xx)\n",
    "        phi[:midpt, :] += 2*pi\n",
    "        return x,midpt,rr,phi\n",
    "    else:\n",
    "        return x,midpt,xx,yy\n",
    "    \n",
    "def get_grid(dx,dy,xnum,ynum):\n",
    "    xpts = []\n",
    "    ypts = []\n",
    "    for i in range(xnum):\n",
    "        for j in range(ynum):\n",
    "            xpts.append((1+i)*dy - dy*(1+ynum)/2)\n",
    "            ypts.append((1+j)*dx - dx*(1+xnum)/2)\n",
    "    return xpts, ypts\n",
    "\n",
    "def figax(roi=None, ylabel='y/a', xlabel='x/a'):\n",
    "    fig,ax = plt.subplots()\n",
    "    if roi is not None:\n",
    "        ax.set_xlim(-roi,roi)\n",
    "        ax.set_ylim(-roi,roi)\n",
    "    ax.set_aspect('equal')\n",
    "    ax.set_xlabel(xlabel)\n",
    "    ax.set_ylabel(ylabel)\n",
    "    return fig, ax"
   ]
  },
  {
   "cell_type": "code",
   "execution_count": 5,
   "metadata": {},
   "outputs": [],
   "source": [
    "## physics and system params\n",
    "k = 2*pi/1.064e-6\n",
    "A0 = 1\n",
    "# want M = f2/f1 something like ~ .03\n",
    "f1 = 1\n",
    "f2 = 0.03\n",
    "a = 1e-4 # aperture 1 radius = 100 um\n",
    "b = f1*3.8317/(a*k) # the filter radius. 3.8317 is a00, the first zero of the J0(x).\n",
    "\n",
    "dx = 3*a # center-to-center spacing between spots\n",
    "dy = dx"
   ]
  },
  {
   "cell_type": "code",
   "execution_count": 5,
   "metadata": {},
   "outputs": [
    {
     "data": {
      "text/plain": [
       "(-0.0006000000000000001, 0.0006000000000000001)"
      ]
     },
     "execution_count": 5,
     "metadata": {},
     "output_type": "execute_result"
    },
    {
     "data": {
      "image/png": "[encoded data removed]",
      "text/plain": [
       "<Figure size 432x288 with 1 Axes>"
      ]
     },
     "metadata": {
      "needs_background": "light"
     },
     "output_type": "display_data"
    }
   ],
   "source": [
    "xspots = 4\n",
    "yspots = 4\n",
    "xpts, ypts = get_grid(dx,dy,xspots,yspots)\n",
    "\n",
    "# lines = []\n",
    "# for i in range(yspots):\n",
    "#     for j in range(xspots):\n",
    "#         lines.append([[0, (j+1)*dx - (dx + xspots)/2], [0, (i+1)*dy - (dy + yspots)/2]])\n",
    "        \n",
    "fig,ax = plt.subplots()\n",
    "ax.scatter(xpts, ypts)\n",
    "\n",
    "# for line in lines:\n",
    "#     ax.plot(*line)\n",
    "ax.set_aspect('equal')\n",
    "ax.set_xlim(-xspots*dx/2, xspots*dx/2)\n",
    "ax.set_ylim(-yspots*dx/2, yspots*dy/2)"
   ]
  },
  {
   "cell_type": "code",
   "execution_count": 6,
   "metadata": {},
   "outputs": [
    {
     "name": "stdout",
     "output_type": "stream",
     "text": [
      "input mask generated\n"
     ]
    }
   ],
   "source": [
    "## build the aperture mask:\n",
    "\n",
    "w = xspots*dx/2 # array half-width \n",
    "pts = 200 # the grid will be pts x pts\n",
    "xarr,midpt,xx,yy = get_meshgrid(w, pts) \n",
    "\n",
    "# the centroids of the apertures\n",
    "xpts, ypts = get_grid(dx,dy,4,4)\n",
    "\n",
    " \n",
    "plate = 0 # block the field\n",
    "aperture = 1 # transmit the field\n",
    "dimx = dimy = pts\n",
    "midx = int(dimx/2)\n",
    "midy = int(dimy/2)\n",
    "\n",
    "mask_a = full((dimx, dimy), plate)\n",
    "\n",
    "qd3 = mask_a[0:midx, 0:midy]\n",
    "\n",
    "for i in range(midy):\n",
    "    for j in range(midx):\n",
    "        \n",
    "        # check if coordinate overlaps an aperture\n",
    "        for x in xpts:\n",
    "            for y in ypts:\n",
    "                if sqrt((xx[0,j]-x)**2 + (yy[i,0]-y)**2) < a:\n",
    "                    qd3[i,j] = aperture\n",
    "                \n",
    "mask_a = from_quadrant3(qd3, mask_a)\n",
    "print(\"input mask generated\")"
   ]
  },
  {
   "cell_type": "code",
   "execution_count": 7,
   "metadata": {
    "scrolled": false
   },
   "outputs": [
    {
     "data": {
      "text/plain": [
       "<matplotlib.colorbar.Colorbar at 0x29a26e684e0>"
      ]
     },
     "execution_count": 7,
     "metadata": {},
     "output_type": "execute_result"
    },
    {
     "data": {
      "image/png": "[encoded data removed]",
      "text/plain": [
       "<Figure size 432x288 with 2 Axes>"
      ]
     },
     "metadata": {
      "needs_background": "light"
     },
     "output_type": "display_data"
    }
   ],
   "source": [
    "fig,ax = plt.subplots()\n",
    "cbar = ax.contourf(xarr/a,xarr/a,mask_a)\n",
    "ax.set_aspect('equal')\n",
    "fig.colorbar(cbar)"
   ]
  },
  {
   "cell_type": "markdown",
   "metadata": {},
   "source": [
    "## Analytically derived fields \n",
    "\n",
    "The fields below are evaluated at specified points by numerical integration the integrals I derived for the Fourier plane field and the output plane field.  \n",
    "\n",
    "<b>TODO:<\\b>\n",
    " * Plot gaussian waist vs number of grid pts\n",
    " * Asymmetric grid specific:\n",
    "     * use input"
   ]
  },
  {
   "cell_type": "markdown",
   "metadata": {},
   "source": [
    "### Field in Fourier plane (A1)"
   ]
  },
  {
   "cell_type": "code",
   "execution_count": 124,
   "metadata": {},
   "outputs": [],
   "source": [
    "## physics and system params\n",
    "k = 2*pi/1.064e-6\n",
    "A0 = 1\n",
    "# want M = f2/f1 something like ~ .03\n",
    "f1 = 1\n",
    "f2 = 0.03\n",
    "a = 1e-4 # aperture 1 radius = 100 um\n",
    "b = f1*3.8317/(a*k) # the filter radius. 3.8317 is a00, the first zero of the J0(x).\n",
    "\n",
    "dx = 3*a # center-to-center spacing between spots\n",
    "dy = dx"
   ]
  },
  {
   "cell_type": "code",
   "execution_count": 174,
   "metadata": {
    "scrolled": true
   },
   "outputs": [
    {
     "name": "stdout",
     "output_type": "stream",
     "text": [
      "calculated field1 in 0.18949198722839355 s\n"
     ]
    }
   ],
   "source": [
    "w = 200*a\n",
    "pts = 200\n",
    "xarr,midpt,rr,phi = get_meshgrid(w, pts, polar=True)\n",
    "\n",
    "field1 = zeros((pts,pts), complex)\n",
    "\n",
    "dx = dy = 3*a\n",
    "xnum = ynum = 4\n",
    "xcents, ycents = get_grid(dx,dy,xnum,ynum)\n",
    "\n",
    "def repeat_phase(i,j):\n",
    "    # this works for a square grid; need a dedicated yarr otherwise\n",
    "    x1 = xarr[i] \n",
    "    y1 = xarr[j]\n",
    "    return (sin(xnum*k*dx*x1/(2*f1))*sin(ynum*k*dy*y1/(2*f1)) \\\n",
    "            /(sin(sin(k*dx*x1/(2*f1))*sin(k*dy*y1/(2*f1)))))\n",
    "\n",
    "t0 = time()\n",
    "q3_phases = empty((midpt, midpt), complex)\n",
    "q3 = copy(field1[:midpt,:midpt])\n",
    "for i in range(midpt):\n",
    "    for j in range(midpt):\n",
    "        q3_phases[i,j] = repeat_phase(i,j)\n",
    "        q3[i,j] = A0*a*j1(a*rr[i,j]*k/f1)*q3_phases[i,j]/rr[i,j]\n",
    "        \n",
    "field1 = from_quadrant3(q3, field=field1)\n",
    "print(f\"calculated field1 in {time()-t0} s\")"
   ]
  },
  {
   "cell_type": "code",
   "execution_count": 175,
   "metadata": {
    "scrolled": true
   },
   "outputs": [
    {
     "data": {
      "text/plain": [
       "Text(0.5, 1.0, 'Fourier Plane Periodic Factor (4x4 input)')"
      ]
     },
     "execution_count": 175,
     "metadata": {},
     "output_type": "execute_result"
    },
    {
     "data": {
      "image/png": "[encoded data removed]",
      "text/plain": [
       "<Figure size 432x288 with 2 Axes>"
      ]
     },
     "metadata": {
      "needs_background": "light"
     },
     "output_type": "display_data"
    }
   ],
   "source": [
    "phases = from_quadrant3(q3_phases)\n",
    "fig,ax = figax()\n",
    "cbar = ax.contourf(xarr/a, xarr/a, phases**2)\n",
    "ax.set_xlabel('x/a')\n",
    "ax.set_ylabel('y/a')\n",
    "fig.colorbar(cbar)\n",
    "ax.set_title(f'Fourier Plane Periodic Factor ({xnum}x{ynum} input)')\n",
    "# plt.savefig(f'fourier_plane_{xnum}by{ynum}_periodic_factor.png',bbox_inches='tight')"
   ]
  },
  {
   "cell_type": "code",
   "execution_count": 35,
   "metadata": {},
   "outputs": [
    {
     "data": {
      "text/plain": [
       "64.88633711537092"
      ]
     },
     "execution_count": 35,
     "metadata": {},
     "output_type": "execute_result"
    }
   ],
   "source": [
    "b/a"
   ]
  },
  {
   "cell_type": "code",
   "execution_count": 190,
   "metadata": {},
   "outputs": [
    {
     "data": {
      "image/png": "[encoded data removed]",
      "text/plain": [
       "<Figure size 432x288 with 2 Axes>"
      ]
     },
     "metadata": {
      "needs_background": "light"
     },
     "output_type": "display_data"
    }
   ],
   "source": [
    "fig,ax = figax()\n",
    "I1 = conjugate(field1)*field1\n",
    "I1 /= amax(I1)\n",
    "cbar = ax.contourf(xarr/a, xarr/a, I1)\n",
    "roi = 65 # b/a\n",
    "ax.set_xlim(-roi,roi)\n",
    "ax.set_ylim(-roi,roi)\n",
    "\n",
    "ax.set_title(f'Fourier Plane Intensity ({xnum}x{ynum} input)')\n",
    "ax.set_xlabel('x/a')\n",
    "ax.set_ylabel('y/a')\n",
    "fig.colorbar(cbar)\n",
    "# plt.savefig(f'fourier_plane_intensity_{xnum}by{ynum}',bbox_inches='tight')"
   ]
  },
  {
   "cell_type": "code",
   "execution_count": 188,
   "metadata": {},
   "outputs": [
    {
     "data": {
      "text/plain": [
       "(0.45358938971291246+0j)"
      ]
     },
     "execution_count": 188,
     "metadata": {},
     "output_type": "execute_result"
    }
   ],
   "source": [
    "amax(field1)"
   ]
  },
  {
   "cell_type": "code",
   "execution_count": 192,
   "metadata": {
    "scrolled": false
   },
   "outputs": [
    {
     "data": {
      "text/plain": [
       "Text(0.5, 1.0, 'Fourier Plane Intensity | Focal Plane y=0 Slice')"
      ]
     },
     "execution_count": 192,
     "metadata": {},
     "output_type": "execute_result"
    },
    {
     "data": {
      "image/png": "[encoded data removed]",
      "text/plain": [
       "<Figure size 432x288 with 1 Axes>"
      ]
     },
     "metadata": {
      "needs_background": "light"
     },
     "output_type": "display_data"
    }
   ],
   "source": [
    "fig,ax = plt.subplots()\n",
    "I1x = I1[midpt,:]\n",
    "ax.plot(xarr/a, I1x, color='darkblue')\n",
    "ax.set_xlim(-roi, roi)\n",
    "# ax.set_ylim(0, .25)\n",
    "ax.set_xlabel('x/a')\n",
    "ax.set_ylabel('Intensity [arb. units]')\n",
    "ax.set_title('Fourier Plane Intensity | Focal Plane y=0 Slice')\n",
    "# plt.savefig(f'fourier_plane_intensity_{xnum}by{ynum}_y0slice',bbox_inches='tight')"
   ]
  },
  {
   "cell_type": "markdown",
   "metadata": {},
   "source": [
    "### Field in output plane (A2)\n",
    "As I derived based on Mark's notes. This is for a bright trap.\n",
    "\n",
    "\\begin{equation*} \n",
    "A_2(\\mathbf{\\rho_2}, z_2) = - A_0 \\frac{k a}{2 \\pi f_2} \\int_{-b}^b dx \\int_{-\\sqrt{b^2-x_1^2}}^{\\sqrt{b^2-x_1^2}} dy \\frac{\\sin{(\\frac{N k x_1 d}{2 f_1})}}{\\sin{(\\frac{k x_1 d}{2 f_1}})} \\frac{\\sin{(\\frac{N k y_1 d}{2 f_1})}}{\\sin{(\\frac{k y_1 d}{2 f_1}})} \\frac{J_1(a \\rho_1 \\frac{k}{f_1})}{\\rho_1}\\exp{\\bigg(-\\frac{i k}{2 f_2}(\\rho_1^2(\\frac{z_2}{f_2} - 1) + 2 \\mathbf{\\rho_1} \\cdot \\mathbf{\\rho_2)}\\bigg)}, \\quad \\rho_1 = \\sqrt{x_1^2 + y_1^2}\n",
    "\\end{equation*}\n",
    "\n",
    "Break up into real, imaginary to solve with scipy dblquad:\n",
    "\n",
    "\\begin{equation*} \n",
    "A_2(\\mathbf{\\rho_2}, z_2) = - A_0 \\frac{k a}{2 \\pi f_2} \\int_{-b}^b dx \\int_{-\\sqrt{b^2-x_1^2}}^{\\sqrt{b^2-x_1^2}} dy \\frac{\\sin{(\\frac{N k x_1 d}{2 f_1})}}{\\sin{(\\frac{k x_1 d}{2 f_1}})} \\frac{\\sin{(\\frac{N k y_1 d}{2 f_1})}}{\\sin{(\\frac{k y_1 d}{2 f_1}})} \\frac{J_1(a \\rho_1 \\frac{k}{f_1})}{\\rho_1}\\bigg(\\cos{\\bigg(\\frac{k}{2 f_2}(\\rho_1^2(\\frac{z_2}{f_2} - 1) + 2 \\mathbf{\\rho_1} \\cdot \\mathbf{\\rho_2)}\\bigg)} \\\\ - i \\sin{\\bigg(\\frac{k}{2 f_2}(\\rho_1^2(\\frac{z_2}{f_2} - 1) + 2 \\mathbf{\\rho_1} \\cdot \\mathbf{\\rho_2)}\\bigg)} \\bigg), \\quad \\rho_1 = \\sqrt{x_1^2 + y_1^2}\n",
    "\\end{equation*}"
   ]
  },
  {
   "cell_type": "code",
   "execution_count": 381,
   "metadata": {},
   "outputs": [],
   "source": [
    "## physics and system params\n",
    "lmbda = 1.064e-6\n",
    "k = 2*pi/lmbda\n",
    "A0 = 1\n",
    "# want M = f2/f1 something like ~ .03\n",
    "f1 = 1\n",
    "f2 = 0.03\n",
    "a = 1e-4 # aperture 1 radius = 100 um\n",
    "b = f1*3.8317/(a*k) # the filter radius. 3.8317 is a00, the first zero of the J0(x).\n",
    "\n",
    "dx = 3*a # center-to-center spacing between spots\n",
    "dy = dx"
   ]
  },
  {
   "cell_type": "code",
   "execution_count": 382,
   "metadata": {},
   "outputs": [],
   "source": [
    "# input field has 8x8 grid, d = 3a, so input field ~ 50a. f2/f1 ~ .02, so guess grid width ~ a\n",
    "xnum = ynum = 4\n",
    "z2 = f2 # the distance from lens f2"
   ]
  },
  {
   "cell_type": "code",
   "execution_count": 383,
   "metadata": {},
   "outputs": [],
   "source": [
    "def re_iint(y1, x1, y2, x2, z2):\n",
    "    \"\"\"\n",
    "    the real part of the integrand in the cell above for the output field.\n",
    "    \"\"\"\n",
    "    \n",
    "    r1 = sqrt(x1**2 + y1**2)\n",
    "    \n",
    "    intgd = (sin(xnum*k*dx*x1/(2*f1))*sin(ynum*k*dy*y1/(2*f1)) \\\n",
    "            /(sin(sin(k*dx*x1/(2*f1))*sin(k*dy*y1/(2*f1))))) \\\n",
    "            *j1(a*r1*k/f1)*cos(k*((z2/f2 - 1)*r1**2 + 2*(x1*x2 + y1*y2))/(2*f2))/r1\n",
    "    \n",
    "    return intgd\n",
    "\n",
    "\n",
    "def im_iint(y1, x1, y2, x2, z2):\n",
    "    \"\"\"\n",
    "    the imaginary part of the integrand in the cell above for the output field\n",
    "    \"\"\"\n",
    "    \n",
    "    r1 = sqrt(x1**2 + y1**2)\n",
    "    \n",
    "    intgd = - (sin(xnum*k*dx*x1/(2*f1))*sin(ynum*k*dy*y1/(2*f1)) \\\n",
    "              /(sin(sin(k*dx*x1/(2*f1))*sin(k*dy*y1/(2*f1))))) \\\n",
    "              *j1(a*r1*k/f1)*sin(k*((z2/f2 - 1)*r1**2 + 2*(x1*x2 + y1*y2))/(2*f2))/r1\n",
    "    \n",
    "    return intgd\n",
    "\n",
    "    \n",
    "def field2_int(x2, y2, z2):\n",
    "    \"\"\" \n",
    "    compute the integral in the cell above for the output field \n",
    "    integral broken up to avoid the pole at x1=y1 = 0; only integrate over \n",
    "    quadrant one in the Fourier plane, then multiply the result by 4 to \n",
    "    account for the other quadrants. works by symmetry. \n",
    "\n",
    "    Args:\n",
    "        x2\n",
    "        y2\n",
    "        z2: the distance from the second lens\n",
    "    Return:\n",
    "        'field': complex\n",
    "    \"\"\"\n",
    "    \n",
    "    # unconstrained limits: x in [-b,b], y in [-sqrt(b**2 - x**2), sqrt(b**2 - x**2)]\n",
    "    # 1 quadrant: x in [0,b], y in [0, sqrt(b**2 - x**2)]. make lower bound finite in either x or y\n",
    "    \n",
    "    iargs = (y2, x2, z2)\n",
    "    \n",
    "    # avoid the pole in y\n",
    "#     field2 = 4*(A0*a*k**2)*(dblquad(re_iint, 0, b, \n",
    "#                                   lambda x: 1e-6, # keep small enough to obtain good resolution\n",
    "#                                   lambda x: sqrt(b**2 - x**2), \n",
    "#                                   args=iargs)[0]/(2*pi*f1*f2) \n",
    "#                           -1j*dblquad(im_iint, 0, b, \n",
    "#                                   lambda x: 1e-6, # keep small enough to obtain good resolution \n",
    "#                                   lambda x: sqrt(b**2 - x**2), \n",
    "#                                   args=iargs)[0]/(2*pi*f1*f2)) \n",
    "\n",
    "    # avoid the pole in x\n",
    "    field2 = 4*(A0*a*k**2)*(dblquad(re_iint, 1e-6, b, \n",
    "                                  lambda x: 0, # keep small enough to obtain good resolution\n",
    "                                  lambda x: sqrt(b**2 - x**2), \n",
    "                                  args=iargs)[0]/(2*pi*f1*f2) \n",
    "                          -1j*dblquad(im_iint, 1e-6, b, \n",
    "                                  lambda x: 0, # keep small enough to obtain good resolution \n",
    "                                  lambda x: sqrt(b**2 - x**2), \n",
    "                                  args=iargs)[0]/(2*pi*f1*f2)) \n",
    "\n",
    "    \n",
    "    return field2"
   ]
  },
  {
   "cell_type": "code",
   "execution_count": 384,
   "metadata": {},
   "outputs": [
    {
     "data": {
      "text/plain": [
       "5.305164769729845"
      ]
     },
     "execution_count": 384,
     "metadata": {},
     "output_type": "execute_result"
    }
   ],
   "source": [
    "1/(2*pi*f1*f2)"
   ]
  },
  {
   "cell_type": "code",
   "execution_count": 385,
   "metadata": {},
   "outputs": [],
   "source": [
    "# build the meshgrid\n",
    "w = a*0.12 # 2 x 2 grid, dx = dy = 3*a, M = .03, gridwidth out ~ ((xnum-1)*d + a)*.03 = .12*a\n",
    "pts = 50\n",
    "\n",
    "# only works for square grid; need to update. get xarr, yarr, midx, midy\n",
    "xarr2,midpt,xx2,yy2 = get_meshgrid(w, pts, polar=False)\n",
    "\n",
    "field2 = zeros((pts,pts), complex)"
   ]
  },
  {
   "cell_type": "code",
   "execution_count": 212,
   "metadata": {},
   "outputs": [
    {
     "data": {
      "text/plain": [
       "12.0"
      ]
     },
     "execution_count": 212,
     "metadata": {},
     "output_type": "execute_result"
    }
   ],
   "source": [
    "w*1e6"
   ]
  },
  {
   "cell_type": "code",
   "execution_count": 386,
   "metadata": {},
   "outputs": [
    {
     "name": "stdout",
     "output_type": "stream",
     "text": [
      "calculated field2 in 0.050778465867042544 hrs\n"
     ]
    }
   ],
   "source": [
    "## compute the field\n",
    "\n",
    "t0 = time()\n",
    "q3 = copy(field2[:midpt,:midpt])\n",
    "for i in range(midpt):\n",
    "    for j in range(midpt):\n",
    "        q3[i,j] = field2_int(xx2[0,j], yy2[i,0] ,z2)\n",
    "field2 = from_quadrant3(q3, field=field2)\n",
    "print(f\"calculated field2 in {(time()-t0)/3600} hrs\")"
   ]
  },
  {
   "cell_type": "code",
   "execution_count": 388,
   "metadata": {
    "scrolled": false
   },
   "outputs": [
    {
     "data": {
      "image/png": "[encoded data removed]",
      "text/plain": [
       "<Figure size 432x288 with 2 Axes>"
      ]
     },
     "metadata": {
      "needs_background": "light"
     },
     "output_type": "display_data"
    }
   ],
   "source": [
    "I2 = conjugate(field2)*field2\n",
    "I2 /= amax(I2)\n",
    "\n",
    "fig,ax = figax(xlabel=r'x [$\\mu$m]', ylabel=r'y [$\\mu$m]')\n",
    "cbar = ax.contourf(xarr2/1e-6,xarr2/1e-6,I2)\n",
    "fig.colorbar(cbar)\n",
    "ax.set_title(f'Output Focal Plane Intensity ({xnum}x{ynum})')\n",
    "# plt.savefig(f'f2_focalplane_intensity_{xnum}by{ynum}.png')"
   ]
  },
  {
   "cell_type": "code",
   "execution_count": 240,
   "metadata": {},
   "outputs": [
    {
     "data": {
      "text/plain": [
       "5.1428571428571415"
      ]
     },
     "execution_count": 240,
     "metadata": {},
     "output_type": "execute_result"
    }
   ],
   "source": [
    "xarr2[int(midpt*1.4)]/1e-6"
   ]
  },
  {
   "cell_type": "code",
   "execution_count": 389,
   "metadata": {},
   "outputs": [
    {
     "data": {
      "image/png": "[encoded data removed]",
      "text/plain": [
       "<Figure size 432x288 with 1 Axes>"
      ]
     },
     "metadata": {
      "needs_background": "light"
     },
     "output_type": "display_data"
    }
   ],
   "source": [
    "# fig,ax = figax(xlabel=r'x [$\\mu$m]', ylabel=r'y [$\\mu$m]')\n",
    "fig,ax = plt.subplots()\n",
    "I2x = I2[int(midpt*1.4),:] # get a slice through y = 5 um\n",
    "ax.plot(xarr2/1e-6,I2x,color='darkblue')\n",
    "ax.set_title(f'Output Intensity ({xnum}x{ynum}) | Focal Plane '+r' y=5$\\mu$m slice')\n",
    "ax.set_xlabel(r'x [$\\mu$m]')\n",
    "ax.set_ylabel(r'Intensity [arb. units]')\n",
    "# plt.savefig(f'f2_focalplane_intensity_{xnum}by{ynum}_slice.png')"
   ]
  },
  {
   "cell_type": "code",
   "execution_count": 111,
   "metadata": {},
   "outputs": [
    {
     "data": {
      "text/plain": [
       "10000"
      ]
     },
     "execution_count": 111,
     "metadata": {},
     "output_type": "execute_result"
    }
   ],
   "source": [
    "# monte-carlo sample the output field to check it\n",
    "# ktests = int(pts) \n",
    "# irand = rand.sample(range(midpt), ktests)\n",
    "# jrand = rand.sample(range(midpt), ktests)\n",
    "# ktests**2\n",
    "\n",
    "# integral speed test\n",
    "# runs = 10\n",
    "# times = []\n",
    "# for i in range(runs):\n",
    "#     t0 = time()\n",
    "#     f = field2_int(xx2[0,j], yy2[i,0] ,z2)\n",
    "#     t = time()-t0\n",
    "#     times.append(t)\n",
    "# #     print(f'calculated fieldxz2 in time {(t)} s')\n",
    "# print(f'avg time = {sum(times)/runs} s')\n",
    "# print(f'integral result = {f}')\n",
    "\n",
    "## compute quadrant 3 of the field -- Monte Carlo\n",
    "\n",
    "# t0 = time()\n",
    "# q3 = copy(field2[:midpt,:midpt])\n",
    "# for i in irand:\n",
    "#     for j in jrand:\n",
    "#         q3[i,j] = field2_int(xx2[0,j], yy2[i,0] ,z2)\n",
    "# field2 = from_quadrant3(q3, field=field2)\n",
    "# print(f\"calculated field2 in {time()-t0} s\")"
   ]
  },
  {
   "cell_type": "markdown",
   "metadata": {},
   "source": [
    "## Talbot Plane Analysis"
   ]
  },
  {
   "cell_type": "code",
   "execution_count": 354,
   "metadata": {},
   "outputs": [],
   "source": [
    "## plot the field in the x2-z2 plane after lens 2. \n",
    "# could restrict to being on z-axis for a trap site\n",
    "\n",
    "Lx2 = (f2*dx/f1) # output array periodicity\n",
    "zTalbot = 2*Lx2**2/lmbda # Talbot length behind lens f2\n",
    "numxpts = 50\n",
    "numzpts = 5\n",
    "\n",
    "assert numxpts % 2 == 0, \"need even numxpts to be able to reflect field\"\n",
    "midx = int(numxpts/2)\n",
    "\n",
    "w = a*0.12 # 2 x 2 grid, dx = dy = 3*a, M = .03, gridwidth out ~ ((xnum-1)*d + a)*.03 = .12*a\n",
    "pts = 50\n",
    "\n",
    "xpts2 = linspace(-w, w, numxpts)\n",
    "zpts2 = linspace(f2 - 2*zTalbot, f2, numzpts) # plot two Talbot planes back from f2"
   ]
  },
  {
   "cell_type": "code",
   "execution_count": 356,
   "metadata": {},
   "outputs": [
    {
     "data": {
      "text/plain": [
       "12.687969924812029"
      ]
     },
     "execution_count": 356,
     "metadata": {},
     "output_type": "execute_result"
    }
   ],
   "source": [
    "zTalbot/w"
   ]
  },
  {
   "cell_type": "code",
   "execution_count": 351,
   "metadata": {},
   "outputs": [],
   "source": [
    "for i,x in enumerate(xpts2):\n",
    "    if x > 4.5e-6 and x < 5.5e-6:\n",
    "        print(i,x)"
   ]
  },
  {
   "cell_type": "code",
   "execution_count": 357,
   "metadata": {},
   "outputs": [
    {
     "name": "stdout",
     "output_type": "stream",
     "text": [
      "-1.2e-05 1.2e-05\n",
      "-1.2e-05 1.2e-05\n",
      "0.02969548872180451 0.03\n"
     ]
    }
   ],
   "source": [
    "print(min(xx2[0]), max(xx2[0]))\n",
    "print(min(xpts2), max(xpts2))\n",
    "print(min(zpts2), max(zpts2))"
   ]
  },
  {
   "cell_type": "code",
   "execution_count": 360,
   "metadata": {},
   "outputs": [],
   "source": [
    "# plot just slice in x for y = 5um, z = f2. \n",
    "# This comes out correctly.\n",
    "y2 = xpts2[35]\n",
    "z2 = f2\n",
    "\n",
    "xsoln = empty(numxpts, complex)\n",
    "for i in range(midx):\n",
    "    xsoln[i] = field2_int(xpts2[i], y2 ,z2)"
   ]
  },
  {
   "cell_type": "code",
   "execution_count": 339,
   "metadata": {},
   "outputs": [
    {
     "data": {
      "text/plain": [
       "(25, 25)"
      ]
     },
     "execution_count": 339,
     "metadata": {},
     "output_type": "execute_result"
    }
   ],
   "source": [
    "midpt,midx"
   ]
  },
  {
   "cell_type": "code",
   "execution_count": 361,
   "metadata": {
    "scrolled": true
   },
   "outputs": [
    {
     "data": {
      "text/plain": [
       "[<matplotlib.lines.Line2D at 0x14791d0c080>]"
      ]
     },
     "execution_count": 361,
     "metadata": {},
     "output_type": "execute_result"
    },
    {
     "data": {
      "image/png": "[encoded data removed]",
      "text/plain": [
       "<Figure size 432x288 with 1 Axes>"
      ]
     },
     "metadata": {
      "needs_background": "light"
     },
     "output_type": "display_data"
    }
   ],
   "source": [
    "xsoln[midpt:] = flip(xsoln[:midpt])\n",
    "ix2soln = conjugate(xsoln)*xsoln\n",
    "ix2soln /= max(ix2soln)\n",
    "plt.plot(xpts2/a, ix2soln)"
   ]
  },
  {
   "cell_type": "code",
   "execution_count": 390,
   "metadata": {
    "scrolled": true
   },
   "outputs": [
    {
     "name": "stdout",
     "output_type": "stream",
     "text": [
      "zstep 0, time=17.79089879989624 s\n",
      "zstep 1, time=11.843271493911743 s\n",
      "zstep 2, time=7.528841495513916 s\n",
      "zstep 3, time=4.428385496139526 s\n",
      "zstep 4, time=4.378575325012207 s\n"
     ]
    }
   ],
   "source": [
    "### take code for slice above, and build multiple slices at different z\n",
    "\n",
    "y2 = xpts2[35]\n",
    "z2 = f2\n",
    "\n",
    "xsolns = []\n",
    "\n",
    "for j in range(numzpts):\n",
    "    t0 = time()\n",
    "    xsoln = empty(numxpts, complex)\n",
    "    for i in range(midpt): # loop \n",
    "        xsoln[i] = field2_int(xpts2[i], y2 ,zpts2[j])\n",
    "    xsolns.append(xsoln)\n",
    "    print(f\"zstep {j}, time={(time()-t0)} s\")"
   ]
  },
  {
   "cell_type": "code",
   "execution_count": 392,
   "metadata": {
    "scrolled": true
   },
   "outputs": [
    {
     "data": {
      "image/png": "[encoded data removed]",
      "text/plain": [
       "<Figure size 432x288 with 1 Axes>"
      ]
     },
     "metadata": {
      "needs_background": "light"
     },
     "output_type": "display_data"
    }
   ],
   "source": [
    "for j in range(numzpts):\n",
    "    xsoln = array(xsolns[j])\n",
    "    xsoln[midx:] = flip(xsoln[:midx])\n",
    "    ix2soln = conjugate(xsoln)*xsoln\n",
    "    ix2soln /= max(ix2soln)\n",
    "    plt.plot(xpts2, ix2soln, label=f'zstep {j}')\n",
    "plt.legend()\n",
    "# plt.savefig('xz_slices_output_field.png')"
   ]
  },
  {
   "cell_type": "code",
   "execution_count": 439,
   "metadata": {},
   "outputs": [
    {
     "data": {
      "text/plain": [
       "(8.105511673299568e+16+0j)"
      ]
     },
     "execution_count": 439,
     "metadata": {},
     "output_type": "execute_result"
    }
   ],
   "source": [
    "max(conjugate(xsoln)*xsoln)"
   ]
  },
  {
   "cell_type": "code",
   "execution_count": 403,
   "metadata": {},
   "outputs": [],
   "source": [
    "## plot the field in the x2-z2 plane after lens 2. \n",
    "# could restrict to being on z-axis for a trap site\n",
    "\n",
    "Lx2 = (f2*dx/f1) # output array periodicity (big *I think* here)\n",
    "zTalbot = 2*Lx2**2/lmbda # Talbot length behind lens f2\n",
    "numxpts = 50\n",
    "numzpts = 600\n",
    "\n",
    "assert numxpts % 2 == 0, \"need even numxpts to be able to reflect field\"\n",
    "midx = int(numxpts/2)\n",
    "\n",
    "w = a*0.12 # 2 x 2 grid, dx = dy = 3*a, M = .03, gridwidth out ~ ((xnum-1)*d + a)*.03 = .12*a\n",
    "pts = 50\n",
    "\n",
    "xpts2 = linspace(-w, w, numxpts)\n",
    "zpts2 = linspace(f2 - 2*zTalbot, f2, numzpts) # plot two Talbot planes back from f2"
   ]
  },
  {
   "cell_type": "code",
   "execution_count": 404,
   "metadata": {},
   "outputs": [
    {
     "data": {
      "text/plain": [
       "12.687969924812029"
      ]
     },
     "execution_count": 404,
     "metadata": {},
     "output_type": "execute_result"
    }
   ],
   "source": [
    "zTalbot/w"
   ]
  },
  {
   "cell_type": "code",
   "execution_count": 405,
   "metadata": {
    "collapsed": true
   },
   "outputs": [
    {
     "name": "stdout",
     "output_type": "stream",
     "text": [
      "zstep 0, time=19.264675617218018 s\n",
      "zstep 1, time=19.527354955673218 s\n",
      "zstep 2, time=20.589750051498413 s\n",
      "zstep 3, time=18.094153881072998 s\n",
      "zstep 4, time=18.505687952041626 s\n",
      "zstep 5, time=17.728771924972534 s\n",
      "zstep 6, time=17.780060529708862 s\n",
      "zstep 7, time=17.790785312652588 s\n",
      "zstep 8, time=17.61815118789673 s\n",
      "zstep 9, time=17.57240605354309 s\n",
      "zstep 10, time=17.671285152435303 s\n",
      "zstep 11, time=17.594409942626953 s\n",
      "zstep 12, time=17.479060411453247 s\n",
      "zstep 13, time=17.267296075820923 s\n",
      "zstep 14, time=17.365814208984375 s\n",
      "zstep 15, time=17.305541515350342 s\n",
      "zstep 16, time=17.360286474227905 s\n",
      "zstep 17, time=18.16094446182251 s\n",
      "zstep 18, time=19.913479804992676 s\n",
      "zstep 19, time=16.95213556289673 s\n",
      "zstep 20, time=16.902190923690796 s\n",
      "zstep 21, time=16.678752422332764 s\n",
      "zstep 22, time=16.724464178085327 s\n",
      "zstep 23, time=16.84801149368286 s\n",
      "zstep 24, time=16.615981340408325 s\n",
      "zstep 25, time=16.589365005493164 s\n",
      "zstep 26, time=16.45965337753296 s\n",
      "zstep 27, time=16.443513870239258 s\n",
      "zstep 28, time=16.487897872924805 s\n",
      "zstep 29, time=16.539291381835938 s\n",
      "zstep 30, time=16.831918239593506 s\n",
      "zstep 31, time=16.619450330734253 s\n",
      "zstep 32, time=22.353838682174683 s\n",
      "zstep 33, time=16.61316967010498 s\n",
      "zstep 34, time=18.57105040550232 s\n",
      "zstep 35, time=19.80722165107727 s\n",
      "zstep 36, time=17.153841018676758 s\n",
      "zstep 37, time=17.02858877182007 s\n",
      "zstep 38, time=16.645715475082397 s\n",
      "zstep 39, time=16.513766527175903 s\n",
      "zstep 40, time=16.339637756347656 s\n",
      "zstep 41, time=16.337927103042603 s\n",
      "zstep 42, time=16.26999855041504 s\n",
      "zstep 43, time=16.86164951324463 s\n",
      "zstep 44, time=16.57462215423584 s\n",
      "zstep 45, time=18.749908924102783 s\n",
      "zstep 46, time=17.63813829421997 s\n",
      "zstep 47, time=19.63211417198181 s\n",
      "zstep 48, time=16.0293231010437 s\n",
      "zstep 49, time=19.519871950149536 s\n",
      "zstep 50, time=17.12708306312561 s\n",
      "zstep 51, time=17.161827325820923 s\n",
      "zstep 52, time=17.01627516746521 s\n",
      "zstep 53, time=19.376643657684326 s\n",
      "zstep 54, time=17.760334968566895 s\n",
      "zstep 55, time=18.817086458206177 s\n",
      "zstep 56, time=19.38202691078186 s\n",
      "zstep 57, time=19.782418727874756 s\n",
      "zstep 58, time=19.505861282348633 s\n",
      "zstep 59, time=18.94861078262329 s\n",
      "zstep 60, time=19.147233486175537 s\n",
      "zstep 61, time=21.593597650527954 s\n",
      "zstep 62, time=24.051284313201904 s\n",
      "zstep 63, time=22.490902185440063 s\n",
      "zstep 64, time=23.04281497001648 s\n",
      "zstep 65, time=20.27688694000244 s\n",
      "zstep 66, time=19.96862506866455 s\n",
      "zstep 67, time=19.33810830116272 s\n",
      "zstep 68, time=21.99246859550476 s\n",
      "zstep 69, time=22.60755491256714 s\n",
      "zstep 70, time=21.59706997871399 s\n",
      "zstep 71, time=20.763628244400024 s\n",
      "zstep 72, time=19.61849045753479 s\n",
      "zstep 73, time=20.273544788360596 s\n",
      "zstep 74, time=23.230133295059204 s\n",
      "zstep 75, time=19.56176447868347 s\n",
      "zstep 76, time=19.839285373687744 s\n",
      "zstep 77, time=20.290984869003296 s\n",
      "zstep 78, time=16.391615867614746 s\n",
      "zstep 79, time=18.01647710800171 s\n",
      "zstep 80, time=16.060732126235962 s\n",
      "zstep 81, time=16.593522548675537 s\n",
      "zstep 82, time=17.49862241744995 s\n",
      "zstep 83, time=17.033119440078735 s\n",
      "zstep 84, time=18.009262561798096 s\n",
      "zstep 85, time=15.8081374168396 s\n",
      "zstep 86, time=16.01759386062622 s\n",
      "zstep 87, time=17.704078197479248 s\n",
      "zstep 88, time=15.638234853744507 s\n",
      "zstep 89, time=15.063857078552246 s\n",
      "zstep 90, time=15.665581703186035 s\n",
      "zstep 91, time=15.29480791091919 s\n",
      "zstep 92, time=16.333699226379395 s\n",
      "zstep 93, time=16.253825664520264 s\n",
      "zstep 94, time=16.736610651016235 s\n",
      "zstep 95, time=16.59231734275818 s\n",
      "zstep 96, time=17.189088344573975 s\n",
      "zstep 97, time=16.924236059188843 s\n",
      "zstep 98, time=16.162054538726807 s\n",
      "zstep 99, time=14.788508653640747 s\n",
      "zstep 100, time=16.36920738220215 s\n",
      "zstep 101, time=14.293370723724365 s\n",
      "zstep 102, time=15.826775550842285 s\n",
      "zstep 103, time=14.865227699279785 s\n",
      "zstep 104, time=14.77774691581726 s\n",
      "zstep 105, time=14.501206636428833 s\n",
      "zstep 106, time=14.841989517211914 s\n",
      "zstep 107, time=14.233789920806885 s\n",
      "zstep 108, time=15.606445789337158 s\n",
      "zstep 109, time=14.760980129241943 s\n",
      "zstep 110, time=15.124298095703125 s\n",
      "zstep 111, time=13.762325525283813 s\n",
      "zstep 112, time=13.695651769638062 s\n",
      "zstep 113, time=13.711247682571411 s\n",
      "zstep 114, time=13.7027587890625 s\n",
      "zstep 115, time=14.182818412780762 s\n",
      "zstep 116, time=15.043085098266602 s\n",
      "zstep 117, time=18.91166114807129 s\n",
      "zstep 118, time=21.988102912902832 s\n",
      "zstep 119, time=21.842539072036743 s\n",
      "zstep 120, time=22.10029673576355 s\n",
      "zstep 121, time=22.06800389289856 s\n",
      "zstep 122, time=22.178030014038086 s\n",
      "zstep 123, time=19.586498260498047 s\n",
      "zstep 124, time=17.712976694107056 s\n",
      "zstep 125, time=19.20284366607666 s\n",
      "zstep 126, time=19.410056114196777 s\n",
      "zstep 127, time=19.488201379776 s\n",
      "zstep 128, time=20.257158279418945 s\n",
      "zstep 129, time=21.640631675720215 s\n",
      "zstep 130, time=21.413038730621338 s\n",
      "zstep 131, time=26.524853467941284 s\n",
      "zstep 132, time=18.48034358024597 s\n",
      "zstep 133, time=18.224905014038086 s\n",
      "zstep 134, time=17.85161590576172 s\n",
      "zstep 135, time=16.774423837661743 s\n",
      "zstep 136, time=17.751362085342407 s\n",
      "zstep 137, time=16.848337173461914 s\n",
      "zstep 138, time=19.662498474121094 s\n",
      "zstep 139, time=18.30290150642395 s\n",
      "zstep 140, time=17.462024211883545 s\n",
      "zstep 141, time=17.201106548309326 s\n",
      "zstep 142, time=16.856844186782837 s\n",
      "zstep 143, time=17.638171195983887 s\n",
      "zstep 144, time=16.88799810409546 s\n",
      "zstep 145, time=19.2294979095459 s\n",
      "zstep 146, time=20.360459089279175 s\n",
      "zstep 147, time=20.313859462738037 s\n",
      "zstep 148, time=19.673969984054565 s\n",
      "zstep 149, time=20.32398223876953 s\n",
      "zstep 150, time=18.469539165496826 s\n",
      "zstep 151, time=16.8705735206604 s\n",
      "zstep 152, time=19.662556409835815 s\n",
      "zstep 153, time=21.030555486679077 s\n",
      "zstep 154, time=20.412283897399902 s\n",
      "zstep 155, time=20.103721618652344 s\n",
      "zstep 156, time=21.664489030838013 s\n",
      "zstep 157, time=20.651397228240967 s\n",
      "zstep 158, time=17.077985763549805 s\n",
      "zstep 159, time=19.12037682533264 s\n",
      "zstep 160, time=22.394139766693115 s\n",
      "zstep 161, time=21.528498649597168 s\n",
      "zstep 162, time=21.563644647598267 s\n",
      "zstep 163, time=20.560996294021606 s\n",
      "zstep 164, time=17.259350538253784 s\n",
      "zstep 165, time=17.369118213653564 s\n",
      "zstep 166, time=17.218510150909424 s\n",
      "zstep 167, time=18.30282235145569 s\n",
      "zstep 168, time=17.993541717529297 s\n",
      "zstep 169, time=19.076802253723145 s\n",
      "zstep 170, time=19.272440910339355 s\n",
      "zstep 171, time=21.793075799942017 s\n",
      "zstep 172, time=20.94591736793518 s\n",
      "zstep 173, time=19.935168743133545 s\n",
      "zstep 174, time=20.37043070793152 s\n",
      "zstep 175, time=20.450547218322754 s\n",
      "zstep 176, time=21.080432891845703 s\n",
      "zstep 177, time=18.8963406085968 s\n",
      "zstep 178, time=18.590209245681763 s\n",
      "zstep 179, time=18.516637325286865 s\n",
      "zstep 180, time=18.4258394241333 s\n",
      "zstep 181, time=17.790825366973877 s\n",
      "zstep 182, time=18.556955099105835 s\n",
      "zstep 183, time=18.022890090942383 s\n",
      "zstep 184, time=18.037356853485107 s\n",
      "zstep 185, time=17.74537754058838 s\n",
      "zstep 186, time=17.58991765975952 s\n",
      "zstep 187, time=16.950891256332397 s\n",
      "zstep 188, time=17.11638379096985 s\n",
      "zstep 189, time=17.642931699752808 s\n",
      "zstep 190, time=18.287598371505737 s\n",
      "zstep 191, time=17.819414377212524 s\n",
      "zstep 192, time=17.91081666946411 s\n",
      "zstep 193, time=19.534180879592896 s\n",
      "zstep 194, time=17.118353128433228 s\n",
      "zstep 195, time=17.610601663589478 s\n",
      "zstep 196, time=21.47487235069275 s\n",
      "zstep 197, time=18.13225293159485 s\n",
      "zstep 198, time=17.45665717124939 s\n",
      "zstep 199, time=18.277125597000122 s\n",
      "zstep 200, time=17.963335514068604 s\n",
      "zstep 201, time=23.402028560638428 s\n",
      "zstep 202, time=19.53069281578064 s\n",
      "zstep 203, time=17.40971279144287 s\n",
      "zstep 204, time=15.767911195755005 s\n",
      "zstep 205, time=15.128779649734497 s\n",
      "zstep 206, time=13.478167057037354 s\n",
      "zstep 207, time=15.54447627067566 s\n",
      "zstep 208, time=14.575398445129395 s\n",
      "zstep 209, time=15.372129917144775 s\n",
      "zstep 210, time=15.877187728881836 s\n",
      "zstep 211, time=16.14487314224243 s\n",
      "zstep 212, time=15.678558349609375 s\n",
      "zstep 213, time=13.701347351074219 s\n",
      "zstep 214, time=13.687355518341064 s\n",
      "zstep 215, time=15.046388626098633 s\n",
      "zstep 216, time=16.34680199623108 s\n",
      "zstep 217, time=16.049872875213623 s\n",
      "zstep 218, time=14.073914766311646 s\n",
      "zstep 219, time=15.513737916946411 s\n",
      "zstep 220, time=15.267911911010742 s\n",
      "zstep 221, time=15.292474746704102 s\n",
      "zstep 222, time=15.168739795684814 s\n",
      "zstep 223, time=15.230417251586914 s\n",
      "zstep 224, time=14.845816135406494 s\n",
      "zstep 225, time=15.722445011138916 s\n",
      "zstep 226, time=15.39389967918396 s\n"
     ]
    },
    {
     "name": "stdout",
     "output_type": "stream",
     "text": [
      "zstep 227, time=15.724935054779053 s\n",
      "zstep 228, time=15.009477615356445 s\n",
      "zstep 229, time=16.410096883773804 s\n",
      "zstep 230, time=14.817421197891235 s\n",
      "zstep 231, time=14.875168561935425 s\n",
      "zstep 232, time=15.183536767959595 s\n",
      "zstep 233, time=15.235808372497559 s\n",
      "zstep 234, time=13.967236995697021 s\n",
      "zstep 235, time=17.612149000167847 s\n",
      "zstep 236, time=15.097235918045044 s\n",
      "zstep 237, time=14.201696395874023 s\n",
      "zstep 238, time=14.455277919769287 s\n",
      "zstep 239, time=13.944109439849854 s\n",
      "zstep 240, time=13.886813640594482 s\n",
      "zstep 241, time=14.15045952796936 s\n",
      "zstep 242, time=13.89793348312378 s\n",
      "zstep 243, time=13.827560663223267 s\n",
      "zstep 244, time=13.818050384521484 s\n",
      "zstep 245, time=14.155787706375122 s\n",
      "zstep 246, time=13.6432363986969 s\n",
      "zstep 247, time=17.710190296173096 s\n",
      "zstep 248, time=14.215887784957886 s\n",
      "zstep 249, time=14.170905828475952 s\n",
      "zstep 250, time=13.744799852371216 s\n",
      "zstep 251, time=12.96414303779602 s\n",
      "zstep 252, time=13.014806270599365 s\n",
      "zstep 253, time=14.354986906051636 s\n",
      "zstep 254, time=15.126925230026245 s\n",
      "zstep 255, time=13.571071863174438 s\n",
      "zstep 256, time=13.956092119216919 s\n",
      "zstep 257, time=13.357270002365112 s\n",
      "zstep 258, time=13.463002920150757 s\n",
      "zstep 259, time=13.446488618850708 s\n",
      "zstep 260, time=13.407685995101929 s\n",
      "zstep 261, time=14.060825109481812 s\n",
      "zstep 262, time=13.069831132888794 s\n",
      "zstep 263, time=13.222313642501831 s\n",
      "zstep 264, time=13.23589301109314 s\n",
      "zstep 265, time=13.06871485710144 s\n",
      "zstep 266, time=12.9850914478302 s\n",
      "zstep 267, time=12.374744415283203 s\n",
      "zstep 268, time=13.012114524841309 s\n",
      "zstep 269, time=13.30888319015503 s\n",
      "zstep 270, time=13.991732597351074 s\n",
      "zstep 271, time=13.837248802185059 s\n",
      "zstep 272, time=14.150302171707153 s\n",
      "zstep 273, time=13.814558744430542 s\n",
      "zstep 274, time=13.73307490348816 s\n",
      "zstep 275, time=14.0621976852417 s\n",
      "zstep 276, time=13.909298658370972 s\n",
      "zstep 277, time=13.743836641311646 s\n",
      "zstep 278, time=13.85247802734375 s\n",
      "zstep 279, time=13.496914148330688 s\n",
      "zstep 280, time=13.470081329345703 s\n",
      "zstep 281, time=13.413495302200317 s\n",
      "zstep 282, time=13.170159816741943 s\n",
      "zstep 283, time=13.358117580413818 s\n",
      "zstep 284, time=13.606077909469604 s\n",
      "zstep 285, time=13.664779424667358 s\n",
      "zstep 286, time=13.773114442825317 s\n",
      "zstep 287, time=13.361693859100342 s\n",
      "zstep 288, time=12.984885454177856 s\n",
      "zstep 289, time=13.199354887008667 s\n",
      "zstep 290, time=12.66103982925415 s\n",
      "zstep 291, time=12.659399509429932 s\n",
      "zstep 292, time=12.452649354934692 s\n",
      "zstep 293, time=12.716691255569458 s\n",
      "zstep 294, time=12.3685462474823 s\n",
      "zstep 295, time=12.616508960723877 s\n",
      "zstep 296, time=12.12804889678955 s\n",
      "zstep 297, time=11.827111721038818 s\n",
      "zstep 298, time=12.290103912353516 s\n",
      "zstep 299, time=12.406052112579346 s\n",
      "zstep 300, time=12.935633897781372 s\n",
      "zstep 301, time=12.793528079986572 s\n",
      "zstep 302, time=12.565583229064941 s\n",
      "zstep 303, time=12.914164543151855 s\n",
      "zstep 304, time=12.778956651687622 s\n",
      "zstep 305, time=13.630099773406982 s\n",
      "zstep 306, time=13.054396629333496 s\n",
      "zstep 307, time=12.956251859664917 s\n",
      "zstep 308, time=12.892408847808838 s\n",
      "zstep 309, time=13.052633047103882 s\n",
      "zstep 310, time=13.229959487915039 s\n",
      "zstep 311, time=12.949798583984375 s\n",
      "zstep 312, time=12.224673986434937 s\n",
      "zstep 313, time=10.837865352630615 s\n",
      "zstep 314, time=11.69762897491455 s\n",
      "zstep 315, time=11.051178455352783 s\n",
      "zstep 316, time=10.229890584945679 s\n",
      "zstep 317, time=11.142257452011108 s\n",
      "zstep 318, time=10.855438709259033 s\n",
      "zstep 319, time=12.266422033309937 s\n",
      "zstep 320, time=12.559698104858398 s\n",
      "zstep 321, time=12.368252038955688 s\n",
      "zstep 322, time=10.718196392059326 s\n",
      "zstep 323, time=12.284133434295654 s\n",
      "zstep 324, time=10.527467250823975 s\n",
      "zstep 325, time=10.289283037185669 s\n",
      "zstep 326, time=11.383404970169067 s\n",
      "zstep 327, time=12.11420202255249 s\n",
      "zstep 328, time=12.292476415634155 s\n",
      "zstep 329, time=11.323307514190674 s\n",
      "zstep 330, time=11.684860229492188 s\n",
      "zstep 331, time=12.228358507156372 s\n",
      "zstep 332, time=11.686909675598145 s\n",
      "zstep 333, time=12.282847166061401 s\n",
      "zstep 334, time=12.516643762588501 s\n",
      "zstep 335, time=12.093900442123413 s\n",
      "zstep 336, time=11.914414167404175 s\n",
      "zstep 337, time=11.800894975662231 s\n",
      "zstep 338, time=12.152874231338501 s\n",
      "zstep 339, time=11.873576641082764 s\n",
      "zstep 340, time=11.96324610710144 s\n",
      "zstep 341, time=12.32190227508545 s\n",
      "zstep 342, time=10.489656448364258 s\n",
      "zstep 343, time=11.139582633972168 s\n",
      "zstep 344, time=11.635390520095825 s\n",
      "zstep 345, time=10.967435359954834 s\n",
      "zstep 346, time=10.798172235488892 s\n",
      "zstep 347, time=11.410836458206177 s\n",
      "zstep 348, time=11.967994451522827 s\n",
      "zstep 349, time=12.087937831878662 s\n",
      "zstep 350, time=10.06407642364502 s\n",
      "zstep 351, time=10.920038223266602 s\n",
      "zstep 352, time=11.164315223693848 s\n",
      "zstep 353, time=11.285432577133179 s\n",
      "zstep 354, time=11.12928819656372 s\n",
      "zstep 355, time=11.341130018234253 s\n",
      "zstep 356, time=11.586066246032715 s\n",
      "zstep 357, time=10.969493865966797 s\n",
      "zstep 358, time=6.797456502914429 s\n",
      "zstep 359, time=6.5797202587127686 s\n",
      "zstep 360, time=6.435302734375 s\n",
      "zstep 361, time=6.490668058395386 s\n",
      "zstep 362, time=6.512883424758911 s\n",
      "zstep 363, time=6.425562620162964 s\n",
      "zstep 364, time=6.38104772567749 s\n",
      "zstep 365, time=6.331015110015869 s\n",
      "zstep 366, time=6.4392640590667725 s\n",
      "zstep 367, time=6.386826276779175 s\n",
      "zstep 368, time=6.270431280136108 s\n",
      "zstep 369, time=6.1421425342559814 s\n",
      "zstep 370, time=6.188625335693359 s\n",
      "zstep 371, time=6.2206711769104 s\n",
      "zstep 372, time=6.200497388839722 s\n",
      "zstep 373, time=6.122129917144775 s\n",
      "zstep 374, time=6.424563407897949 s\n",
      "zstep 375, time=6.171514987945557 s\n",
      "zstep 376, time=6.136556625366211 s\n",
      "zstep 377, time=6.333876848220825 s\n",
      "zstep 378, time=6.685999393463135 s\n",
      "zstep 379, time=6.884022951126099 s\n",
      "zstep 380, time=6.534132957458496 s\n",
      "zstep 381, time=6.375352382659912 s\n",
      "zstep 382, time=6.942483901977539 s\n",
      "zstep 383, time=7.188688278198242 s\n",
      "zstep 384, time=6.203790903091431 s\n",
      "zstep 385, time=6.790601968765259 s\n",
      "zstep 386, time=6.185383319854736 s\n",
      "zstep 387, time=6.157945156097412 s\n",
      "zstep 388, time=5.978972673416138 s\n",
      "zstep 389, time=5.823525667190552 s\n",
      "zstep 390, time=6.349153280258179 s\n",
      "zstep 391, time=7.149435520172119 s\n",
      "zstep 392, time=6.003657341003418 s\n",
      "zstep 393, time=5.933506488800049 s\n",
      "zstep 394, time=5.936442613601685 s\n",
      "zstep 395, time=5.864382982254028 s\n",
      "zstep 396, time=5.9269373416900635 s\n",
      "zstep 397, time=5.8938446044921875 s\n",
      "zstep 398, time=5.769425392150879 s\n",
      "zstep 399, time=5.773964166641235 s\n",
      "zstep 400, time=6.151121139526367 s\n",
      "zstep 401, time=7.06814980506897 s\n",
      "zstep 402, time=7.087954998016357 s\n",
      "zstep 403, time=6.9558234214782715 s\n",
      "zstep 404, time=6.256396293640137 s\n",
      "zstep 405, time=6.202412366867065 s\n",
      "zstep 406, time=5.320223569869995 s\n",
      "zstep 407, time=5.3339903354644775 s\n",
      "zstep 408, time=5.775851726531982 s\n",
      "zstep 409, time=5.904152154922485 s\n",
      "zstep 410, time=6.034691095352173 s\n",
      "zstep 411, time=5.160413026809692 s\n",
      "zstep 412, time=5.696715354919434 s\n",
      "zstep 413, time=5.0352463722229 s\n",
      "zstep 414, time=5.89870810508728 s\n",
      "zstep 415, time=5.129605770111084 s\n",
      "zstep 416, time=5.056446313858032 s\n",
      "zstep 417, time=5.206313371658325 s\n",
      "zstep 418, time=4.9838786125183105 s\n",
      "zstep 419, time=4.88058614730835 s\n",
      "zstep 420, time=5.995091199874878 s\n",
      "zstep 421, time=5.28484845161438 s\n",
      "zstep 422, time=4.993962526321411 s\n",
      "zstep 423, time=5.2166972160339355 s\n",
      "zstep 424, time=4.839905261993408 s\n",
      "zstep 425, time=4.8718109130859375 s\n",
      "zstep 426, time=4.996042251586914 s\n",
      "zstep 427, time=4.598295211791992 s\n",
      "zstep 428, time=4.602398157119751 s\n",
      "zstep 429, time=4.486239910125732 s\n",
      "zstep 430, time=4.471678972244263 s\n",
      "zstep 431, time=4.4793853759765625 s\n",
      "zstep 432, time=4.493019342422485 s\n",
      "zstep 433, time=4.693968296051025 s\n",
      "zstep 434, time=4.406046628952026 s\n",
      "zstep 435, time=4.46329140663147 s\n",
      "zstep 436, time=4.490859270095825 s\n",
      "zstep 437, time=4.430967569351196 s\n",
      "zstep 438, time=4.515304088592529 s\n",
      "zstep 439, time=4.514249563217163 s\n",
      "zstep 440, time=4.47813081741333 s\n",
      "zstep 441, time=4.440850257873535 s\n",
      "zstep 442, time=4.617920637130737 s\n",
      "zstep 443, time=4.532332897186279 s\n",
      "zstep 444, time=4.490694999694824 s\n",
      "zstep 445, time=5.313719034194946 s\n",
      "zstep 446, time=5.326797723770142 s\n",
      "zstep 447, time=5.658562183380127 s\n",
      "zstep 448, time=5.019522190093994 s\n",
      "zstep 449, time=4.649013519287109 s\n",
      "zstep 450, time=4.497151851654053 s\n",
      "zstep 451, time=4.987142562866211 s\n"
     ]
    },
    {
     "name": "stdout",
     "output_type": "stream",
     "text": [
      "zstep 452, time=4.507375955581665 s\n",
      "zstep 453, time=4.574695348739624 s\n",
      "zstep 454, time=5.41656494140625 s\n",
      "zstep 455, time=5.0390167236328125 s\n",
      "zstep 456, time=4.742221355438232 s\n",
      "zstep 457, time=4.687275648117065 s\n",
      "zstep 458, time=4.584325790405273 s\n",
      "zstep 459, time=4.581415414810181 s\n",
      "zstep 460, time=4.615379810333252 s\n",
      "zstep 461, time=5.372358083724976 s\n",
      "zstep 462, time=5.63430643081665 s\n",
      "zstep 463, time=5.38444447517395 s\n",
      "zstep 464, time=5.495164394378662 s\n",
      "zstep 465, time=5.0560142993927 s\n",
      "zstep 466, time=4.396779298782349 s\n",
      "zstep 467, time=4.642082929611206 s\n",
      "zstep 468, time=4.673250436782837 s\n",
      "zstep 469, time=4.316602468490601 s\n",
      "zstep 470, time=4.739736080169678 s\n",
      "zstep 471, time=4.371904611587524 s\n",
      "zstep 472, time=4.727997779846191 s\n",
      "zstep 473, time=4.422386884689331 s\n",
      "zstep 474, time=4.515505075454712 s\n",
      "zstep 475, time=4.383280038833618 s\n",
      "zstep 476, time=4.246642827987671 s\n",
      "zstep 477, time=4.310540676116943 s\n",
      "zstep 478, time=4.111006736755371 s\n",
      "zstep 479, time=4.265593767166138 s\n",
      "zstep 480, time=4.155885457992554 s\n",
      "zstep 481, time=4.275568008422852 s\n",
      "zstep 482, time=4.376297235488892 s\n",
      "zstep 483, time=4.207749605178833 s\n",
      "zstep 484, time=4.2855384349823 s\n",
      "zstep 485, time=4.21173882484436 s\n",
      "zstep 486, time=4.167856454849243 s\n",
      "zstep 487, time=4.2556211948394775 s\n",
      "zstep 488, time=4.1858062744140625 s\n",
      "zstep 489, time=4.17383885383606 s\n",
      "zstep 490, time=4.1558873653411865 s\n",
      "zstep 491, time=4.81968355178833 s\n",
      "zstep 492, time=4.209743499755859 s\n",
      "zstep 493, time=4.155885219573975 s\n",
      "zstep 494, time=4.24365234375 s\n",
      "zstep 495, time=4.2765655517578125 s\n",
      "zstep 496, time=4.207740068435669 s\n",
      "zstep 497, time=4.20675253868103 s\n",
      "zstep 498, time=4.130987882614136 s\n",
      "zstep 499, time=4.120944976806641 s\n",
      "zstep 500, time=4.2635979652404785 s\n",
      "zstep 501, time=4.431152105331421 s\n",
      "zstep 502, time=4.296509742736816 s\n",
      "zstep 503, time=4.204757928848267 s\n",
      "zstep 504, time=4.160871982574463 s\n",
      "zstep 505, time=4.185084104537964 s\n",
      "zstep 506, time=4.439128398895264 s\n",
      "zstep 507, time=4.106020212173462 s\n",
      "zstep 508, time=4.132947206497192 s\n",
      "zstep 509, time=4.232682943344116 s\n",
      "zstep 510, time=4.29950213432312 s\n",
      "zstep 511, time=4.2655932903289795 s\n",
      "zstep 512, time=4.239664316177368 s\n",
      "zstep 513, time=4.231685638427734 s\n",
      "zstep 514, time=4.1718456745147705 s\n",
      "zstep 515, time=4.3563501834869385 s\n",
      "zstep 516, time=4.483010530471802 s\n",
      "zstep 517, time=4.224703550338745 s\n",
      "zstep 518, time=4.085077524185181 s\n",
      "zstep 519, time=4.068687915802002 s\n",
      "zstep 520, time=4.371311664581299 s\n",
      "zstep 521, time=4.1708455085754395 s\n",
      "zstep 522, time=4.150901794433594 s\n",
      "zstep 523, time=5.180147886276245 s\n",
      "zstep 524, time=4.614660263061523 s\n",
      "zstep 525, time=4.956745624542236 s\n",
      "zstep 526, time=5.07144021987915 s\n",
      "zstep 527, time=4.961733818054199 s\n",
      "zstep 528, time=5.37462592124939 s\n",
      "zstep 529, time=4.1199822425842285 s\n",
      "zstep 530, time=4.320448875427246 s\n",
      "zstep 531, time=4.805153131484985 s\n",
      "zstep 532, time=4.621639013290405 s\n",
      "zstep 533, time=4.273571968078613 s\n",
      "zstep 534, time=4.150900363922119 s\n",
      "zstep 535, time=4.130953073501587 s\n",
      "zstep 536, time=4.237668752670288 s\n",
      "zstep 537, time=4.268585443496704 s\n",
      "zstep 538, time=4.06911826133728 s\n",
      "zstep 539, time=4.002297401428223 s\n",
      "zstep 540, time=5.014642000198364 s\n",
      "zstep 541, time=4.7114012241363525 s\n",
      "zstep 542, time=4.858009099960327 s\n",
      "zstep 543, time=4.894909858703613 s\n",
      "zstep 544, time=5.017596006393433 s\n",
      "zstep 545, time=5.14723801612854 s\n",
      "zstep 546, time=4.436130046844482 s\n",
      "zstep 547, time=4.3224663734436035 s\n",
      "zstep 548, time=4.110010147094727 s\n",
      "zstep 549, time=4.242655038833618 s\n",
      "zstep 550, time=4.019257068634033 s\n",
      "zstep 551, time=4.004328966140747 s\n",
      "zstep 552, time=4.029226303100586 s\n",
      "zstep 553, time=4.0561535358428955 s\n",
      "zstep 554, time=4.048175096511841 s\n",
      "zstep 555, time=4.057149410247803 s\n",
      "zstep 556, time=4.308480501174927 s\n",
      "zstep 557, time=4.0761003494262695 s\n",
      "zstep 558, time=3.9484429359436035 s\n",
      "zstep 559, time=4.133981466293335 s\n",
      "zstep 560, time=4.086605548858643 s\n",
      "zstep 561, time=4.098042726516724 s\n",
      "zstep 562, time=4.059145450592041 s\n",
      "zstep 563, time=4.137933254241943 s\n",
      "zstep 564, time=4.252630233764648 s\n",
      "zstep 565, time=4.799165487289429 s\n",
      "zstep 566, time=4.154889345169067 s\n",
      "zstep 567, time=4.438133478164673 s\n",
      "zstep 568, time=4.380286931991577 s\n",
      "zstep 569, time=4.515474319458008 s\n",
      "zstep 570, time=5.088390588760376 s\n",
      "zstep 571, time=4.956745386123657 s\n",
      "zstep 572, time=4.825099229812622 s\n",
      "zstep 573, time=5.073481798171997 s\n",
      "zstep 574, time=5.359652042388916 s\n",
      "zstep 575, time=5.472366571426392 s\n",
      "zstep 576, time=4.600687026977539 s\n",
      "zstep 577, time=4.362334251403809 s\n",
      "zstep 578, time=4.1878015995025635 s\n",
      "zstep 579, time=4.786201000213623 s\n",
      "zstep 580, time=4.94477915763855 s\n",
      "zstep 581, time=4.351363897323608 s\n",
      "zstep 582, time=4.3882975578308105 s\n",
      "zstep 583, time=4.3682801723480225 s\n",
      "zstep 584, time=4.544848442077637 s\n",
      "zstep 585, time=4.340393543243408 s\n",
      "zstep 586, time=4.5183844566345215 s\n",
      "zstep 587, time=4.336402654647827 s\n",
      "zstep 588, time=4.478025674819946 s\n",
      "zstep 589, time=4.407215118408203 s\n",
      "zstep 590, time=4.49797248840332 s\n",
      "zstep 591, time=4.550832271575928 s\n",
      "zstep 592, time=4.5149266719818115 s\n",
      "zstep 593, time=4.432148456573486 s\n",
      "zstep 594, time=4.454089879989624 s\n",
      "zstep 595, time=4.477027177810669 s\n",
      "zstep 596, time=4.495974779129028 s\n",
      "zstep 597, time=4.854022264480591 s\n",
      "zstep 598, time=4.59271764755249 s\n",
      "zstep 599, time=4.56286358833313 s\n",
      "total time=6961.610188245773\n"
     ]
    }
   ],
   "source": [
    "## now make a contour plot in x2-z2 plane\n",
    "# seems like this works. up the z pts\n",
    "\n",
    "y2 = xpts2[35]\n",
    "z2 = f2\n",
    "\n",
    "fieldxz2 = empty((numxpts, numzpts), complex)\n",
    "t0 = time()\n",
    "for j in range(numzpts):\n",
    "    tz0 = time()\n",
    "    for i in range(midpt): # loop \n",
    "        fieldxz2[i,j] = field2_int(xpts2[i], y2 ,zpts2[j])\n",
    "    print(f\"zstep {j}, time={(time()-tz0)} s\")\n",
    "print(f\"total time={time()-t0}\")"
   ]
  },
  {
   "cell_type": "code",
   "execution_count": 408,
   "metadata": {},
   "outputs": [],
   "source": [
    "fieldxz2[midx:] = flip(fieldxz2[:midx,:], axis=0)"
   ]
  },
  {
   "cell_type": "code",
   "execution_count": 425,
   "metadata": {},
   "outputs": [
    {
     "data": {
      "image/png": "[encoded data removed]",
      "text/plain": [
       "<Figure size 432x288 with 2 Axes>"
      ]
     },
     "metadata": {
      "needs_background": "light"
     },
     "output_type": "display_data"
    }
   ],
   "source": [
    "Ixz2 = conjugate(fieldxz2)*fieldxz2\n",
    "Ixz2 /= amax(Ixz2)\n",
    "\n",
    "fig,ax = plt.subplots()\n",
    "ax.set_xlabel('z [um]')\n",
    "ax.set_ylabel('x [um]')\n",
    "ax.set_title('Output Intensity | xy Slice, y=5 $\\mu$m '+f'({xnum}x{ynum})')\n",
    "cbar = ax.contourf((zpts2 - f2)*1e6, xpts2*1e6, Ixz2)\n",
    "fig.colorbar(cbar)\n",
    "# plt.savefig(f'intensity_xz2_{xnum}by{ynum}.png')\n",
    "\n",
    "# TODO: show L_talbot calculation in group meeting"
   ]
  },
  {
   "cell_type": "code",
   "execution_count": 440,
   "metadata": {},
   "outputs": [],
   "source": [
    "f2plane_Imax = amax(conjugate(fieldxz2)*fieldxz2)"
   ]
  },
  {
   "cell_type": "code",
   "execution_count": 419,
   "metadata": {
    "scrolled": true
   },
   "outputs": [
    {
     "data": {
      "text/plain": [
       "152.25563909774436"
      ]
     },
     "execution_count": 419,
     "metadata": {},
     "output_type": "execute_result"
    }
   ],
   "source": [
    "zTalbot*1e6"
   ]
  },
  {
   "cell_type": "code",
   "execution_count": 431,
   "metadata": {},
   "outputs": [],
   "source": [
    "# build the meshgrid\n",
    "w = a*0.2 # 2 x 2 grid, dx = dy = 3*a, M = .03, gridwidth out ~ ((xnum-1)*d + a)*.03 = .12*a\n",
    "pts = 80\n",
    "\n",
    "# only works for square grid; need to update. get xarr, yarr, midx, midy\n",
    "xarr2,midpt,xx2,yy2 = get_meshgrid(w, pts, polar=False)\n",
    "\n",
    "field2_zt = zeros((pts,pts), complex)"
   ]
  },
  {
   "cell_type": "code",
   "execution_count": 433,
   "metadata": {
    "collapsed": true
   },
   "outputs": [
    {
     "name": "stdout",
     "output_type": "stream",
     "text": [
      "y step 0, time elapsed = 23.43384838104248 s, estimated time remaining: 913.9200868606567 s\n",
      "y step 1, time elapsed = 48.129533767700195 s, estimated time remaining: 1359.7042608261108 s\n",
      "y step 2, time elapsed = 70.1295280456543 s, estimated time remaining: 1747.5458923975625 s\n",
      "y step 3, time elapsed = 91.44728755950928 s, estimated time remaining: 2098.2617797851562 s\n",
      "y step 4, time elapsed = 112.48527646064758 s, estimated time remaining: 2419.378319501877 s\n",
      "y step 5, time elapsed = 133.34058165550232 s, estimated time remaining: 2714.140983263652 s\n",
      "y step 6, time elapsed = 154.4802052974701 s, estimated time remaining: 2986.2466597897665 s\n",
      "y step 7, time elapsed = 175.52514576911926 s, estimated time remaining: 3235.885627746582 s\n",
      "y step 8, time elapsed = 197.44337439537048 s, estimated time remaining: 3466.539802365833 s\n",
      "y step 9, time elapsed = 217.88126420974731 s, estimated time remaining: 3672.88813662529 s\n",
      "y step 10, time elapsed = 238.88078379631042 s, estimated time remaining: 3857.46618643674 s\n",
      "y step 11, time elapsed = 259.1503312587738 s, estimated time remaining: 4018.7633747259774 s\n",
      "y step 12, time elapsed = 287.1396048069 s, estimated time remaining: 4173.507897377014 s\n",
      "y step 13, time elapsed = 309.3495945930481 s, estimated time remaining: 4306.373239994049 s\n",
      "y step 14, time elapsed = 330.1317689418793 s, estimated time remaining: 4414.913548231125 s\n",
      "y step 15, time elapsed = 350.1000745296478 s, estimated time remaining: 4498.572305202484 s\n",
      "y step 16, time elapsed = 370.20306730270386 s, estimated time remaining: 4558.398778101977 s\n",
      "y step 17, time elapsed = 389.99121952056885 s, estimated time remaining: 4594.629710356394 s\n",
      "y step 18, time elapsed = 409.2219479084015 s, estimated time remaining: 4607.250168536839 s\n",
      "y step 19, time elapsed = 428.11367201805115 s, estimated time remaining: 4596.578110218048 s\n",
      "y step 20, time elapsed = 446.8483304977417 s, estimated time remaining: 4563.100113028571 s\n",
      "y step 21, time elapsed = 467.6051404476166 s, estimated time remaining: 4509.0258391336965 s\n",
      "y step 22, time elapsed = 488.91784143447876 s, estimated time remaining: 4434.7452253984375 s\n",
      "y step 23, time elapsed = 507.692494392395 s, estimated time remaining: 4338.427944660187 s\n",
      "y step 24, time elapsed = 526.2409353256226 s, estimated time remaining: 4220.329711389541 s\n",
      "y step 25, time elapsed = 547.1826407909393 s, estimated time remaining: 4082.112188595992 s\n",
      "y step 26, time elapsed = 566.1911051273346 s, estimated time remaining: 3922.7531769275665 s\n",
      "y step 27, time elapsed = 585.1248333454132 s, estimated time remaining: 3742.4491849626816 s\n",
      "y step 28, time elapsed = 602.9363694190979 s, estimated time remaining: 3540.982614171916 s\n",
      "y step 29, time elapsed = 620.5072481632233 s, estimated time remaining: 3318.608349720637 s\n",
      "y step 30, time elapsed = 638.0391752719879 s, estimated time remaining: 3075.6380006420995 s\n",
      "y step 31, time elapsed = 656.6779997348785 s, estimated time remaining: 2812.6355560421944 s\n",
      "y step 32, time elapsed = 673.6260321140289 s, estimated time remaining: 2529.3690240599894 s\n",
      "y step 33, time elapsed = 691.0565416812897 s, estimated time remaining: 2226.2161408171933 s\n",
      "y step 34, time elapsed = 710.1052393913269 s, estimated time remaining: 1903.6185767650604 s\n",
      "y step 35, time elapsed = 728.8290648460388 s, estimated time remaining: 1561.5732335779403 s\n",
      "y step 36, time elapsed = 745.7922704219818 s, estimated time remaining: 1199.9960572397385 s\n",
      "y step 37, time elapsed = 762.5789215564728 s, estimated time remaining: 819.0805417989429 s\n",
      "y step 38, time elapsed = 785.1003851890564 s, estimated time remaining: 419.1700174197172 s\n",
      "y step 39, time elapsed = 807.9974455833435 s, estimated time remaining: 0.0 s\n",
      "calculated field2 in 0.22444422443707784 hrs\n"
     ]
    }
   ],
   "source": [
    "## compute the field in the xy plane at z2 = f2 - zTalbot\n",
    "\n",
    "q3 = copy(field2_zt[:midpt,:midpt])\n",
    "times = []\n",
    "avg = 0\n",
    "t0 = time()\n",
    "for i in range(midpt):\n",
    "    for j in range(midpt):\n",
    "        q3[i,j] = field2_int(xx2[0,j], yy2[i,0] ,f2 - zTalbot)\n",
    "    times.append(time()-t0)\n",
    "    avg = sum(times)/(i+1)\n",
    "    print(f\"y step {i}, time elapsed = {times[i]} s, estimated time remaining: {avg*(midpt - i - 1)} s\")\n",
    "field2_zt = from_quadrant3(q3, field=field2_zt)\n",
    "print(f\"calculated field2 in {(time()-t0)/3600} hrs\")"
   ]
  },
  {
   "cell_type": "code",
   "execution_count": null,
   "metadata": {},
   "outputs": [],
   "source": []
  },
  {
   "cell_type": "code",
   "execution_count": 443,
   "metadata": {},
   "outputs": [],
   "source": [
    "I2zt = conjugate(field2_zt)*field2_zt/(amax(conjugate(fieldxz2)*fieldxz2))\n",
    "# I2zt /= amax(I2zt)"
   ]
  },
  {
   "cell_type": "code",
   "execution_count": 446,
   "metadata": {},
   "outputs": [
    {
     "data": {
      "image/png": "[encoded data removed]",
      "text/plain": [
       "<Figure size 432x288 with 2 Axes>"
      ]
     },
     "metadata": {
      "needs_background": "light"
     },
     "output_type": "display_data"
    }
   ],
   "source": [
    "fig,ax = figax(xlabel=r'x [$\\mu$m]', ylabel=r'y [$\\mu$m]')\n",
    "cbar = ax.contourf(xarr2/1e-6,xarr2/1e-6,I2zt)\n",
    "fig.colorbar(cbar)\n",
    "ax.set_title(f'Output Intensity | z = f2 - zTalbot ({xnum}x{ynum})'+'\\n Normalized to focal plane intensity')\n",
    "# plt.savefig(f'f2-zTalbot_xy_intensity_{xnum}by{ynum}.png')"
   ]
  },
  {
   "cell_type": "code",
   "execution_count": null,
   "metadata": {},
   "outputs": [],
   "source": []
  }
 ],
 "metadata": {
  "kernelspec": {
   "display_name": "Python 3",
   "language": "python",
   "name": "python3"
  },
  "language_info": {
   "codemirror_mode": {
    "name": "ipython",
    "version": 3
   },
   "file_extension": ".py",
   "mimetype": "text/x-python",
   "name": "python",
   "nbconvert_exporter": "python",
   "pygments_lexer": "ipython3",
   "version": "3.7.3"
  }
 },
 "nbformat": 4,
 "nbformat_minor": 2
}
