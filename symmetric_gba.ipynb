{
 "cells": [
  {
   "cell_type": "markdown",
   "metadata": {},
   "source": [
    "## Periodic Array\n",
    "\n",
    "Calculate output field for a plane wave of wave number k and\n",
    "amplitude A0 passing through  \n",
    "1) aperture plate: rectangular grid of spots of radius a, dx,dy center to center; spots can be transmissive or reflective  \n",
    "2) lens f1  \n",
    "3) circular aperture radius b  \n",
    "4) lens f2  "
   ]
  },
  {
   "cell_type": "code",
   "execution_count": 22,
   "metadata": {},
   "outputs": [
    {
     "data": {
      "text/html": [
       "<style>.container{width:100% !important;}</style>"
      ],
      "text/plain": [
       "<IPython.core.display.HTML object>"
      ]
     },
     "metadata": {},
     "output_type": "display_data"
    }
   ],
   "source": [
    "from numpy import *\n",
    "from numpy.fft import fft,fft2,fftshift,ifftshift\n",
    "from scipy.integrate import quad, dblquad\n",
    "from scipy.special import j0, j1\n",
    "import matplotlib.pyplot as plt\n",
    "from time import time, perf_counter_ns\n",
    "import random as rand\n",
    "\n",
    "## make the display wide\n",
    "from IPython.core.display import HTML, display\n",
    "display(HTML(\"<style>.container{width:100% !important;}</style>\"))"
   ]
  },
  {
   "cell_type": "markdown",
   "metadata": {},
   "source": [
    "TODO: \n",
    "1) make field input aperture periodic, 1D  \n",
    "2) plot axial field from lens f2 onward using eq i derived"
   ]
  },
  {
   "cell_type": "code",
   "execution_count": 134,
   "metadata": {},
   "outputs": [],
   "source": [
    "## functions\n",
    "\n",
    "def from_quadrant3(qd3, field=None):\n",
    "    \"\"\"\n",
    "    construct field with rectangular symmetry given only\n",
    "    quadrant 3 (i.e., field is mirrored across x axis and\n",
    "    across y axis)\n",
    "    \n",
    "    'qd3' 2D numpy array\n",
    "    Return 'field' 2D numpy array\n",
    "    \"\"\"\n",
    "    \n",
    "    xpts, ypts = qd3.shape\n",
    "    xmpt, ympt = int(xpts/2), int(ypts/2)\n",
    "    \n",
    "    if field is None:\n",
    "        field = zeros((2*xpts, 2*ypts), complex)\n",
    "    \n",
    "    field[:midpt, :midpt] = qd3\n",
    "    # qd4\n",
    "    field[:midpt, midpt:] = flip(qd3, axis=1) \n",
    "    # qd1\n",
    "    field[midpt:, midpt:] = flip(qd3)\n",
    "    # qd2\n",
    "    field[midpt:, :midpt] = flip(qd3, axis=0)\n",
    "    \n",
    "    return field\n",
    "\n",
    "def get_meshgrid(w, pts, polar=False):\n",
    "    \"\"\"\n",
    "    'w': grid half width\n",
    "    'pts': pts along one dimension; i.e. the full grid is pts x pts\n",
    "    \"\"\"\n",
    "    midpt = int(pts/2)\n",
    "    x = linspace(-w, w, pts)\n",
    "    y = linspace(-w, w, pts)\n",
    "    xx, yy = meshgrid(x,y, sparse=True)\n",
    "    if polar:\n",
    "        rr = sqrt(xx**2 + yy**2)\n",
    "        phi = arctan2(yy,xx)\n",
    "        phi[:midpt, :] += 2*pi\n",
    "        return x,midpt,rr,phi\n",
    "    else:\n",
    "        return x,midpt,xx,yy\n",
    "    \n",
    "def get_grid(dx,dy,xnum,ynum):\n",
    "    xpts = []\n",
    "    ypts = []\n",
    "    for i in range(xnum):\n",
    "        for j in range(ynum):\n",
    "            xpts.append((1+i)*dy - dy*(1+ynum)/2)\n",
    "            ypts.append((1+j)*dx - dx*(1+xnum)/2)\n",
    "    return xpts, ypts\n",
    "\n",
    "def figax(roi=None, ylabel='y/a', xlabel='x/a'):\n",
    "    fig,ax = plt.subplots()\n",
    "    if roi is not None:\n",
    "        ax.set_xlim(-roi,roi)\n",
    "        ax.set_ylim(-roi,roi)\n",
    "    ax.set_aspect('equal')\n",
    "    ax.set_xlabel(xlabel)\n",
    "    ax.set_ylabel(ylabel)\n",
    "    return fig, ax"
   ]
  },
  {
   "cell_type": "code",
   "execution_count": 5,
   "metadata": {},
   "outputs": [],
   "source": [
    "## physics and system params\n",
    "k = 2*pi/1.064e-6\n",
    "A0 = 1\n",
    "# want M = f2/f1 something like ~ .03\n",
    "f1 = 1\n",
    "f2 = 0.03\n",
    "a = 1e-4 # aperture 1 radius = 100 um\n",
    "b = f1*3.8317/(a*k) # the filter radius. 3.8317 is a00, the first zero of the J0(x).\n",
    "\n",
    "dx = 3*a # center-to-center spacing between spots\n",
    "dy = dx"
   ]
  },
  {
   "cell_type": "code",
   "execution_count": 5,
   "metadata": {},
   "outputs": [
    {
     "data": {
      "text/plain": [
       "(-0.0006000000000000001, 0.0006000000000000001)"
      ]
     },
     "execution_count": 5,
     "metadata": {},
     "output_type": "execute_result"
    },
    {
     "data": {
      "image/png": "[encoded data removed]",
      "text/plain": [
       "<Figure size 432x288 with 1 Axes>"
      ]
     },
     "metadata": {
      "needs_background": "light"
     },
     "output_type": "display_data"
    }
   ],
   "source": [
    "xspots = 4\n",
    "yspots = 4\n",
    "xpts, ypts = get_grid(dx,dy,xspots,yspots)\n",
    "\n",
    "# lines = []\n",
    "# for i in range(yspots):\n",
    "#     for j in range(xspots):\n",
    "#         lines.append([[0, (j+1)*dx - (dx + xspots)/2], [0, (i+1)*dy - (dy + yspots)/2]])\n",
    "        \n",
    "fig,ax = plt.subplots()\n",
    "ax.scatter(xpts, ypts)\n",
    "\n",
    "# for line in lines:\n",
    "#     ax.plot(*line)\n",
    "ax.set_aspect('equal')\n",
    "ax.set_xlim(-xspots*dx/2, xspots*dx/2)\n",
    "ax.set_ylim(-yspots*dx/2, yspots*dy/2)"
   ]
  },
  {
   "cell_type": "code",
   "execution_count": 6,
   "metadata": {},
   "outputs": [
    {
     "name": "stdout",
     "output_type": "stream",
     "text": [
      "input mask generated\n"
     ]
    }
   ],
   "source": [
    "## build the aperture mask:\n",
    "\n",
    "w = xspots*dx/2 # array half-width \n",
    "pts = 200 # the grid will be pts x pts\n",
    "xarr,midpt,xx,yy = get_meshgrid(w, pts) \n",
    "\n",
    "# the centroids of the apertures\n",
    "xpts, ypts = get_grid(dx,dy,4,4)\n",
    "\n",
    " \n",
    "plate = 0 # block the field\n",
    "aperture = 1 # transmit the field\n",
    "dimx = dimy = pts\n",
    "midx = int(dimx/2)\n",
    "midy = int(dimy/2)\n",
    "\n",
    "mask_a = full((dimx, dimy), plate)\n",
    "\n",
    "qd3 = mask_a[0:midx, 0:midy]\n",
    "\n",
    "for i in range(midy):\n",
    "    for j in range(midx):\n",
    "        \n",
    "        # check if coordinate overlaps an aperture\n",
    "        for x in xpts:\n",
    "            for y in ypts:\n",
    "                if sqrt((xx[0,j]-x)**2 + (yy[i,0]-y)**2) < a:\n",
    "                    qd3[i,j] = aperture\n",
    "                \n",
    "mask_a = from_quadrant3(qd3, mask_a)\n",
    "print(\"input mask generated\")"
   ]
  },
  {
   "cell_type": "code",
   "execution_count": 7,
   "metadata": {
    "scrolled": false
   },
   "outputs": [
    {
     "data": {
      "text/plain": [
       "<matplotlib.colorbar.Colorbar at 0x29a26e684e0>"
      ]
     },
     "execution_count": 7,
     "metadata": {},
     "output_type": "execute_result"
    },
    {
     "data": {
      "image/png": "[encoded data removed]",
      "text/plain": [
       "<Figure size 432x288 with 2 Axes>"
      ]
     },
     "metadata": {
      "needs_background": "light"
     },
     "output_type": "display_data"
    }
   ],
   "source": [
    "fig,ax = plt.subplots()\n",
    "cbar = ax.contourf(xarr/a,xarr/a,mask_a)\n",
    "ax.set_aspect('equal')\n",
    "fig.colorbar(cbar)"
   ]
  },
  {
   "cell_type": "markdown",
   "metadata": {},
   "source": [
    "## Analytically derived fields "
   ]
  },
  {
   "cell_type": "markdown",
   "metadata": {},
   "source": [
    "### Field in Fourier plane (A1)"
   ]
  },
  {
   "cell_type": "code",
   "execution_count": 124,
   "metadata": {},
   "outputs": [],
   "source": [
    "## physics and system params\n",
    "k = 2*pi/1.064e-6\n",
    "A0 = 1\n",
    "# want M = f2/f1 something like ~ .03\n",
    "f1 = 1\n",
    "f2 = 0.03\n",
    "a = 1e-4 # aperture 1 radius = 100 um\n",
    "b = f1*3.8317/(a*k) # the filter radius. 3.8317 is a00, the first zero of the J0(x).\n",
    "\n",
    "dx = 3*a # center-to-center spacing between spots\n",
    "dy = dx"
   ]
  },
  {
   "cell_type": "code",
   "execution_count": 174,
   "metadata": {
    "scrolled": true
   },
   "outputs": [
    {
     "name": "stdout",
     "output_type": "stream",
     "text": [
      "calculated field1 in 0.18949198722839355 s\n"
     ]
    }
   ],
   "source": [
    "w = 200*a\n",
    "pts = 200\n",
    "xarr,midpt,rr,phi = get_meshgrid(w, pts, polar=True)\n",
    "\n",
    "field1 = zeros((pts,pts), complex)\n",
    "\n",
    "dx = dy = 3*a\n",
    "xnum = ynum = 4\n",
    "xcents, ycents = get_grid(dx,dy,xnum,ynum)\n",
    "\n",
    "def repeat_phase(i,j):\n",
    "    # this works for a square grid; need a dedicated yarr otherwise\n",
    "    x1 = xarr[i] \n",
    "    y1 = xarr[j]\n",
    "    return (sin(xnum*k*dx*x1/(2*f1))*sin(ynum*k*dy*y1/(2*f1)) \\\n",
    "            /(sin(sin(k*dx*x1/(2*f1))*sin(k*dy*y1/(2*f1)))))\n",
    "\n",
    "t0 = time()\n",
    "q3_phases = empty((midpt, midpt), complex)\n",
    "q3 = copy(field1[:midpt,:midpt])\n",
    "for i in range(midpt):\n",
    "    for j in range(midpt):\n",
    "        q3_phases[i,j] = repeat_phase(i,j)\n",
    "        q3[i,j] = A0*a*j1(a*rr[i,j]*k/f1)*q3_phases[i,j]/rr[i,j]\n",
    "        \n",
    "field1 = from_quadrant3(q3, field=field1)\n",
    "print(f\"calculated field1 in {time()-t0} s\")"
   ]
  },
  {
   "cell_type": "code",
   "execution_count": 175,
   "metadata": {
    "scrolled": true
   },
   "outputs": [
    {
     "data": {
      "text/plain": [
       "Text(0.5, 1.0, 'Fourier Plane Periodic Factor (4x4 input)')"
      ]
     },
     "execution_count": 175,
     "metadata": {},
     "output_type": "execute_result"
    },
    {
     "data": {
      "image/png": "[encoded data removed]",
      "text/plain": [
       "<Figure size 432x288 with 2 Axes>"
      ]
     },
     "metadata": {
      "needs_background": "light"
     },
     "output_type": "display_data"
    }
   ],
   "source": [
    "phases = from_quadrant3(q3_phases)\n",
    "fig,ax = figax()\n",
    "cbar = ax.contourf(xarr/a, xarr/a, phases**2)\n",
    "ax.set_xlabel('x/a')\n",
    "ax.set_ylabel('y/a')\n",
    "fig.colorbar(cbar)\n",
    "ax.set_title(f'Fourier Plane Periodic Factor ({xnum}x{ynum} input)')\n",
    "# plt.savefig(f'fourier_plane_{xnum}by{ynum}_periodic_factor.png',bbox_inches='tight')"
   ]
  },
  {
   "cell_type": "code",
   "execution_count": 35,
   "metadata": {},
   "outputs": [
    {
     "data": {
      "text/plain": [
       "64.88633711537092"
      ]
     },
     "execution_count": 35,
     "metadata": {},
     "output_type": "execute_result"
    }
   ],
   "source": [
    "b/a"
   ]
  },
  {
   "cell_type": "code",
   "execution_count": 190,
   "metadata": {},
   "outputs": [
    {
     "data": {
      "image/png": "[encoded data removed]",
      "text/plain": [
       "<Figure size 432x288 with 2 Axes>"
      ]
     },
     "metadata": {
      "needs_background": "light"
     },
     "output_type": "display_data"
    }
   ],
   "source": [
    "fig,ax = figax()\n",
    "I1 = conjugate(field1)*field1\n",
    "I1 /= amax(I1)\n",
    "cbar = ax.contourf(xarr/a, xarr/a, I1)\n",
    "roi = 65 # b/a\n",
    "ax.set_xlim(-roi,roi)\n",
    "ax.set_ylim(-roi,roi)\n",
    "\n",
    "ax.set_title(f'Fourier Plane Intensity ({xnum}x{ynum} input)')\n",
    "ax.set_xlabel('x/a')\n",
    "ax.set_ylabel('y/a')\n",
    "fig.colorbar(cbar)\n",
    "# plt.savefig(f'fourier_plane_intensity_{xnum}by{ynum}',bbox_inches='tight')"
   ]
  },
  {
   "cell_type": "code",
   "execution_count": 188,
   "metadata": {},
   "outputs": [
    {
     "data": {
      "text/plain": [
       "(0.45358938971291246+0j)"
      ]
     },
     "execution_count": 188,
     "metadata": {},
     "output_type": "execute_result"
    }
   ],
   "source": [
    "amax(field1)"
   ]
  },
  {
   "cell_type": "code",
   "execution_count": 192,
   "metadata": {
    "scrolled": false
   },
   "outputs": [
    {
     "data": {
      "text/plain": [
       "Text(0.5, 1.0, 'Fourier Plane Intensity | Focal Plane y=0 Slice')"
      ]
     },
     "execution_count": 192,
     "metadata": {},
     "output_type": "execute_result"
    },
    {
     "data": {
      "image/png": "[encoded data removed]",
      "text/plain": [
       "<Figure size 432x288 with 1 Axes>"
      ]
     },
     "metadata": {
      "needs_background": "light"
     },
     "output_type": "display_data"
    }
   ],
   "source": [
    "fig,ax = plt.subplots()\n",
    "I1x = I1[midpt,:]\n",
    "ax.plot(xarr/a, I1x, color='darkblue')\n",
    "ax.set_xlim(-roi, roi)\n",
    "# ax.set_ylim(0, .25)\n",
    "ax.set_xlabel('x/a')\n",
    "ax.set_ylabel('Intensity [arb. units]')\n",
    "ax.set_title('Fourier Plane Intensity | Focal Plane y=0 Slice')\n",
    "# plt.savefig(f'fourier_plane_intensity_{xnum}by{ynum}_y0slice',bbox_inches='tight')"
   ]
  },
  {
   "cell_type": "markdown",
   "metadata": {},
   "source": [
    "### Field in output plane (A2)\n",
    "As I derived based on Mark's notes. This is for a bright trap.\n",
    "\n",
    "\\begin{equation*} \n",
    "A_2(\\mathbf{\\rho_2}, z_2) = - \\frac{k^2 A_0 a}{2 \\pi f_1 f_2} \\int_{-b}^b dx \\int_{-\\sqrt{b^2-x_1^2}}^{\\sqrt{b^2-x_1^2}} dy \\frac{\\sin{(\\frac{N k x_1 d}{2 f_1})}}{\\sin{(\\frac{k x_1 d}{2 f_1}})} \\frac{\\sin{(\\frac{N k y_1 d}{2 f_1})}}{\\sin{(\\frac{k y_1 d}{2 f_1}})} \\frac{J_1(a \\rho_1 \\frac{k}{f_1})}{\\rho_1}\\exp{\\bigg(-\\frac{i k}{2 f_2}(\\rho_1^2(\\frac{z_2}{f_2} - 1) + 2 \\mathbf{\\rho_1} \\cdot \\mathbf{\\rho_2)}\\bigg)}, \\quad \\rho_1 = \\sqrt{x_1^2 + y_1^2}\n",
    "\\end{equation*}\n",
    "\n",
    "Break up into real, imaginary to solve with scipy dblquad:\n",
    "\n",
    "\\begin{equation*} \n",
    "A_2(\\mathbf{\\rho_2}, z_2) = - \\frac{k^2 A_0 a}{2 \\pi f_1 f_2} \\int_{-b}^b dx \\int_{-\\sqrt{b^2-x_1^2}}^{\\sqrt{b^2-x_1^2}} dy \\frac{\\sin{(\\frac{N k x_1 d}{2 f_1})}}{\\sin{(\\frac{k x_1 d}{2 f_1}})} \\frac{\\sin{(\\frac{N k y_1 d}{2 f_1})}}{\\sin{(\\frac{k y_1 d}{2 f_1}})} \\frac{J_1(a \\rho_1 \\frac{k}{f_1})}{\\rho_1}\\bigg(\\cos{\\bigg(\\frac{k}{2 f_2}(\\rho_1^2(\\frac{z_2}{f_2} - 1) + 2 \\mathbf{\\rho_1} \\cdot \\mathbf{\\rho_2)}\\bigg)} \\\\ - i \\sin{\\bigg(\\frac{k}{2 f_2}(\\rho_1^2(\\frac{z_2}{f_2} - 1) + 2 \\mathbf{\\rho_1} \\cdot \\mathbf{\\rho_2)}\\bigg)} \\bigg), \\quad \\rho_1 = \\sqrt{x_1^2 + y_1^2}\n",
    "\\end{equation*}"
   ]
  },
  {
   "cell_type": "code",
   "execution_count": 88,
   "metadata": {},
   "outputs": [],
   "source": [
    "## physics and system params\n",
    "lmbda = 1.064e-6\n",
    "k = 2*pi/lmbda\n",
    "A0 = 1\n",
    "# want M = f2/f1 something like ~ .03\n",
    "f1 = 1\n",
    "f2 = 0.03\n",
    "a = 1e-4 # aperture 1 radius = 100 um\n",
    "b = f1*3.8317/(a*k) # the filter radius. 3.8317 is a00, the first zero of the J0(x).\n",
    "\n",
    "dx = 3*a # center-to-center spacing between spots\n",
    "dy = dx"
   ]
  },
  {
   "cell_type": "code",
   "execution_count": 159,
   "metadata": {},
   "outputs": [],
   "source": [
    "# input field has 8x8 grid, d = 3a, so input field ~ 50a. f2/f1 ~ .02, so guess grid width ~ a\n",
    "xnum = ynum = 4\n",
    "z2 = f2 # the distance from lens f2"
   ]
  },
  {
   "cell_type": "code",
   "execution_count": 160,
   "metadata": {},
   "outputs": [],
   "source": [
    "def re_iint(y1, x1, y2, x2, z2):\n",
    "    \"\"\"\n",
    "    the real part of the integrand in the cell above for the output field.\n",
    "    \"\"\"\n",
    "    \n",
    "    r1 = sqrt(x1**2 + y1**2)\n",
    "    \n",
    "    intgd = (sin(xnum*k*dx*x1/(2*f1))*sin(ynum*k*dy*y1/(2*f1)) \\\n",
    "            /(sin(sin(k*dx*x1/(2*f1))*sin(k*dy*y1/(2*f1))))) \\\n",
    "            *j1(a*r1*k/f1)*cos(k*((z2/f2 - 1)*r1**2 + 2*(x1*x2 + y1*y2))/(2*f2))/r1\n",
    "    \n",
    "    return intgd\n",
    "\n",
    "\n",
    "def im_iint(y1, x1, y2, x2, z2):\n",
    "    \"\"\"\n",
    "    the imaginary part of the integrand in the cell above for the output field\n",
    "    \"\"\"\n",
    "    \n",
    "    r1 = sqrt(x1**2 + y1**2)\n",
    "    \n",
    "    intgd = - (sin(xnum*k*dx*x1/(2*f1))*sin(ynum*k*dy*y1/(2*f1)) \\\n",
    "              /(sin(sin(k*dx*x1/(2*f1))*sin(k*dy*y1/(2*f1))))) \\\n",
    "              *j1(a*r1*k/f1)*sin(k*((z2/f2 - 1)*r1**2 + 2*(x1*x2 + y1*y2))/(2*f2))/r1\n",
    "    \n",
    "    return intgd\n",
    "\n",
    "    \n",
    "def field2_int(x2, y2, z2):\n",
    "    \"\"\" \n",
    "    compute the integral in the cell above for the output field \n",
    "    integral broken up to avoid the pole at x1=y1 = 0; only integrate over \n",
    "    quadrant one in the Fourier plane, then multiply the result by 4 to \n",
    "    account for the other quadrants. works by symmetry. \n",
    "\n",
    "    Args:\n",
    "        x2\n",
    "        y2\n",
    "        z2: the distance from the second lens\n",
    "    Return:\n",
    "        'field': complex\n",
    "    \"\"\"\n",
    "    \n",
    "    # unconstrained limits: x in [-b,b], y in [-sqrt(b**2 - x**2), sqrt(b**2 - x**2)]\n",
    "    # 1 quadrant: x in [0,b], y in [0, sqrt(b**2 - x**2)]. make lower bound finite in either x or y\n",
    "    \n",
    "    iargs = (y2, x2, z2)\n",
    "    \n",
    "    # avoid the pole in y\n",
    "#     field2 = 4*(A0*a*k**2)*(dblquad(re_iint, 0, b, \n",
    "#                                   lambda x: 1e-6, # keep small enough to obtain good resolution\n",
    "#                                   lambda x: sqrt(b**2 - x**2), \n",
    "#                                   args=iargs)[0]/(2*pi*f1*f2) \n",
    "#                           -1j*dblquad(im_iint, 0, b, \n",
    "#                                   lambda x: 1e-6, # keep small enough to obtain good resolution \n",
    "#                                   lambda x: sqrt(b**2 - x**2), \n",
    "#                                   args=iargs)[0]/(2*pi*f1*f2)) \n",
    "\n",
    "    # avoid the pole in x\n",
    "    field2 = 4*(A0*a*k**2)*(dblquad(re_iint, 1e-6, b, \n",
    "                                  lambda x: 0, # keep small enough to obtain good resolution\n",
    "                                  lambda x: sqrt(b**2 - x**2), \n",
    "                                  args=iargs)[0]/(2*pi*f1*f2) \n",
    "                          -1j*dblquad(im_iint, 1e-6, b, \n",
    "                                  lambda x: 0, # keep small enough to obtain good resolution \n",
    "                                  lambda x: sqrt(b**2 - x**2), \n",
    "                                  args=iargs)[0]/(2*pi*f1*f2)) \n",
    "\n",
    "    \n",
    "    return field2"
   ]
  },
  {
   "cell_type": "code",
   "execution_count": 211,
   "metadata": {},
   "outputs": [],
   "source": [
    "# build the meshgrid\n",
    "w = a*0.12 # 2 x 2 grid, dx = dy = 3*a, M = .03, gridwidth out ~ ((xnum-1)*d + a)*.03 = .12*a\n",
    "pts = 50\n",
    "\n",
    "# only works for square grid; need to update. get xarr, yarr, midx, midy\n",
    "xarr2,midpt,xx2,yy2 = get_meshgrid(w, pts, polar=False)\n",
    "\n",
    "field2 = zeros((pts,pts), complex)"
   ]
  },
  {
   "cell_type": "code",
   "execution_count": 212,
   "metadata": {},
   "outputs": [
    {
     "data": {
      "text/plain": [
       "12.0"
      ]
     },
     "execution_count": 212,
     "metadata": {},
     "output_type": "execute_result"
    }
   ],
   "source": [
    "w*1e6"
   ]
  },
  {
   "cell_type": "code",
   "execution_count": 213,
   "metadata": {},
   "outputs": [
    {
     "name": "stdout",
     "output_type": "stream",
     "text": [
      "calculated field2 in 0.032521035141415064 hrs\n"
     ]
    }
   ],
   "source": [
    "## compute quadrant 3 of the field -- Monte Carlo\n",
    "\n",
    "t0 = time()\n",
    "q3 = copy(field2[:midpt,:midpt])\n",
    "for i in range(midpt):\n",
    "    for j in range(midpt):\n",
    "        q3[i,j] = field2_int(xx2[0,j], yy2[i,0] ,z2)\n",
    "field2 = from_quadrant3(q3, field=field2)\n",
    "print(f\"calculated field2 in {(time()-t0)/3600} hrs\")"
   ]
  },
  {
   "cell_type": "code",
   "execution_count": 219,
   "metadata": {
    "scrolled": false
   },
   "outputs": [
    {
     "data": {
      "image/png": "[encoded data removed]",
      "text/plain": [
       "<Figure size 432x288 with 2 Axes>"
      ]
     },
     "metadata": {
      "needs_background": "light"
     },
     "output_type": "display_data"
    }
   ],
   "source": [
    "I2 = conjugate(field2)*field2\n",
    "I2 /= amax(I2)\n",
    "\n",
    "fig,ax = figax(xlabel=r'x [$\\mu$m]', ylabel=r'y [$\\mu$m]')\n",
    "cbar = ax.contourf(xarr2/1e-6,xarr2/1e-6,I2)\n",
    "fig.colorbar(cbar)\n",
    "ax.set_title(f'Output Focal Plane Intensity ({xnum}x{ynum})')\n",
    "# plt.savefig(f'f2_focalplane_intensity_{xnum}by{ynum}.png')"
   ]
  },
  {
   "cell_type": "code",
   "execution_count": 240,
   "metadata": {},
   "outputs": [
    {
     "data": {
      "text/plain": [
       "5.1428571428571415"
      ]
     },
     "execution_count": 240,
     "metadata": {},
     "output_type": "execute_result"
    }
   ],
   "source": [
    "xarr2[int(midpt*1.4)]/1e-6"
   ]
  },
  {
   "cell_type": "code",
   "execution_count": 247,
   "metadata": {},
   "outputs": [
    {
     "data": {
      "image/png": "[encoded data removed]",
      "text/plain": [
       "<Figure size 432x288 with 1 Axes>"
      ]
     },
     "metadata": {
      "needs_background": "light"
     },
     "output_type": "display_data"
    }
   ],
   "source": [
    "# fig,ax = figax(xlabel=r'x [$\\mu$m]', ylabel=r'y [$\\mu$m]')\n",
    "fig,ax = plt.subplots()\n",
    "I2x = I2[int(midpt*1.4),:] # get a slice through y = 5 um\n",
    "ax.plot(xarr2/1e-6,I2x,color='darkblue')\n",
    "ax.set_title(f'Output Intensity ({xnum}x{ynum}) | Focal Plane '+r' y=5$\\mu$m slice')\n",
    "ax.set_xlabel(r'x [$\\mu$m]')\n",
    "ax.set_ylabel(r'Intensity [arb. units]')\n",
    "# plt.savefig(f'f2_focalplane_intensity_{xnum}by{ynum}.png')"
   ]
  },
  {
   "cell_type": "code",
   "execution_count": 111,
   "metadata": {},
   "outputs": [
    {
     "data": {
      "text/plain": [
       "10000"
      ]
     },
     "execution_count": 111,
     "metadata": {},
     "output_type": "execute_result"
    }
   ],
   "source": [
    "# monte-carlo sample the output field to check it\n",
    "# ktests = int(pts) \n",
    "# irand = rand.sample(range(midpt), ktests)\n",
    "# jrand = rand.sample(range(midpt), ktests)\n",
    "# ktests**2\n",
    "\n",
    "# integral speed test\n",
    "# runs = 10\n",
    "# times = []\n",
    "# for i in range(runs):\n",
    "#     t0 = time()\n",
    "#     f = field2_int(xx2[0,j], yy2[i,0] ,z2)\n",
    "#     t = time()-t0\n",
    "#     times.append(t)\n",
    "# #     print(f'calculated fieldxz2 in time {(t)} s')\n",
    "# print(f'avg time = {sum(times)/runs} s')\n",
    "# print(f'integral result = {f}')\n",
    "\n",
    "## compute quadrant 3 of the field -- Monte Carlo\n",
    "\n",
    "# t0 = time()\n",
    "# q3 = copy(field2[:midpt,:midpt])\n",
    "# for i in irand:\n",
    "#     for j in jrand:\n",
    "#         q3[i,j] = field2_int(xx2[0,j], yy2[i,0] ,z2)\n",
    "# field2 = from_quadrant3(q3, field=field2)\n",
    "# print(f\"calculated field2 in {time()-t0} s\")"
   ]
  },
  {
   "cell_type": "markdown",
   "metadata": {},
   "source": [
    "## Talbot Plane Analysis"
   ]
  },
  {
   "cell_type": "code",
   "execution_count": 230,
   "metadata": {},
   "outputs": [],
   "source": [
    "## plot the field in the x2-z2 plane after lens 2. \n",
    "# could restrict to being on z-axis for a trap site\n",
    "\n",
    "Lx2 = (f2*dx/f1) # output array periodicity\n",
    "zTalbot = 2*Lx2**2/lmbda # Talbot length behind lens f2\n",
    "numxpts = 50\n",
    "numzpts = 500\n",
    "\n",
    "w = a*0.12 # 2 x 2 grid, dx = dy = 3*a, M = .03, gridwidth out ~ ((xnum-1)*d + a)*.03 = .12*a\n",
    "pts = 50\n",
    "\n",
    "xpts2 = linspace(-w, w, numxpts)\n",
    "zpts2 = linspace(f2 - 2*zTalbot, f2, numzpts) # plot two Talbot planes back from f2"
   ]
  },
  {
   "cell_type": "code",
   "execution_count": 229,
   "metadata": {},
   "outputs": [
    {
     "data": {
      "text/plain": [
       "12.687969924812029"
      ]
     },
     "execution_count": 229,
     "metadata": {},
     "output_type": "execute_result"
    }
   ],
   "source": [
    "zTalbot/w"
   ]
  },
  {
   "cell_type": "code",
   "execution_count": 251,
   "metadata": {},
   "outputs": [
    {
     "name": "stdout",
     "output_type": "stream",
     "text": [
      "34 4.653061224489797e-06\n",
      "35 5.1428571428571415e-06\n"
     ]
    }
   ],
   "source": [
    "for i,x in enumerate(xpts2):\n",
    "    if x > 4.5e-6 and x < 5.5e-6:\n",
    "        print(i,x)"
   ]
  },
  {
   "cell_type": "code",
   "execution_count": 275,
   "metadata": {},
   "outputs": [
    {
     "name": "stdout",
     "output_type": "stream",
     "text": [
      "-1.2e-05 1.2e-05\n",
      "-1.2e-05 1.2e-05\n",
      "0.02969548872180451 0.03\n"
     ]
    }
   ],
   "source": [
    "print(min(xx2[0]), max(xx2[0]))\n",
    "print(min(xpts2), max(xpts2))\n",
    "print(min(zpts2), max(zpts2))"
   ]
  },
  {
   "cell_type": "code",
   "execution_count": 280,
   "metadata": {},
   "outputs": [],
   "source": [
    "# plot just slice in x for y = 5um, z = f2. \n",
    "# This comes out correctly.\n",
    "y2 = xpts2[35]\n",
    "z2 = f2\n",
    "\n",
    "xsoln = empty(numxpts, complex)\n",
    "for i in range(midpt):\n",
    "    xsoln[i] = field2_int(xpts2[i], y2 ,z2)"
   ]
  },
  {
   "cell_type": "code",
   "execution_count": 288,
   "metadata": {
    "scrolled": false
   },
   "outputs": [
    {
     "data": {
      "text/plain": [
       "[<matplotlib.lines.Line2D at 0x147908fbe10>]"
      ]
     },
     "execution_count": 288,
     "metadata": {},
     "output_type": "execute_result"
    },
    {
     "data": {
      "image/png": "[encoded data removed]",
      "text/plain": [
       "<Figure size 432x288 with 1 Axes>"
      ]
     },
     "metadata": {
      "needs_background": "light"
     },
     "output_type": "display_data"
    }
   ],
   "source": [
    "xsoln[midpt:] = flip(xsoln[:midpt])\n",
    "ix2soln = conjugate(xsoln)*xsoln\n",
    "ix2soln /= max(ix2soln)\n",
    "plt.plot(xpts2/a, ix2soln)"
   ]
  },
  {
   "cell_type": "code",
   "execution_count": 294,
   "metadata": {},
   "outputs": [
    {
     "data": {
      "text/plain": [
       "25"
      ]
     },
     "execution_count": 294,
     "metadata": {},
     "output_type": "execute_result"
    }
   ],
   "source": [
    "midpt"
   ]
  },
  {
   "cell_type": "code",
   "execution_count": 297,
   "metadata": {},
   "outputs": [],
   "source": [
    "## plot the field in the x2-z2 plane after lens 2. \n",
    "\n",
    "Lx2 = (f2*dx/f1) # output array periodicity\n",
    "zTalbot = 2*Lx2**2/lmbda # Talbot length behind lens f2\n",
    "numxpts = 50\n",
    "numzpts = 500\n",
    "\n",
    "w = a*0.12 # 2 x 2 grid, dx = dy = 3*a, M = .03, gridwidth out ~ ((xnum-1)*d + a)*.03 = .12*a\n",
    "midx = int(numxpts/2)\n",
    "xpts2 = linspace(-w, w, numxpts)\n",
    "zpts2 = linspace(f2 - a, f2, numzpts) # plot two Talbot planes back from f2"
   ]
  },
  {
   "cell_type": "code",
   "execution_count": null,
   "metadata": {},
   "outputs": [],
   "source": []
  },
  {
   "cell_type": "code",
   "execution_count": 289,
   "metadata": {},
   "outputs": [
    {
     "data": {
      "text/plain": [
       "1.5225563909774436"
      ]
     },
     "execution_count": 289,
     "metadata": {},
     "output_type": "execute_result"
    }
   ],
   "source": [
    "zTalbot/a"
   ]
  },
  {
   "cell_type": "code",
   "execution_count": 298,
   "metadata": {},
   "outputs": [
    {
     "name": "stdout",
     "output_type": "stream",
     "text": [
      "calculated field2 in 8.12267476717631 mins\n"
     ]
    }
   ],
   "source": [
    "fieldxz2 = empty((numxpts,numzpts), complex)\n",
    "y2 = xpts2[35] # the y plane to look at; about 5 um off axis\n",
    "\n",
    "# compute above z axis, then reflect\n",
    "assert numxpts % 2 == 0, \"you're being stupid. you have to be able to reflect the field later\"\n",
    "\n",
    "t0 = time()\n",
    "for i in range(midx): # only fill field midway through x. reflect about z axis later\n",
    "    for j in range(pts):\n",
    "        fieldxz2[i,j] = field2_int(xpts2[i], y2 ,zpts2[j])\n",
    "print(f\"calculated field2 in {(time()-t0)/60} mins\")"
   ]
  },
  {
   "cell_type": "code",
   "execution_count": null,
   "metadata": {},
   "outputs": [],
   "source": [
    "# getting overflow values. TODO: get rid of pre-factors in the integral function. "
   ]
  },
  {
   "cell_type": "code",
   "execution_count": null,
   "metadata": {},
   "outputs": [],
   "source": [
    "fieldxz2[midx:,:] = flip(fieldxz2[:midx,:], axis=0)"
   ]
  },
  {
   "cell_type": "code",
   "execution_count": 303,
   "metadata": {},
   "outputs": [
    {
     "name": "stderr",
     "output_type": "stream",
     "text": [
      "C:\\Users\\gothr\\Anaconda3\\lib\\site-packages\\ipykernel_launcher.py:1: RuntimeWarning: overflow encountered in multiply\n",
      "  \"\"\"Entry point for launching an IPython kernel.\n",
      "C:\\Users\\gothr\\Anaconda3\\lib\\site-packages\\ipykernel_launcher.py:1: RuntimeWarning: invalid value encountered in multiply\n",
      "  \"\"\"Entry point for launching an IPython kernel.\n"
     ]
    }
   ],
   "source": [
    "Ixz2 = conjugate(fieldxz2)*fieldxz2\n",
    "plt.contourf(Ixz2)"
   ]
  },
  {
   "cell_type": "code",
   "execution_count": 302,
   "metadata": {},
   "outputs": [
    {
     "data": {
      "text/plain": [
       "(26954600.988512482+36282380.25903089j)"
      ]
     },
     "execution_count": 302,
     "metadata": {},
     "output_type": "execute_result"
    }
   ],
   "source": [
    "max(fieldxz2[:,35])"
   ]
  },
  {
   "cell_type": "code",
   "execution_count": 292,
   "metadata": {
    "collapsed": true
   },
   "outputs": [
    {
     "name": "stderr",
     "output_type": "stream",
     "text": [
      "C:\\Users\\gothr\\Anaconda3\\lib\\site-packages\\matplotlib\\ticker.py:1967: RuntimeWarning: overflow encountered in double_scalars\n",
      "  best_vmin = (_vmin // step) * step\n"
     ]
    },
    {
     "ename": "ValueError",
     "evalue": "arange: cannot compute length",
     "output_type": "error",
     "traceback": [
      "\u001b[1;31m---------------------------------------------------------------------------\u001b[0m",
      "\u001b[1;31mValueError\u001b[0m                                Traceback (most recent call last)",
      "\u001b[1;32m<ipython-input-292-9aec0d7342e1>\u001b[0m in \u001b[0;36m<module>\u001b[1;34m\u001b[0m\n\u001b[1;32m----> 1\u001b[1;33m \u001b[0mplt\u001b[0m\u001b[1;33m.\u001b[0m\u001b[0mcontourf\u001b[0m\u001b[1;33m(\u001b[0m\u001b[0mfieldxz2\u001b[0m\u001b[1;33m[\u001b[0m\u001b[1;33m:\u001b[0m\u001b[0mmidx\u001b[0m\u001b[1;33m,\u001b[0m\u001b[1;33m:\u001b[0m\u001b[1;33m]\u001b[0m\u001b[1;33m)\u001b[0m\u001b[1;33m\u001b[0m\u001b[1;33m\u001b[0m\u001b[0m\n\u001b[0m",
      "\u001b[1;32m~\\Anaconda3\\lib\\site-packages\\matplotlib\\pyplot.py\u001b[0m in \u001b[0;36mcontourf\u001b[1;34m(data, *args, **kwargs)\u001b[0m\n\u001b[0;32m   2545\u001b[0m     __ret = gca().contourf(\n\u001b[0;32m   2546\u001b[0m         \u001b[1;33m*\u001b[0m\u001b[0margs\u001b[0m\u001b[1;33m,\u001b[0m \u001b[1;33m**\u001b[0m\u001b[1;33m(\u001b[0m\u001b[1;33m{\u001b[0m\u001b[1;34m\"data\"\u001b[0m\u001b[1;33m:\u001b[0m \u001b[0mdata\u001b[0m\u001b[1;33m}\u001b[0m \u001b[1;32mif\u001b[0m \u001b[0mdata\u001b[0m \u001b[1;32mis\u001b[0m \u001b[1;32mnot\u001b[0m \u001b[1;32mNone\u001b[0m \u001b[1;32melse\u001b[0m \u001b[1;33m{\u001b[0m\u001b[1;33m}\u001b[0m\u001b[1;33m)\u001b[0m\u001b[1;33m,\u001b[0m\u001b[1;33m\u001b[0m\u001b[1;33m\u001b[0m\u001b[0m\n\u001b[1;32m-> 2547\u001b[1;33m         **kwargs)\n\u001b[0m\u001b[0;32m   2548\u001b[0m     \u001b[1;32mif\u001b[0m \u001b[0m__ret\u001b[0m\u001b[1;33m.\u001b[0m\u001b[0m_A\u001b[0m \u001b[1;32mis\u001b[0m \u001b[1;32mnot\u001b[0m \u001b[1;32mNone\u001b[0m\u001b[1;33m:\u001b[0m \u001b[0msci\u001b[0m\u001b[1;33m(\u001b[0m\u001b[0m__ret\u001b[0m\u001b[1;33m)\u001b[0m  \u001b[1;31m# noqa\u001b[0m\u001b[1;33m\u001b[0m\u001b[1;33m\u001b[0m\u001b[0m\n\u001b[0;32m   2549\u001b[0m     \u001b[1;32mreturn\u001b[0m \u001b[0m__ret\u001b[0m\u001b[1;33m\u001b[0m\u001b[1;33m\u001b[0m\u001b[0m\n",
      "\u001b[1;32m~\\Anaconda3\\lib\\site-packages\\matplotlib\\__init__.py\u001b[0m in \u001b[0;36minner\u001b[1;34m(ax, data, *args, **kwargs)\u001b[0m\n\u001b[0;32m   1808\u001b[0m                         \u001b[1;34m\"the Matplotlib list!)\"\u001b[0m \u001b[1;33m%\u001b[0m \u001b[1;33m(\u001b[0m\u001b[0mlabel_namer\u001b[0m\u001b[1;33m,\u001b[0m \u001b[0mfunc\u001b[0m\u001b[1;33m.\u001b[0m\u001b[0m__name__\u001b[0m\u001b[1;33m)\u001b[0m\u001b[1;33m,\u001b[0m\u001b[1;33m\u001b[0m\u001b[1;33m\u001b[0m\u001b[0m\n\u001b[0;32m   1809\u001b[0m                         RuntimeWarning, stacklevel=2)\n\u001b[1;32m-> 1810\u001b[1;33m             \u001b[1;32mreturn\u001b[0m \u001b[0mfunc\u001b[0m\u001b[1;33m(\u001b[0m\u001b[0max\u001b[0m\u001b[1;33m,\u001b[0m \u001b[1;33m*\u001b[0m\u001b[0margs\u001b[0m\u001b[1;33m,\u001b[0m \u001b[1;33m**\u001b[0m\u001b[0mkwargs\u001b[0m\u001b[1;33m)\u001b[0m\u001b[1;33m\u001b[0m\u001b[1;33m\u001b[0m\u001b[0m\n\u001b[0m\u001b[0;32m   1811\u001b[0m \u001b[1;33m\u001b[0m\u001b[0m\n\u001b[0;32m   1812\u001b[0m         inner.__doc__ = _add_data_doc(inner.__doc__,\n",
      "\u001b[1;32m~\\Anaconda3\\lib\\site-packages\\matplotlib\\axes\\_axes.py\u001b[0m in \u001b[0;36mcontourf\u001b[1;34m(self, *args, **kwargs)\u001b[0m\n\u001b[0;32m   6237\u001b[0m     \u001b[1;32mdef\u001b[0m \u001b[0mcontourf\u001b[0m\u001b[1;33m(\u001b[0m\u001b[0mself\u001b[0m\u001b[1;33m,\u001b[0m \u001b[1;33m*\u001b[0m\u001b[0margs\u001b[0m\u001b[1;33m,\u001b[0m \u001b[1;33m**\u001b[0m\u001b[0mkwargs\u001b[0m\u001b[1;33m)\u001b[0m\u001b[1;33m:\u001b[0m\u001b[1;33m\u001b[0m\u001b[1;33m\u001b[0m\u001b[0m\n\u001b[0;32m   6238\u001b[0m         \u001b[0mkwargs\u001b[0m\u001b[1;33m[\u001b[0m\u001b[1;34m'filled'\u001b[0m\u001b[1;33m]\u001b[0m \u001b[1;33m=\u001b[0m \u001b[1;32mTrue\u001b[0m\u001b[1;33m\u001b[0m\u001b[1;33m\u001b[0m\u001b[0m\n\u001b[1;32m-> 6239\u001b[1;33m         \u001b[0mcontours\u001b[0m \u001b[1;33m=\u001b[0m \u001b[0mmcontour\u001b[0m\u001b[1;33m.\u001b[0m\u001b[0mQuadContourSet\u001b[0m\u001b[1;33m(\u001b[0m\u001b[0mself\u001b[0m\u001b[1;33m,\u001b[0m \u001b[1;33m*\u001b[0m\u001b[0margs\u001b[0m\u001b[1;33m,\u001b[0m \u001b[1;33m**\u001b[0m\u001b[0mkwargs\u001b[0m\u001b[1;33m)\u001b[0m\u001b[1;33m\u001b[0m\u001b[1;33m\u001b[0m\u001b[0m\n\u001b[0m\u001b[0;32m   6240\u001b[0m         \u001b[0mself\u001b[0m\u001b[1;33m.\u001b[0m\u001b[0mautoscale_view\u001b[0m\u001b[1;33m(\u001b[0m\u001b[1;33m)\u001b[0m\u001b[1;33m\u001b[0m\u001b[1;33m\u001b[0m\u001b[0m\n\u001b[0;32m   6241\u001b[0m         \u001b[1;32mreturn\u001b[0m \u001b[0mcontours\u001b[0m\u001b[1;33m\u001b[0m\u001b[1;33m\u001b[0m\u001b[0m\n",
      "\u001b[1;32m~\\Anaconda3\\lib\\site-packages\\matplotlib\\contour.py\u001b[0m in \u001b[0;36m__init__\u001b[1;34m(self, ax, levels, filled, linewidths, linestyles, alpha, origin, extent, cmap, colors, norm, vmin, vmax, extend, antialiased, *args, **kwargs)\u001b[0m\n\u001b[0;32m    885\u001b[0m         \u001b[0mself\u001b[0m\u001b[1;33m.\u001b[0m\u001b[0m_transform\u001b[0m \u001b[1;33m=\u001b[0m \u001b[0mkwargs\u001b[0m\u001b[1;33m.\u001b[0m\u001b[0mpop\u001b[0m\u001b[1;33m(\u001b[0m\u001b[1;34m'transform'\u001b[0m\u001b[1;33m,\u001b[0m \u001b[1;32mNone\u001b[0m\u001b[1;33m)\u001b[0m\u001b[1;33m\u001b[0m\u001b[1;33m\u001b[0m\u001b[0m\n\u001b[0;32m    886\u001b[0m \u001b[1;33m\u001b[0m\u001b[0m\n\u001b[1;32m--> 887\u001b[1;33m         \u001b[0mkwargs\u001b[0m \u001b[1;33m=\u001b[0m \u001b[0mself\u001b[0m\u001b[1;33m.\u001b[0m\u001b[0m_process_args\u001b[0m\u001b[1;33m(\u001b[0m\u001b[1;33m*\u001b[0m\u001b[0margs\u001b[0m\u001b[1;33m,\u001b[0m \u001b[1;33m**\u001b[0m\u001b[0mkwargs\u001b[0m\u001b[1;33m)\u001b[0m\u001b[1;33m\u001b[0m\u001b[1;33m\u001b[0m\u001b[0m\n\u001b[0m\u001b[0;32m    888\u001b[0m         \u001b[0mself\u001b[0m\u001b[1;33m.\u001b[0m\u001b[0m_process_levels\u001b[0m\u001b[1;33m(\u001b[0m\u001b[1;33m)\u001b[0m\u001b[1;33m\u001b[0m\u001b[1;33m\u001b[0m\u001b[0m\n\u001b[0;32m    889\u001b[0m \u001b[1;33m\u001b[0m\u001b[0m\n",
      "\u001b[1;32m~\\Anaconda3\\lib\\site-packages\\matplotlib\\contour.py\u001b[0m in \u001b[0;36m_process_args\u001b[1;34m(self, *args, **kwargs)\u001b[0m\n\u001b[0;32m   1491\u001b[0m                 \u001b[0mself\u001b[0m\u001b[1;33m.\u001b[0m\u001b[0m_corner_mask\u001b[0m \u001b[1;33m=\u001b[0m \u001b[0mmpl\u001b[0m\u001b[1;33m.\u001b[0m\u001b[0mrcParams\u001b[0m\u001b[1;33m[\u001b[0m\u001b[1;34m'contour.corner_mask'\u001b[0m\u001b[1;33m]\u001b[0m\u001b[1;33m\u001b[0m\u001b[1;33m\u001b[0m\u001b[0m\n\u001b[0;32m   1492\u001b[0m \u001b[1;33m\u001b[0m\u001b[0m\n\u001b[1;32m-> 1493\u001b[1;33m             \u001b[0mx\u001b[0m\u001b[1;33m,\u001b[0m \u001b[0my\u001b[0m\u001b[1;33m,\u001b[0m \u001b[0mz\u001b[0m \u001b[1;33m=\u001b[0m \u001b[0mself\u001b[0m\u001b[1;33m.\u001b[0m\u001b[0m_contour_args\u001b[0m\u001b[1;33m(\u001b[0m\u001b[0margs\u001b[0m\u001b[1;33m,\u001b[0m \u001b[0mkwargs\u001b[0m\u001b[1;33m)\u001b[0m\u001b[1;33m\u001b[0m\u001b[1;33m\u001b[0m\u001b[0m\n\u001b[0m\u001b[0;32m   1494\u001b[0m \u001b[1;33m\u001b[0m\u001b[0m\n\u001b[0;32m   1495\u001b[0m             \u001b[0m_mask\u001b[0m \u001b[1;33m=\u001b[0m \u001b[0mma\u001b[0m\u001b[1;33m.\u001b[0m\u001b[0mgetmask\u001b[0m\u001b[1;33m(\u001b[0m\u001b[0mz\u001b[0m\u001b[1;33m)\u001b[0m\u001b[1;33m\u001b[0m\u001b[1;33m\u001b[0m\u001b[0m\n",
      "\u001b[1;32m~\\Anaconda3\\lib\\site-packages\\matplotlib\\contour.py\u001b[0m in \u001b[0;36m_contour_args\u001b[1;34m(self, args, kwargs)\u001b[0m\n\u001b[0;32m   1561\u001b[0m             \u001b[0mwarnings\u001b[0m\u001b[1;33m.\u001b[0m\u001b[0mwarn\u001b[0m\u001b[1;33m(\u001b[0m\u001b[1;34m'Log scale: values of z <= 0 have been masked'\u001b[0m\u001b[1;33m)\u001b[0m\u001b[1;33m\u001b[0m\u001b[1;33m\u001b[0m\u001b[0m\n\u001b[0;32m   1562\u001b[0m             \u001b[0mself\u001b[0m\u001b[1;33m.\u001b[0m\u001b[0mzmin\u001b[0m \u001b[1;33m=\u001b[0m \u001b[0mfloat\u001b[0m\u001b[1;33m(\u001b[0m\u001b[0mz\u001b[0m\u001b[1;33m.\u001b[0m\u001b[0mmin\u001b[0m\u001b[1;33m(\u001b[0m\u001b[1;33m)\u001b[0m\u001b[1;33m)\u001b[0m\u001b[1;33m\u001b[0m\u001b[1;33m\u001b[0m\u001b[0m\n\u001b[1;32m-> 1563\u001b[1;33m         \u001b[0mself\u001b[0m\u001b[1;33m.\u001b[0m\u001b[0m_contour_level_args\u001b[0m\u001b[1;33m(\u001b[0m\u001b[0mz\u001b[0m\u001b[1;33m,\u001b[0m \u001b[0margs\u001b[0m\u001b[1;33m)\u001b[0m\u001b[1;33m\u001b[0m\u001b[1;33m\u001b[0m\u001b[0m\n\u001b[0m\u001b[0;32m   1564\u001b[0m         \u001b[1;32mreturn\u001b[0m \u001b[1;33m(\u001b[0m\u001b[0mx\u001b[0m\u001b[1;33m,\u001b[0m \u001b[0my\u001b[0m\u001b[1;33m,\u001b[0m \u001b[0mz\u001b[0m\u001b[1;33m)\u001b[0m\u001b[1;33m\u001b[0m\u001b[1;33m\u001b[0m\u001b[0m\n\u001b[0;32m   1565\u001b[0m \u001b[1;33m\u001b[0m\u001b[0m\n",
      "\u001b[1;32m~\\Anaconda3\\lib\\site-packages\\matplotlib\\contour.py\u001b[0m in \u001b[0;36m_contour_level_args\u001b[1;34m(self, z, args)\u001b[0m\n\u001b[0;32m   1232\u001b[0m             \u001b[0mlevels_arg\u001b[0m \u001b[1;33m=\u001b[0m \u001b[0mself\u001b[0m\u001b[1;33m.\u001b[0m\u001b[0mlevels\u001b[0m\u001b[1;33m\u001b[0m\u001b[1;33m\u001b[0m\u001b[0m\n\u001b[0;32m   1233\u001b[0m         \u001b[1;32mif\u001b[0m \u001b[0misinstance\u001b[0m\u001b[1;33m(\u001b[0m\u001b[0mlevels_arg\u001b[0m\u001b[1;33m,\u001b[0m \u001b[0mIntegral\u001b[0m\u001b[1;33m)\u001b[0m\u001b[1;33m:\u001b[0m\u001b[1;33m\u001b[0m\u001b[1;33m\u001b[0m\u001b[0m\n\u001b[1;32m-> 1234\u001b[1;33m             \u001b[0mself\u001b[0m\u001b[1;33m.\u001b[0m\u001b[0mlevels\u001b[0m \u001b[1;33m=\u001b[0m \u001b[0mself\u001b[0m\u001b[1;33m.\u001b[0m\u001b[0m_autolev\u001b[0m\u001b[1;33m(\u001b[0m\u001b[0mlevels_arg\u001b[0m\u001b[1;33m)\u001b[0m\u001b[1;33m\u001b[0m\u001b[1;33m\u001b[0m\u001b[0m\n\u001b[0m\u001b[0;32m   1235\u001b[0m         \u001b[1;32melse\u001b[0m\u001b[1;33m:\u001b[0m\u001b[1;33m\u001b[0m\u001b[1;33m\u001b[0m\u001b[0m\n\u001b[0;32m   1236\u001b[0m             \u001b[0mself\u001b[0m\u001b[1;33m.\u001b[0m\u001b[0mlevels\u001b[0m \u001b[1;33m=\u001b[0m \u001b[0mnp\u001b[0m\u001b[1;33m.\u001b[0m\u001b[0masarray\u001b[0m\u001b[1;33m(\u001b[0m\u001b[0mlevels_arg\u001b[0m\u001b[1;33m)\u001b[0m\u001b[1;33m.\u001b[0m\u001b[0mastype\u001b[0m\u001b[1;33m(\u001b[0m\u001b[0mnp\u001b[0m\u001b[1;33m.\u001b[0m\u001b[0mfloat64\u001b[0m\u001b[1;33m)\u001b[0m\u001b[1;33m\u001b[0m\u001b[1;33m\u001b[0m\u001b[0m\n",
      "\u001b[1;32m~\\Anaconda3\\lib\\site-packages\\matplotlib\\contour.py\u001b[0m in \u001b[0;36m_autolev\u001b[1;34m(self, N)\u001b[0m\n\u001b[0;32m   1192\u001b[0m                 \u001b[0mself\u001b[0m\u001b[1;33m.\u001b[0m\u001b[0mlocator\u001b[0m \u001b[1;33m=\u001b[0m \u001b[0mticker\u001b[0m\u001b[1;33m.\u001b[0m\u001b[0mMaxNLocator\u001b[0m\u001b[1;33m(\u001b[0m\u001b[0mN\u001b[0m \u001b[1;33m+\u001b[0m \u001b[1;36m1\u001b[0m\u001b[1;33m,\u001b[0m \u001b[0mmin_n_ticks\u001b[0m\u001b[1;33m=\u001b[0m\u001b[1;36m1\u001b[0m\u001b[1;33m)\u001b[0m\u001b[1;33m\u001b[0m\u001b[1;33m\u001b[0m\u001b[0m\n\u001b[0;32m   1193\u001b[0m \u001b[1;33m\u001b[0m\u001b[0m\n\u001b[1;32m-> 1194\u001b[1;33m         \u001b[0mlev\u001b[0m \u001b[1;33m=\u001b[0m \u001b[0mself\u001b[0m\u001b[1;33m.\u001b[0m\u001b[0mlocator\u001b[0m\u001b[1;33m.\u001b[0m\u001b[0mtick_values\u001b[0m\u001b[1;33m(\u001b[0m\u001b[0mself\u001b[0m\u001b[1;33m.\u001b[0m\u001b[0mzmin\u001b[0m\u001b[1;33m,\u001b[0m \u001b[0mself\u001b[0m\u001b[1;33m.\u001b[0m\u001b[0mzmax\u001b[0m\u001b[1;33m)\u001b[0m\u001b[1;33m\u001b[0m\u001b[1;33m\u001b[0m\u001b[0m\n\u001b[0m\u001b[0;32m   1195\u001b[0m \u001b[1;33m\u001b[0m\u001b[0m\n\u001b[0;32m   1196\u001b[0m         \u001b[1;32mtry\u001b[0m\u001b[1;33m:\u001b[0m\u001b[1;33m\u001b[0m\u001b[1;33m\u001b[0m\u001b[0m\n",
      "\u001b[1;32m~\\Anaconda3\\lib\\site-packages\\matplotlib\\ticker.py\u001b[0m in \u001b[0;36mtick_values\u001b[1;34m(self, vmin, vmax)\u001b[0m\n\u001b[0;32m   1991\u001b[0m         vmin, vmax = mtransforms.nonsingular(\n\u001b[0;32m   1992\u001b[0m             vmin, vmax, expander=1e-13, tiny=1e-14)\n\u001b[1;32m-> 1993\u001b[1;33m         \u001b[0mlocs\u001b[0m \u001b[1;33m=\u001b[0m \u001b[0mself\u001b[0m\u001b[1;33m.\u001b[0m\u001b[0m_raw_ticks\u001b[0m\u001b[1;33m(\u001b[0m\u001b[0mvmin\u001b[0m\u001b[1;33m,\u001b[0m \u001b[0mvmax\u001b[0m\u001b[1;33m)\u001b[0m\u001b[1;33m\u001b[0m\u001b[1;33m\u001b[0m\u001b[0m\n\u001b[0m\u001b[0;32m   1994\u001b[0m \u001b[1;33m\u001b[0m\u001b[0m\n\u001b[0;32m   1995\u001b[0m         \u001b[0mprune\u001b[0m \u001b[1;33m=\u001b[0m \u001b[0mself\u001b[0m\u001b[1;33m.\u001b[0m\u001b[0m_prune\u001b[0m\u001b[1;33m\u001b[0m\u001b[1;33m\u001b[0m\u001b[0m\n",
      "\u001b[1;32m~\\Anaconda3\\lib\\site-packages\\matplotlib\\ticker.py\u001b[0m in \u001b[0;36m_raw_ticks\u001b[1;34m(self, vmin, vmax)\u001b[0m\n\u001b[0;32m   1974\u001b[0m             \u001b[0mlow\u001b[0m \u001b[1;33m=\u001b[0m \u001b[0medge\u001b[0m\u001b[1;33m.\u001b[0m\u001b[0mle\u001b[0m\u001b[1;33m(\u001b[0m\u001b[0m_vmin\u001b[0m \u001b[1;33m-\u001b[0m \u001b[0mbest_vmin\u001b[0m\u001b[1;33m)\u001b[0m\u001b[1;33m\u001b[0m\u001b[1;33m\u001b[0m\u001b[0m\n\u001b[0;32m   1975\u001b[0m             \u001b[0mhigh\u001b[0m \u001b[1;33m=\u001b[0m \u001b[0medge\u001b[0m\u001b[1;33m.\u001b[0m\u001b[0mge\u001b[0m\u001b[1;33m(\u001b[0m\u001b[0m_vmax\u001b[0m \u001b[1;33m-\u001b[0m \u001b[0mbest_vmin\u001b[0m\u001b[1;33m)\u001b[0m\u001b[1;33m\u001b[0m\u001b[1;33m\u001b[0m\u001b[0m\n\u001b[1;32m-> 1976\u001b[1;33m             \u001b[0mticks\u001b[0m \u001b[1;33m=\u001b[0m \u001b[0mnp\u001b[0m\u001b[1;33m.\u001b[0m\u001b[0marange\u001b[0m\u001b[1;33m(\u001b[0m\u001b[0mlow\u001b[0m\u001b[1;33m,\u001b[0m \u001b[0mhigh\u001b[0m \u001b[1;33m+\u001b[0m \u001b[1;36m1\u001b[0m\u001b[1;33m)\u001b[0m \u001b[1;33m*\u001b[0m \u001b[0mstep\u001b[0m \u001b[1;33m+\u001b[0m \u001b[0mbest_vmin\u001b[0m\u001b[1;33m\u001b[0m\u001b[1;33m\u001b[0m\u001b[0m\n\u001b[0m\u001b[0;32m   1977\u001b[0m             \u001b[1;31m# Count only the ticks that will be displayed.\u001b[0m\u001b[1;33m\u001b[0m\u001b[1;33m\u001b[0m\u001b[1;33m\u001b[0m\u001b[0m\n\u001b[0;32m   1978\u001b[0m             \u001b[0mnticks\u001b[0m \u001b[1;33m=\u001b[0m \u001b[1;33m(\u001b[0m\u001b[1;33m(\u001b[0m\u001b[0mticks\u001b[0m \u001b[1;33m<=\u001b[0m \u001b[0m_vmax\u001b[0m\u001b[1;33m)\u001b[0m \u001b[1;33m&\u001b[0m \u001b[1;33m(\u001b[0m\u001b[0mticks\u001b[0m \u001b[1;33m>=\u001b[0m \u001b[0m_vmin\u001b[0m\u001b[1;33m)\u001b[0m\u001b[1;33m)\u001b[0m\u001b[1;33m.\u001b[0m\u001b[0msum\u001b[0m\u001b[1;33m(\u001b[0m\u001b[1;33m)\u001b[0m\u001b[1;33m\u001b[0m\u001b[1;33m\u001b[0m\u001b[0m\n",
      "\u001b[1;31mValueError\u001b[0m: arange: cannot compute length"
     ]
    },
    {
     "data": {
      "image/png": "[encoded data removed]",
      "text/plain": [
       "<Figure size 432x288 with 1 Axes>"
      ]
     },
     "metadata": {
      "needs_background": "light"
     },
     "output_type": "display_data"
    }
   ],
   "source": []
  },
  {
   "cell_type": "code",
   "execution_count": null,
   "metadata": {},
   "outputs": [],
   "source": []
  },
  {
   "cell_type": "code",
   "execution_count": 266,
   "metadata": {},
   "outputs": [],
   "source": [
    "fieldxz2[midx:,:] = flip(fieldxz2[:midx,:],axis=0)"
   ]
  },
  {
   "cell_type": "code",
   "execution_count": 269,
   "metadata": {
    "collapsed": true
   },
   "outputs": [
    {
     "name": "stderr",
     "output_type": "stream",
     "text": [
      "C:\\Users\\gothr\\Anaconda3\\lib\\site-packages\\ipykernel_launcher.py:1: RuntimeWarning: overflow encountered in multiply\n",
      "  \"\"\"Entry point for launching an IPython kernel.\n",
      "C:\\Users\\gothr\\Anaconda3\\lib\\site-packages\\ipykernel_launcher.py:1: RuntimeWarning: invalid value encountered in multiply\n",
      "  \"\"\"Entry point for launching an IPython kernel.\n"
     ]
    },
    {
     "data": {
      "text/plain": [
       "<matplotlib.contour.QuadContourSet at 0x147905e0e10>"
      ]
     },
     "execution_count": 269,
     "metadata": {},
     "output_type": "execute_result"
    },
    {
     "data": {
      "image/png": "[encoded data removed]",
      "text/plain": [
       "<Figure size 432x288 with 1 Axes>"
      ]
     },
     "metadata": {
      "needs_background": "light"
     },
     "output_type": "display_data"
    }
   ],
   "source": [
    "I2 = conjugate(fieldxz2)*fieldxz2\n",
    "plt.contourf(I2)"
   ]
  },
  {
   "cell_type": "code",
   "execution_count": 72,
   "metadata": {},
   "outputs": [
    {
     "data": {
      "text/plain": [
       "(25, 100)"
      ]
     },
     "execution_count": 72,
     "metadata": {},
     "output_type": "execute_result"
    }
   ],
   "source": [
    "full_fieldxz2.shape # i made an oopsie and didn't use even number of xpts"
   ]
  },
  {
   "cell_type": "code",
   "execution_count": 99,
   "metadata": {
    "collapsed": true
   },
   "outputs": [
    {
     "data": {
      "text/plain": [
       "Text(0.5, 1.0, 'XZ Slice of Field in Plane Behind Lens f2')"
      ]
     },
     "execution_count": 99,
     "metadata": {},
     "output_type": "execute_result"
    },
    {
     "data": {
      "image/png": "[encoded data removed]",
      "text/plain": [
       "<Figure size 432x288 with 1 Axes>"
      ]
     },
     "metadata": {
      "needs_background": "light"
     },
     "output_type": "display_data"
    }
   ],
   "source": [
    "# reflect the field about the z axis:\n",
    "# full_fieldxz2[midx:,:] = flip(fieldxz2[:midx,:])\n",
    "fig,ax = figax(ylabel='x', xlabel='z')\n",
    "ax.contourf(zpts2, xpts2[:midpt], conjugate(fieldxz2)*fieldxz2)\n",
    "ax.set_title('XZ Slice of Field in Plane Behind Lens f2')"
   ]
  },
  {
   "cell_type": "code",
   "execution_count": 84,
   "metadata": {},
   "outputs": [
    {
     "data": {
      "text/plain": [
       "0.00015225563909774436"
      ]
     },
     "execution_count": 84,
     "metadata": {},
     "output_type": "execute_result"
    }
   ],
   "source": [
    "zTalbot"
   ]
  },
  {
   "cell_type": "code",
   "execution_count": null,
   "metadata": {},
   "outputs": [],
   "source": []
  }
 ],
 "metadata": {
  "kernelspec": {
   "display_name": "Python 3",
   "language": "python",
   "name": "python3"
  },
  "language_info": {
   "codemirror_mode": {
    "name": "ipython",
    "version": 3
   },
   "file_extension": ".py",
   "mimetype": "text/x-python",
   "name": "python",
   "nbconvert_exporter": "python",
   "pygments_lexer": "ipython3",
   "version": "3.7.3"
  }
 },
 "nbformat": 4,
 "nbformat_minor": 2
}
