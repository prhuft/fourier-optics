{
 "cells": [
  {
   "cell_type": "code",
   "execution_count": 8,
   "id": "d412adf3",
   "metadata": {},
   "outputs": [],
   "source": [
    "import diffractio\n",
    "from diffractio import degrees, eps, mm, no_date, np, um\n",
    "from diffractio.scalar_fields_XYZ import Scalar_field_XYZ\n",
    "from diffractio.scalar_masks_XY import Scalar_mask_XY\n",
    "from diffractio.scalar_masks_XYZ import Scalar_mask_XYZ\n",
    "from diffractio.scalar_sources_XY import Scalar_source_XY\n",
    "\n",
    "from time import time"
   ]
  },
  {
   "cell_type": "code",
   "execution_count": null,
   "id": "63635899",
   "metadata": {},
   "outputs": [],
   "source": [
    "x0 = np.linspace(-25 * um, 25 * um, 128)\n",
    "y0 = np.linspace(-25 * um, 25 * um, 128)\n",
    "z0 = np.linspace(100 * um, 500 * um, 256)\n",
    "wavelength = .6328 * um\n",
    "\n",
    "t1 = Scalar_mask_XY(x=x0, y=y0, wavelength=wavelength)\n",
    "t1.circle(\n",
    "    r0=(0 * um, 0 * um), radius=(10 * um, 10 * um), angle=0 * degrees)\n",
    "t1.draw(filename='xyz_mask.png')\n",
    "\n",
    "uxyz = Scalar_mask_XYZ(x=x0, y=y0, z=z0, wavelength=wavelength)\n",
    "uxyz.incident_field(u0=t1)\n",
    "\n",
    "t0 = time()\n",
    "uxyz.RS(verbose=True, num_processors=8)\n",
    "print(f\"RS completed in {time()-t0} s\")"
   ]
  },
  {
   "cell_type": "code",
   "execution_count": 5,
   "id": "edd50249",
   "metadata": {},
   "outputs": [],
   "source": [
    "uxyz.draw_XYZ?"
   ]
  },
  {
   "cell_type": "code",
   "execution_count": 9,
   "id": "3c7f3fa3",
   "metadata": {
    "collapsed": true
   },
   "outputs": [
    {
     "name": "stdout",
     "output_type": "stream",
     "text": [
      "mayavi is not imported.\n",
      "traits is not imported.\n",
      "tvtk is not imported.\n"
     ]
    },
    {
     "ename": "NameError",
     "evalue": "name 'Array' is not defined",
     "output_type": "error",
     "traceback": [
      "\u001b[1;31m---------------------------------------------------------------------------\u001b[0m",
      "\u001b[1;31mNameError\u001b[0m                                 Traceback (most recent call last)",
      "\u001b[1;32m~\\AppData\\Local\\Temp/ipykernel_13904/879063463.py\u001b[0m in \u001b[0;36m<module>\u001b[1;34m\u001b[0m\n\u001b[1;32m----> 1\u001b[1;33m \u001b[0muxyz\u001b[0m\u001b[1;33m.\u001b[0m\u001b[0mdraw_XYZ\u001b[0m\u001b[1;33m(\u001b[0m\u001b[0mlogarithm\u001b[0m\u001b[1;33m=\u001b[0m\u001b[1;32mTrue\u001b[0m\u001b[1;33m,\u001b[0m \u001b[0mnormalize\u001b[0m\u001b[1;33m=\u001b[0m\u001b[1;34m'maximum'\u001b[0m\u001b[1;33m)\u001b[0m\u001b[1;33m\u001b[0m\u001b[1;33m\u001b[0m\u001b[0m\n\u001b[0m",
      "\u001b[1;32m~\\.virtualenvs\\fourier-optics-rBKOIr-o\\lib\\site-packages\\diffractio\\scalar_fields_XYZ.py\u001b[0m in \u001b[0;36mdraw_XYZ\u001b[1;34m(self, kind, logarithm, normalize, pixel_size)\u001b[0m\n\u001b[0;32m   1308\u001b[0m             \"\"\"\n\u001b[0;32m   1309\u001b[0m         \u001b[1;32mtry\u001b[0m\u001b[1;33m:\u001b[0m\u001b[1;33m\u001b[0m\u001b[1;33m\u001b[0m\u001b[0m\n\u001b[1;32m-> 1310\u001b[1;33m             \u001b[1;32mfrom\u001b[0m \u001b[1;33m.\u001b[0m\u001b[0mutils_slicer\u001b[0m \u001b[1;32mimport\u001b[0m \u001b[0mslicerLM\u001b[0m\u001b[1;33m\u001b[0m\u001b[1;33m\u001b[0m\u001b[0m\n\u001b[0m\u001b[0;32m   1311\u001b[0m             \u001b[0mis_slicer\u001b[0m \u001b[1;33m=\u001b[0m \u001b[1;32mTrue\u001b[0m\u001b[1;33m\u001b[0m\u001b[1;33m\u001b[0m\u001b[0m\n\u001b[0;32m   1312\u001b[0m         \u001b[1;32mexcept\u001b[0m \u001b[0mImportError\u001b[0m\u001b[1;33m:\u001b[0m\u001b[1;33m\u001b[0m\u001b[1;33m\u001b[0m\u001b[0m\n",
      "\u001b[1;32m~\\.virtualenvs\\fourier-optics-rBKOIr-o\\lib\\site-packages\\diffractio\\utils_slicer.py\u001b[0m in \u001b[0;36m<module>\u001b[1;34m\u001b[0m\n\u001b[0;32m     53\u001b[0m \u001b[1;33m\u001b[0m\u001b[0m\n\u001b[0;32m     54\u001b[0m \u001b[1;33m\u001b[0m\u001b[0m\n\u001b[1;32m---> 55\u001b[1;33m \u001b[1;32mclass\u001b[0m \u001b[0mVolumeSlicer\u001b[0m\u001b[1;33m(\u001b[0m\u001b[0mHasTraits\u001b[0m\u001b[1;33m)\u001b[0m\u001b[1;33m:\u001b[0m\u001b[1;33m\u001b[0m\u001b[1;33m\u001b[0m\u001b[0m\n\u001b[0m\u001b[0;32m     56\u001b[0m     \u001b[1;31m# The data to plot\u001b[0m\u001b[1;33m\u001b[0m\u001b[1;33m\u001b[0m\u001b[1;33m\u001b[0m\u001b[0m\n\u001b[0;32m     57\u001b[0m \u001b[1;33m\u001b[0m\u001b[0m\n",
      "\u001b[1;32m~\\.virtualenvs\\fourier-optics-rBKOIr-o\\lib\\site-packages\\diffractio\\utils_slicer.py\u001b[0m in \u001b[0;36mVolumeSlicer\u001b[1;34m()\u001b[0m\n\u001b[0;32m     56\u001b[0m     \u001b[1;31m# The data to plot\u001b[0m\u001b[1;33m\u001b[0m\u001b[1;33m\u001b[0m\u001b[1;33m\u001b[0m\u001b[0m\n\u001b[0;32m     57\u001b[0m \u001b[1;33m\u001b[0m\u001b[0m\n\u001b[1;32m---> 58\u001b[1;33m     \u001b[0mdata\u001b[0m \u001b[1;33m=\u001b[0m \u001b[0mArray\u001b[0m\u001b[1;33m(\u001b[0m\u001b[1;33m)\u001b[0m\u001b[1;33m\u001b[0m\u001b[1;33m\u001b[0m\u001b[0m\n\u001b[0m\u001b[0;32m     59\u001b[0m \u001b[1;33m\u001b[0m\u001b[0m\n\u001b[0;32m     60\u001b[0m     \u001b[1;31m# The 4 views displayed\u001b[0m\u001b[1;33m\u001b[0m\u001b[1;33m\u001b[0m\u001b[1;33m\u001b[0m\u001b[0m\n",
      "\u001b[1;31mNameError\u001b[0m: name 'Array' is not defined"
     ]
    }
   ],
   "source": [
    "uxyz.draw_XYZ(logarithm=True, normalize='maximum')"
   ]
  },
  {
   "cell_type": "code",
   "execution_count": null,
   "id": "58e5ab83",
   "metadata": {},
   "outputs": [],
   "source": []
  }
 ],
 "metadata": {
  "kernelspec": {
   "display_name": "Python 3 (ipykernel)",
   "language": "python",
   "name": "python3"
  },
  "language_info": {
   "codemirror_mode": {
    "name": "ipython",
    "version": 3
   },
   "file_extension": ".py",
   "mimetype": "text/x-python",
   "name": "python",
   "nbconvert_exporter": "python",
   "pygments_lexer": "ipython3",
   "version": "3.9.6"
  }
 },
 "nbformat": 4,
 "nbformat_minor": 5
}
