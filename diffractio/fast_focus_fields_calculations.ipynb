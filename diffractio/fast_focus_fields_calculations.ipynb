{
 "cells": [
  {
   "cell_type": "markdown",
   "id": "8642f8d4",
   "metadata": {},
   "source": [
    "# Fast focus field calculations\n",
    "Try to produce results from the paper of the same name by \n",
    "Marcel Leutenegger, et. al.\n",
    "\n",
    "this is for when I'm super bored..."
   ]
  },
  {
   "cell_type": "code",
   "execution_count": 194,
   "id": "5e8b3c1e",
   "metadata": {},
   "outputs": [],
   "source": [
    "from numpy import *\n",
    "from diffractio import degrees, mm, plt, sp, um, np\n",
    "from diffractio.scalar_fields_XY import Scalar_field_XY\n",
    "from diffractio.scalar_masks_XY import Scalar_mask_XY\n",
    "from diffractio.scalar_sources_XY import Scalar_source_XY\n",
    "from diffractio.vector_sources_XY import Vector_source_XY\n",
    "from diffractio.vector_masks_XY import Vector_mask_XY\n",
    "from diffractio.vector_fields_XY import Vector_field_XY\n",
    "\n",
    "from scipy.special import j1\n",
    "from numpy.fft import fft,ifft,fft2,ifft2,fftshift,ifftshift"
   ]
  }
 ],
 "metadata": {
  "kernelspec": {
   "display_name": "Python 3 (ipykernel)",
   "language": "python",
   "name": "python3"
  },
  "language_info": {
   "codemirror_mode": {
    "name": "ipython",
    "version": 3
   },
   "file_extension": ".py",
   "mimetype": "text/x-python",
   "name": "python",
   "nbconvert_exporter": "python",
   "pygments_lexer": "ipython3",
   "version": "3.9.6"
  }
 },
 "nbformat": 4,
 "nbformat_minor": 5
}
