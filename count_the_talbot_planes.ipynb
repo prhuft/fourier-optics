{
 "cells": [
  {
   "cell_type": "markdown",
   "metadata": {},
   "source": [
    "# Talbot plane counting\n",
    "Another notebook in the series of analysis of Mark's trap array design. Here I count how many Talbot planes form for a small array. "
   ]
  },
  {
   "cell_type": "code",
   "execution_count": 2,
   "metadata": {},
   "outputs": [
    {
     "data": {
      "text/html": [
       "<style>.container{width:100% !important;}</style>"
      ],
      "text/plain": [
       "<IPython.core.display.HTML object>"
      ]
     },
     "metadata": {},
     "output_type": "display_data"
    }
   ],
   "source": [
    "## general imports\n",
    "from numpy import *\n",
    "from numpy.fft import fft,fft2,fftshift,ifftshift\n",
    "\n",
    "from scipy.special import j0, j1\n",
    "from matplotlib import colors\n",
    "import matplotlib.pyplot as plt\n",
    "from time import time\n",
    "import random as rand\n",
    "\n",
    "## local imports\n",
    "from field_funcs import * # my helper functions\n",
    "\n",
    "## make the display wide\n",
    "from IPython.core.display import HTML, display, Image\n",
    "display(HTML(\"<style>.container{width:100% !important;}</style>\"))"
   ]
  },
  {
   "cell_type": "code",
   "execution_count": 3,
   "metadata": {
    "scrolled": true
   },
   "outputs": [
    {
     "name": "stdout",
     "output_type": "stream",
     "text": [
      "b=0.002066, a=0.00024, dx=0.00072, dy=0.00072, xnum=4, ynum=4\n",
      "zTalbotx=0.000128, zTalboty=0.000128\n"
     ]
    }
   ],
   "source": [
    "## physics and lens params\n",
    "lmbda = 8.13e-7\n",
    "k = 2*pi/lmbda\n",
    "f1 = 1 # lens focal length [m]\n",
    "f2 = 0.01\n",
    "A0 = 1 # input field amplitude \n",
    "\n",
    "## input mask params\n",
    "# r = 1/sqrt(1.66) # reflectivity of the spots. if not applicable, just set to 1. trust me.\n",
    "a = 2.4e-4 # spot radius\n",
    "dx = 3*a # grid periodicity\n",
    "dy = dx \n",
    "b = f1*3.8317/(a*k) # fourier plane filter radius\n",
    "xnum = ynum = 4 # number of grid points in each dimension\n",
    "\n",
    "## output field Talbot lengths\n",
    "Lx2 = f2*dx/f1 # output array periodicity\n",
    "Ly2 = f2*dy/f1\n",
    "zTalbotx = 2*Lx2**2/lmbda \n",
    "zTalboty = 2*Ly2**2/lmbda \n",
    "\n",
    "## print out parameters\n",
    "print(f'b={b:0.6f}, a={a}, dx={dx}, dy={dy}, xnum={xnum}, ynum={ynum}')\n",
    "print(f'zTalbotx={zTalbotx:0.6f}, zTalboty={zTalboty:0.6f}')"
   ]
  },
  {
   "cell_type": "code",
   "execution_count": 8,
   "metadata": {
    "scrolled": true
   },
   "outputs": [
    {
     "name": "stdout",
     "output_type": "stream",
     "text": [
      "202 808 202 808\n"
     ]
    },
    {
     "data": {
      "image/png": "[encoded data removed]",
      "text/plain": [
       "<Figure size 600x400 with 2 Axes>"
      ]
     },
     "metadata": {
      "needs_background": "light"
     },
     "output_type": "display_data"
    }
   ],
   "source": [
    "pts = 1011\n",
    "phi_std=None # [rad]\n",
    "pos_std=None\n",
    "r_aper = 0 #1/sqrt(1.778232201710943) # 1.778 is the bright spot peak intensity per input intensity. r_aper ~ .75. \n",
    "t_plate = 0 # plate transmissivity\n",
    "mask, x0pts, w = spot_mask(xnum, ynum, a, dx, dy, pts, phi_std=phi_std, pos_std=pos_std, aperture=1-r_aper, plate=t_plate)\n",
    "fig,ax = figax(xlabel=r'x [mm]', ylabel=r'y [mm]')\n",
    "fig.dpi=100\n",
    "ax.set_title(rf'Input Field Amplitude | dy/dx={dy/dx:0.2f}') #$t_{{spot}}$={1-r_aper:0.2f}, $t_{{plate}}$={t_plate:0.2f}',)\n",
    "mmscl = 1e3\n",
    "cax = ax.imshow(abs(mask), extent=[-w*mmscl,w*mmscl,-w*mmscl,w*mmscl])\n",
    "cax.set_norm(colors.Normalize(vmin=0, vmax=1))\n",
    "cbar = fig.colorbar(cax)\n",
    "\n",
    "# need to figure out FFT scaling to give output intensity the same as input intensity"
   ]
  },
  {
   "cell_type": "code",
   "execution_count": 32,
   "metadata": {
    "scrolled": true
   },
   "outputs": [
    {
     "name": "stdout",
     "output_type": "stream",
     "text": [
      "0 0.0\n",
      "1 1.0000000000000053\n",
      "2 1.9999999999999971\n",
      "3 3.000000000000002\n",
      "4 3.9999999999999942\n"
     ]
    }
   ],
   "source": [
    "for tp_idx in range(5): # iterate over talbot planes; 0 is focal plane\n",
    "    z2 = f2 + tp_idx*zTalbotx\n",
    "    print(int((z2 - f2)/zTalbotx+0.5), (z2 - f2)/zTalbotx)"
   ]
  },
  {
   "cell_type": "code",
   "execution_count": 9,
   "metadata": {},
   "outputs": [
    {
     "name": "stdout",
     "output_type": "stream",
     "text": [
      "f - z2 = 0\n",
      "calculated field2 in 4.33519983291626 s\n",
      "f - z2 = 0.0\n",
      "calculated field2 in 4.55482816696167 s\n",
      "wrote file to 4x4_bright_grid_focus.png\n",
      "f - z2 = -0.00012752767527675346\n",
      "calculated field2 in 4.426168203353882 s\n",
      "wrote file to 4x4_bright_grid_talbot1.png\n",
      "f - z2 = -0.0002550553505535052\n",
      "calculated field2 in 4.503959894180298 s\n",
      "wrote file to 4x4_bright_grid_talbot2.png\n",
      "f - z2 = -0.00038258302583025865\n",
      "calculated field2 in 4.917011022567749 s\n",
      "wrote file to 4x4_bright_grid_talbot3.png\n",
      "f - z2 = -0.0005101107011070104\n",
      "calculated field2 in 5.11393928527832 s\n",
      "wrote file to 4x4_bright_grid_talbot4.png\n",
      "f - z2 = -0.0006376383763837638\n",
      "calculated field2 in 4.9811317920684814 s\n",
      "wrote file to 4x4_bright_grid_talbot5.png\n",
      "f - z2 = -0.0007651660516605173\n",
      "calculated field2 in 4.926648139953613 s\n",
      "wrote file to 4x4_bright_grid_talbot6.png\n",
      "f - z2 = -0.000892693726937269\n",
      "calculated field2 in 4.998368740081787 s\n",
      "wrote file to 4x4_bright_grid_talbot7.png\n",
      "f - z2 = -0.0010202214022140225\n",
      "calculated field2 in 5.12729549407959 s\n",
      "wrote file to 4x4_bright_grid_talbot8.png\n"
     ]
    }
   ],
   "source": [
    "plt.close()\n",
    "savefile=True\n",
    "\n",
    "# FOURIER PLANE FIELD -- propogate the field and apply a filter in the Fourier plane\n",
    "padding = int(1.5*pts)\n",
    "rr0 = sqrt(x0pts**2 + x0pts.reshape(-1,1)**2)\n",
    "field1,x1pts = lens_xform(f1,mask,b,f1,k,x0pts,rr0,padding, masked=False,padval=1)\n",
    "\n",
    "# OUTPUT FIELD -- propagate field in Fourier plane to z2 behind lens f2\n",
    "rr1 = sqrt(x1pts**2 + x1pts.reshape(-1,1)**2)\n",
    "for tp_idx in range(9): # iterate over talbot planes; 0 is focal plane\n",
    "    z2 = f2 + tp_idx*zTalbotx\n",
    "    field2,x2pts = lens_xform(z2,field1,b,f2,k,x1pts,rr1,padding,masked=True)\n",
    "\n",
    "    I2_xy = conjugate(field2)*field2\n",
    "    if f2 - z2 == 0:\n",
    "        I2xy_max = amax(I2_xy)\n",
    "        r = 1/sqrt(I2xy_max)\n",
    "    I2_xy = I2_xy/I2xy_max\n",
    "\n",
    "    scl = 1e6\n",
    "    fig, ax = figax(xlabel=r'x [$\\mu$m]', ylabel=r'y [$\\mu$m]')\n",
    "    fig.dpi=100\n",
    "    if z2-f2 == 0:\n",
    "        planestr = \"Focal plane\"\n",
    "        fplanestr = \"focus\" \n",
    "    else:\n",
    "        planestr = f'Talbot plane {int((z2 - f2)/zTalbotx+0.5)}'\n",
    "        fplanestr = f\"talbot{int((z2 - f2)/zTalbotx+0.5)}\"\n",
    "    title = planestr\n",
    "    title += f' | d={int(dx/a)}a' #Uniform input $\\phi$\n",
    "    if z2-f2 != 0:\n",
    "        title += f' | Max I={amax(real(I2_xy)):.2f}'\n",
    "        title += '\\n Normalized to focal plane intensity'\n",
    "    ax.set_title(title)\n",
    "    if f2 - z2 == 0:\n",
    "        cax = ax.contourf(x2pts*scl, x2pts*scl, real(I2_xy), levels=linspace(0,1,11))\n",
    "    else:\n",
    "        cax = ax.contourf(x2pts*scl, x2pts*scl, real(I2_xy), levels=linspace(0,1,11))\n",
    "    # fig.colorbar(cax, ticks=arange(0,1.2,.2))\n",
    "    fig.colorbar(cax)\n",
    "    \n",
    "    fname = f'{xnum}x{ynum}_bright_grid_{fplanestr}.png'\n",
    "    if savefile:\n",
    "        plt.savefig(fname, bbox_inches='tight')\n",
    "        print('wrote file to',fname)\n",
    "        plt.close()"
   ]
  },
  {
   "cell_type": "code",
   "execution_count": 16,
   "metadata": {},
   "outputs": [
    {
     "data": {
      "text/plain": [
       "<matplotlib.colorbar.Colorbar at 0x19b2d5e07f0>"
      ]
     },
     "execution_count": 16,
     "metadata": {},
     "output_type": "execute_result"
    },
    {
     "data": {
      "image/png": "[encoded data removed]",
      "text/plain": [
       "<Figure size 600x400 with 2 Axes>"
      ]
     },
     "metadata": {
      "needs_background": "light"
     },
     "output_type": "display_data"
    }
   ],
   "source": [
    "scl = 1e6\n",
    "fig, ax = figax(xlabel=r'x [$\\mu$m]', ylabel=r'y [$\\mu$m]')\n",
    "fig.dpi=100\n",
    "if z2-f2 == 0:\n",
    "    planestr = \"Focal plane\"\n",
    "else:\n",
    "    planestr = f'Talbot plane {int((z2 - f2)/zTalbotx)}'\n",
    "title = planestr\n",
    "title += f' | d={int(dx/a)}a' #Uniform input $\\phi$\n",
    "if z2-f2 != 0:\n",
    "    title += f'Maxima={amax(real(I2_xy)):.2f}'\n",
    "    title += '\\n Normalized to focal plane intensity'\n",
    "ax.set_title(title)\n",
    "if f2 - z2 == 0:\n",
    "    cax = ax.contourf(x2pts*scl, x2pts*scl, real(I2_xy), levels=linspace(0,1,11))\n",
    "else:\n",
    "    cax = ax.contourf(x2pts*scl, x2pts*scl, real(I2_xy), levels=linspace(0,1,11))\n",
    "# fig.colorbar(cax, ticks=arange(0,1.2,.2))\n",
    "fig.colorbar(cax)"
   ]
  },
  {
   "cell_type": "code",
   "execution_count": null,
   "metadata": {},
   "outputs": [],
   "source": []
  }
 ],
 "metadata": {
  "kernelspec": {
   "display_name": "Python 3",
   "language": "python",
   "name": "python3"
  },
  "language_info": {
   "codemirror_mode": {
    "name": "ipython",
    "version": 3
   },
   "file_extension": ".py",
   "mimetype": "text/x-python",
   "name": "python",
   "nbconvert_exporter": "python",
   "pygments_lexer": "ipython3",
   "version": "3.7.3"
  }
 },
 "nbformat": 4,
 "nbformat_minor": 2
}
