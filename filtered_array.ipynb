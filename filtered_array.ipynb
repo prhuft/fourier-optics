{
 "cells": [
  {
   "cell_type": "markdown",
   "metadata": {},
   "source": [
    "## Periodic Array\n",
    "\n",
    "Calculate output field for a plane wave of wave number k and\n",
    "amplitude A0 passing through  \n",
    "1) aperture plate: rectangular grid of spots of radius a, dx,dy center to center; spots can be transmissive or reflective  \n",
    "2) lens f1  \n",
    "3) circular aperture radius b  \n",
    "4) lens f2  "
   ]
  },
  {
   "cell_type": "code",
   "execution_count": 47,
   "metadata": {},
   "outputs": [],
   "source": [
    "from numpy import *\n",
    "from numpy.fft import fft,fft2,fftshift,ifftshift\n",
    "from scipy.integrate import quad, dblquad\n",
    "from scipy.special import j0, j1\n",
    "import matplotlib.pyplot as plt\n",
    "from time import time, perf_counter_ns"
   ]
  },
  {
   "cell_type": "markdown",
   "metadata": {},
   "source": [
    "TODO: \n",
    "1) make field input aperture periodic, 1D  \n",
    "2) plot axial field from lens f2 onward using eq i derived"
   ]
  },
  {
   "cell_type": "code",
   "execution_count": 48,
   "metadata": {},
   "outputs": [],
   "source": [
    "## functions\n",
    "\n",
    "def from_quadrant3(qd3, field=None):\n",
    "    \"\"\"\n",
    "    construct field with rectangular symmetry given only\n",
    "    quadrant 3 (i.e., field is mirrored across x axis and\n",
    "    across y axis)\n",
    "    \n",
    "    'qd3' 2D numpy array\n",
    "    Return 'field' 2D numpy array\n",
    "    \"\"\"\n",
    "    \n",
    "    xpts, ypts = qd3.shape\n",
    "    xmpt, ympt = int(xpts/2), int(ypts/2)\n",
    "    \n",
    "    if field is None:\n",
    "        field = zeros((2*xpts, 2*ypts), complex)\n",
    "    \n",
    "    field[:midpt, :midpt] = qd3\n",
    "    # qd4\n",
    "    field[:midpt, midpt:] = flip(qd3, axis=1) \n",
    "    # qd1\n",
    "    field[midpt:, midpt:] = flip(qd3)\n",
    "    # qd2\n",
    "    field[midpt:, :midpt] = flip(qd3, axis=0)\n",
    "    \n",
    "    return field\n",
    "\n",
    "def get_meshgrid(w, pts, polar=False):\n",
    "    midpt = int(pts/2)\n",
    "    x = linspace(-w, w, pts)\n",
    "    y = linspace(-w, w, pts)\n",
    "    xx, yy = meshgrid(x,y, sparse=True)\n",
    "    if polar:\n",
    "        rr = sqrt(xx**2 + yy**2)\n",
    "        phi = arctan2(yy,xx)\n",
    "        phi[:midpt, :] += 2*pi\n",
    "        return x,midpt,rr,phi\n",
    "    else:\n",
    "        return x,midpt,xx,yy\n",
    "    \n",
    "def get_grid(dx,dy,xnum,ynum):\n",
    "    xpts = []\n",
    "    ypts = []\n",
    "    for i in range(xnum):\n",
    "        for j in range(ynum):\n",
    "            xpts.append((1+i)*dy - dy*(1+ynum)/2)\n",
    "            ypts.append((1+j)*dx - dx*(1+xnum)/2)\n",
    "    return xpts, ypts\n",
    "\n",
    "def figax():\n",
    "    fig,ax = plt.subplots()\n",
    "    ax.set_aspect('equal')\n",
    "    return fig, ax"
   ]
  },
  {
   "cell_type": "code",
   "execution_count": 4,
   "metadata": {},
   "outputs": [],
   "source": [
    "## physics and system params\n",
    "k = 2*pi/1.064e-6\n",
    "A0 = 1\n",
    "# want M = f2/f1 something like ~ .03\n",
    "f1 = 1\n",
    "f2 = 0.03\n",
    "a = 1e-4 # aperture 1 radius = 100 um\n",
    "b = f1*3.8317/(a*k) # the filter radius. 3.8317 is a00, the first zero of the J0(x).\n",
    "\n",
    "dx = 3*a # center-to-center spacing between spots\n",
    "dy = dx"
   ]
  },
  {
   "cell_type": "code",
   "execution_count": 5,
   "metadata": {},
   "outputs": [
    {
     "data": {
      "text/plain": [
       "(-0.0006000000000000001, 0.0006000000000000001)"
      ]
     },
     "execution_count": 5,
     "metadata": {},
     "output_type": "execute_result"
    },
    {
     "data": {
      "image/png": "[encoded data removed]",
      "text/plain": [
       "<Figure size 432x288 with 1 Axes>"
      ]
     },
     "metadata": {
      "needs_background": "light"
     },
     "output_type": "display_data"
    }
   ],
   "source": [
    "xspots = 4\n",
    "yspots = 4\n",
    "xpts, ypts = get_grid(dx,dy,xspots,yspots)\n",
    "\n",
    "# lines = []\n",
    "# for i in range(yspots):\n",
    "#     for j in range(xspots):\n",
    "#         lines.append([[0, (j+1)*dx - (dx + xspots)/2], [0, (i+1)*dy - (dy + yspots)/2]])\n",
    "        \n",
    "fig,ax = plt.subplots()\n",
    "ax.scatter(xpts, ypts)\n",
    "\n",
    "# for line in lines:\n",
    "#     ax.plot(*line)\n",
    "ax.set_aspect('equal')\n",
    "ax.set_xlim(-xspots*dx/2, xspots*dx/2)\n",
    "ax.set_ylim(-yspots*dx/2, yspots*dy/2)"
   ]
  },
  {
   "cell_type": "code",
   "execution_count": 6,
   "metadata": {},
   "outputs": [
    {
     "name": "stdout",
     "output_type": "stream",
     "text": [
      "input mask generated\n"
     ]
    }
   ],
   "source": [
    "## build the aperture mask:\n",
    "\n",
    "w = xspots*dx/2 # array half-width \n",
    "pts = 200 # the grid will be pts x pts\n",
    "xarr,midpt,xx,yy = get_meshgrid(w, pts) \n",
    "\n",
    "# the centroids of the apertures\n",
    "xpts, ypts = get_grid(dx,dy,4,4)\n",
    "\n",
    " \n",
    "plate = 0 # block the field\n",
    "aperture = 1 # transmit the field\n",
    "dimx = dimy = pts\n",
    "midx = int(dimx/2)\n",
    "midy = int(dimy/2)\n",
    "\n",
    "mask_a = full((dimx, dimy), plate)\n",
    "\n",
    "qd3 = mask_a[0:midx, 0:midy]\n",
    "\n",
    "for i in range(midy):\n",
    "    for j in range(midx):\n",
    "        \n",
    "        # check if coordinate overlaps an aperture\n",
    "        for x in xpts:\n",
    "            for y in ypts:\n",
    "                if sqrt((xx[0,j]-x)**2 + (yy[i,0]-y)**2) < a:\n",
    "                    qd3[i,j] = aperture\n",
    "                \n",
    "mask_a = from_quadrant3(qd3, mask_a)\n",
    "print(\"input mask generated\")"
   ]
  },
  {
   "cell_type": "code",
   "execution_count": 7,
   "metadata": {
    "scrolled": false
   },
   "outputs": [
    {
     "data": {
      "text/plain": [
       "<matplotlib.colorbar.Colorbar at 0x29a26e684e0>"
      ]
     },
     "execution_count": 7,
     "metadata": {},
     "output_type": "execute_result"
    },
    {
     "data": {
      "image/png": "[encoded data removed]",
      "text/plain": [
       "<Figure size 432x288 with 2 Axes>"
      ]
     },
     "metadata": {
      "needs_background": "light"
     },
     "output_type": "display_data"
    }
   ],
   "source": [
    "fig,ax = plt.subplots()\n",
    "cbar = ax.contourf(xarr/a,xarr/a,mask_a)\n",
    "ax.set_aspect('equal')\n",
    "fig.colorbar(cbar)"
   ]
  },
  {
   "cell_type": "markdown",
   "metadata": {},
   "source": [
    "## Analytically derived fields "
   ]
  },
  {
   "cell_type": "code",
   "execution_count": 83,
   "metadata": {
    "scrolled": true
   },
   "outputs": [
    {
     "name": "stdout",
     "output_type": "stream",
     "text": [
      "calculated field1 in 0.1795508861541748 s\n"
     ]
    }
   ],
   "source": [
    "w = 200*a\n",
    "pts = 200\n",
    "xarr,midpt,rr,phi = get_meshgrid(w, pts, polar=True)\n",
    "\n",
    "field1 = zeros((pts,pts), complex)\n",
    "\n",
    "dx = dy = 3*a\n",
    "xnum = ynum = 8\n",
    "xcents, ycents = get_grid(dx,dy,xnum,ynum)\n",
    "\n",
    "# def periodic_phase(i, j, z): \n",
    "#     xj = j*dx\n",
    "#     yi = i*dy\n",
    "#     total = 0 + 0j\n",
    "#     for x in xcents:\n",
    "#         for y in ycents:\n",
    "#             # todo: this phase is wrong. should be exp(1j k x r1/z)exp(1j k y r1/z) or similar\n",
    "# #             total += exp(1j*sqrt(x**2 + y**2)*r1*k/z)\n",
    "#             total += exp(1j*x*xj*k/f1)*exp(1j*y*yi*k/f1)\n",
    "#     return total\n",
    "\n",
    "def repeat_phase(i,j):\n",
    "    # this works for a square grid; need a dedicated yarr otherwise\n",
    "    x1 = xarr[i] \n",
    "    y1 = xarr[j]\n",
    "    return (sin(xnum*k*dx*x1/(2*f1))*sin(ynum*k*dy*y1/(2*f1)) \\\n",
    "            /(sin(sin(k*dx*x1/(2*f1))*sin(k*dy*y1/(2*f1)))))\n",
    "\n",
    "t0 = time()\n",
    "q3_phases = empty((midpt, midpt), complex)\n",
    "q3 = copy(field1[:midpt,:midpt])\n",
    "for i in range(midpt):\n",
    "    for j in range(midpt):\n",
    "        q3_phases[i,j] = repeat_phase(i,j)\n",
    "        q3[i,j] = A0*a*j1(a*rr[i,j]*k/f1)*q3_phases[i,j]/rr[i,j]\n",
    "        \n",
    "field1 = from_quadrant3(q3, field=field1)\n",
    "print(f\"calculated field1 in {time()-t0} s\")"
   ]
  },
  {
   "cell_type": "code",
   "execution_count": 84,
   "metadata": {
    "scrolled": true
   },
   "outputs": [
    {
     "data": {
      "image/png": "[encoded data removed]",
      "text/plain": [
       "<Figure size 432x288 with 1 Axes>"
      ]
     },
     "metadata": {
      "needs_background": "light"
     },
     "output_type": "display_data"
    }
   ],
   "source": [
    "phases = from_quadrant3(q3_phases)\n",
    "fig,ax = figax()\n",
    "cbar = ax.contourf(xarr/a, xarr/a, phases**2)"
   ]
  },
  {
   "cell_type": "code",
   "execution_count": 90,
   "metadata": {},
   "outputs": [
    {
     "data": {
      "text/plain": [
       "<matplotlib.colorbar.Colorbar at 0x29a2d1d9550>"
      ]
     },
     "execution_count": 90,
     "metadata": {},
     "output_type": "execute_result"
    },
    {
     "data": {
      "image/png": "[encoded data removed]",
      "text/plain": [
       "<Figure size 432x288 with 2 Axes>"
      ]
     },
     "metadata": {
      "needs_background": "light"
     },
     "output_type": "display_data"
    }
   ],
   "source": [
    "fig,ax = figax()\n",
    "I1 = conjugate(field1)*field1\n",
    "cbar = ax.contourf(xarr/a, xarr/a, I1)\n",
    "roi = 50\n",
    "ax.set_xlim(-roi,roi)\n",
    "ax.set_ylim(-roi,roi)\n",
    "ax.set_xlabel('x/a')\n",
    "ax.set_ylabel('y/a')\n",
    "fig.colorbar(cbar)"
   ]
  },
  {
   "cell_type": "code",
   "execution_count": 91,
   "metadata": {
    "scrolled": true
   },
   "outputs": [
    {
     "data": {
      "text/plain": [
       "[<matplotlib.lines.Line2D at 0x29a2d22b4a8>]"
      ]
     },
     "execution_count": 91,
     "metadata": {},
     "output_type": "execute_result"
    },
    {
     "data": {
      "image/png": "[encoded data removed]",
      "text/plain": [
       "<Figure size 432x288 with 1 Axes>"
      ]
     },
     "metadata": {
      "needs_background": "light"
     },
     "output_type": "display_data"
    }
   ],
   "source": [
    "plt.plot(xarr, (conjugate(field1)*field1)[midpt,:])"
   ]
  }
 ],
 "metadata": {
  "kernelspec": {
   "display_name": "Python 3",
   "language": "python",
   "name": "python3"
  },
  "language_info": {
   "codemirror_mode": {
    "name": "ipython",
    "version": 3
   },
   "file_extension": ".py",
   "mimetype": "text/x-python",
   "name": "python",
   "nbconvert_exporter": "python",
   "pygments_lexer": "ipython3",
   "version": "3.7.3"
  }
 },
 "nbformat": 4,
 "nbformat_minor": 2
}
