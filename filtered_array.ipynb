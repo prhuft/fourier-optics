{
 "cells": [
  {
   "cell_type": "code",
   "execution_count": 49,
   "metadata": {},
   "outputs": [],
   "source": [
    "from numpy import *\n",
    "from scipy.integrate import quad, dblquad\n",
    "from scipy.special import j0, j1\n",
    "import matplotlib.pyplot as plt\n",
    "from time import time, perf_counter_ns"
   ]
  },
  {
   "cell_type": "code",
   "execution_count": 37,
   "metadata": {},
   "outputs": [],
   "source": [
    "# setup the field\n",
    "\n",
    "# the output field for a plane wave of wave number k and\n",
    "# amplitude A0 passing through\n",
    "# 1) circular aperture, radius a\n",
    "# 2) lens f1\n",
    "# 3) circular aperture radius b\n",
    "# 4) lens f2\n",
    "\n",
    "# field returned at radius=r2"
   ]
  },
  {
   "cell_type": "markdown",
   "metadata": {},
   "source": [
    "TODO: \n",
    "1) make field input aperture periodic, 1D  \n",
    "2) plot axial field from lens f2 onward using eq i derived"
   ]
  },
  {
   "cell_type": "code",
   "execution_count": 239,
   "metadata": {},
   "outputs": [],
   "source": [
    "## functions\n",
    "\n",
    "def from_quadrant3(qd3, field=None):\n",
    "    \"\"\"\n",
    "    construct field with rectangular symmetry given only\n",
    "    quadrant 3 (i.e., field is mirrored across x axis and\n",
    "    across y axis)\n",
    "    \n",
    "    'qd3' 2D numpy array\n",
    "    Return 'field' 2D numpy array\n",
    "    \"\"\"\n",
    "    \n",
    "    xpts, ypts = qd3.shape\n",
    "    xmpt, ympt = int(xpts/2), int(ypts/2)\n",
    "    \n",
    "    if field is None:\n",
    "        field = zeros((2*xpts, 2*ypts))\n",
    "    \n",
    "    field[:midpt, :midpt] = qd3\n",
    "    # qd4\n",
    "    field[:midpt, midpt:] = flip(qd3, axis=1) \n",
    "    # qd1\n",
    "    field[midpt:, midpt:] = flip(qd3)\n",
    "    # qd2\n",
    "    field[midpt:, :midpt] = flip(qd3, axis=0)\n",
    "    \n",
    "    return field\n",
    "\n",
    "def get_meshgrid(w, pts, radial=False):\n",
    "    midpt = int(pts/2)\n",
    "    x = linspace(-w, w, pts)\n",
    "    y = linspace(-w, w, pts)\n",
    "    xx, yy = meshgrid(x,y, sparse=True)\n",
    "    if radial:\n",
    "        rr = sqrt(xx**2 + yy**2)\n",
    "        return x,midpt,rr\n",
    "    else:\n",
    "        return x,midpt,xx,yy"
   ]
  },
  {
   "cell_type": "code",
   "execution_count": 344,
   "metadata": {},
   "outputs": [],
   "source": [
    "## physics and system params\n",
    "k = 2*pi/1.064e-6\n",
    "A0 = 1\n",
    "# want M = f2/f1 something like ~ .03\n",
    "f1 = 1\n",
    "f2 = 0.03\n",
    "a = 1e-4 # aperture 1 radius = 100 um\n",
    "b = f1*3.8317/(a*k) # aperture 2 radius; 3.8317 is the Fourier filtered beam"
   ]
  },
  {
   "cell_type": "code",
   "execution_count": 345,
   "metadata": {},
   "outputs": [],
   "source": [
    "## build meshgrid \n",
    "w = 100*a # array width \n",
    "pts = 1000\n",
    "    \n",
    "x,midpt,rr = get_meshgrid(w, pts, radial=True)    "
   ]
  },
  {
   "cell_type": "code",
   "execution_count": 346,
   "metadata": {},
   "outputs": [],
   "source": [
    "## calculate the field in Fourier plane\n",
    "A1 = lambda r1: -1j*A0*a*j1(a*r1*k/f1)/r1\n",
    "qd3 = zeros((midpt, midpt), complex)\n",
    "for i in range(midpt):\n",
    "    for j in range(midpt):\n",
    "        qd3[i,j] = A1(rr[i,j])\n",
    "field1 = from_quadrant3(abs(qd3))"
   ]
  },
  {
   "cell_type": "code",
   "execution_count": 347,
   "metadata": {
    "scrolled": false
   },
   "outputs": [
    {
     "data": {
      "text/plain": [
       "Text(0, 0.5, 'y/a')"
      ]
     },
     "execution_count": 347,
     "metadata": {},
     "output_type": "execute_result"
    },
    {
     "data": {
      "image/png": "[encoded data removed]",
      "text/plain": [
       "<Figure size 432x288 with 1 Axes>"
      ]
     },
     "metadata": {
      "needs_background": "light"
     },
     "output_type": "display_data"
    }
   ],
   "source": [
    "fig,ax = plt.subplots()\n",
    "I1 = conjugate(field1)*field1\n",
    "ax.contourf(x/a,x/a,I1)\n",
    "ax.set_title('Intensity in Fourier Plane (A1)')\n",
    "ax.set_aspect('equal')\n",
    "ax.set_xlabel('x/a')\n",
    "ax.set_ylabel('y/a')"
   ]
  },
  {
   "cell_type": "code",
   "execution_count": 348,
   "metadata": {
    "scrolled": false
   },
   "outputs": [
    {
     "data": {
      "text/plain": [
       "[<matplotlib.lines.Line2D at 0x23580bab828>]"
      ]
     },
     "execution_count": 348,
     "metadata": {},
     "output_type": "execute_result"
    },
    {
     "data": {
      "image/png": "[encoded data removed]",
      "text/plain": [
       "<Figure size 432x288 with 1 Axes>"
      ]
     },
     "metadata": {
      "needs_background": "light"
     },
     "output_type": "display_data"
    }
   ],
   "source": [
    "fig, ax= plt.subplots()\n",
    "ax.plot(x/a, I1[midpt,:])"
   ]
  },
  {
   "cell_type": "code",
   "execution_count": 349,
   "metadata": {},
   "outputs": [
    {
     "data": {
      "text/plain": [
       "0.006488633711537092"
      ]
     },
     "execution_count": 349,
     "metadata": {},
     "output_type": "execute_result"
    }
   ],
   "source": [
    "b"
   ]
  },
  {
   "cell_type": "code",
   "execution_count": 333,
   "metadata": {},
   "outputs": [
    {
     "name": "stdout",
     "output_type": "stream",
     "text": [
      "total field 4.871927066824569e-08\n",
      "central field 2.9508606600003133e-08\n"
     ]
    }
   ],
   "source": [
    "## how much of the field is in that central ring?\n",
    "\n",
    "# i must be missing something to be getting such a small integral\n",
    "# result\n",
    "# I1int = lambda r1: r1*(a*A0*j1(a*r1*k/f1)/r1)**2\n",
    "\n",
    "# total = 2*pi*quad(I1int, 0, inf)[0]\n",
    "# print(f'total field {total}') # should be 1\n",
    "# central = 2*pi*quad(I1int, 0, .2)[0]\n",
    "# print(f'central field {central}')"
   ]
  },
  {
   "cell_type": "code",
   "execution_count": 356,
   "metadata": {
    "scrolled": true
   },
   "outputs": [
    {
     "name": "stdout",
     "output_type": "stream",
     "text": [
      "run time: 0.7151234149932861 [s]\n"
     ]
    }
   ],
   "source": [
    "## calcute the output field in the back focal plane of lens f2\n",
    "\n",
    "w = 1e-5\n",
    "pts = 200\n",
    "x,midpt,rr = get_meshgrid(w, pts, radial=True)    \n",
    "\n",
    "def integrand(r1, r2, a, k, f1, f2):\n",
    "    \"\"\"output field for 4f Fourier filtered plane wave\"\"\"\n",
    "    return j1(a*r1*k/f1)*j0(r1*r2*k/f2)\n",
    "\n",
    "# calculate only one quadrant, then reflect\n",
    "field = zeros((pts, pts))\n",
    "qd3 = field[0:midpt, 0:midpt]\n",
    "\n",
    "t0 = time()\n",
    "for i in range(midpt):\n",
    "    for j in range(midpt):\n",
    "        args = (rr[i,j], a, k, f1, f2)\n",
    "        qd3[i,j] = quad(integrand, 0, b, args)[0]\n",
    "print(f'run time: {time()-t0} [s]')\n",
    "field = from_quadrant3(qd3, field=field)\n",
    "# field *= -k*A0*a/f2 #"
   ]
  },
  {
   "cell_type": "code",
   "execution_count": 360,
   "metadata": {
    "scrolled": true
   },
   "outputs": [
    {
     "data": {
      "text/plain": [
       "Text(0, 0.5, 'y [um]')"
      ]
     },
     "execution_count": 360,
     "metadata": {},
     "output_type": "execute_result"
    },
    {
     "data": {
      "image/png": "[encoded data removed]",
      "text/plain": [
       "<Figure size 432x288 with 1 Axes>"
      ]
     },
     "metadata": {
      "needs_background": "light"
     },
     "output_type": "display_data"
    }
   ],
   "source": [
    "# question: how to get phase of field here? could calculate phase\n",
    "# using the transfer function on the input field?\n",
    "\n",
    "fig, ax = plt.subplots()\n",
    "ax.contourf(x*1e6,x*1e6,field**2)\n",
    "ax.set_aspect('equal')\n",
    "ax.set_title('Field in B.F.P. of Lens f2')\n",
    "ax.set_xlabel('x [um]')\n",
    "ax.set_ylabel('y [um]')"
   ]
  },
  {
   "cell_type": "code",
   "execution_count": 362,
   "metadata": {},
   "outputs": [
    {
     "data": {
      "text/plain": [
       "[<matplotlib.lines.Line2D at 0x235f8cf1cc0>]"
      ]
     },
     "execution_count": 362,
     "metadata": {},
     "output_type": "execute_result"
    },
    {
     "data": {
      "image/png": "[encoded data removed]",
      "text/plain": [
       "<Figure size 432x288 with 1 Axes>"
      ]
     },
     "metadata": {
      "needs_background": "light"
     },
     "output_type": "display_data"
    }
   ],
   "source": [
    "plt.plot(x*1e6,field[midpt,:]**2)"
   ]
  },
  {
   "cell_type": "code",
   "execution_count": null,
   "metadata": {},
   "outputs": [],
   "source": []
  }
 ],
 "metadata": {
  "kernelspec": {
   "display_name": "Python 3",
   "language": "python",
   "name": "python3"
  },
  "language_info": {
   "codemirror_mode": {
    "name": "ipython",
    "version": 3
   },
   "file_extension": ".py",
   "mimetype": "text/x-python",
   "name": "python",
   "nbconvert_exporter": "python",
   "pygments_lexer": "ipython3",
   "version": "3.7.3"
  }
 },
 "nbformat": 4,
 "nbformat_minor": 2
}
