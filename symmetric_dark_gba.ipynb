{
 "cells": [
  {
   "cell_type": "markdown",
   "metadata": {},
   "source": [
    "# Periodic Array - Dark Traps\n",
    "\n",
    "Calculate output field for a plane wave of wave number k and\n",
    "amplitude A0 passing through  \n",
    "1) aperture plate: rectangular grid of spots of radius a, dx,dy center to center; spots can be transmissive or reflective  \n",
    "2) lens f1  \n",
    "3) circular aperture radius b  \n",
    "4) lens f2  \n",
    "\n",
    "Everything in this notebook pertains to dark traps."
   ]
  },
  {
   "cell_type": "code",
   "execution_count": 3,
   "metadata": {},
   "outputs": [
    {
     "data": {
      "text/html": [
       "<style>.container{width:100% !important;}</style>"
      ],
      "text/plain": [
       "<IPython.core.display.HTML object>"
      ]
     },
     "metadata": {},
     "output_type": "display_data"
    }
   ],
   "source": [
    "from numpy import *\n",
    "from numpy.fft import fft,fft2,fftshift,ifftshift\n",
    "from scipy.integrate import quad, dblquad\n",
    "from scipy.special import j0, j1\n",
    "import matplotlib.pyplot as plt\n",
    "from time import time, perf_counter_ns\n",
    "import random as rand\n",
    "\n",
    "## make the display wide\n",
    "from IPython.core.display import HTML, display\n",
    "display(HTML(\"<style>.container{width:100% !important;}</style>\"))"
   ]
  },
  {
   "cell_type": "code",
   "execution_count": 4,
   "metadata": {},
   "outputs": [],
   "source": [
    "## functions\n",
    "\n",
    "def from_quadrant3(qd3, field=None):\n",
    "    \"\"\"\n",
    "    construct field with rectangular symmetry given only\n",
    "    quadrant 3 (i.e., field is mirrored across x axis and\n",
    "    across y axis)\n",
    "    \n",
    "    'qd3' 2D numpy array\n",
    "    Return 'field' 2D numpy array\n",
    "    \"\"\"\n",
    "    \n",
    "    xpts, ypts = qd3.shape\n",
    "    xmpt, ympt = int(xpts/2), int(ypts/2)\n",
    "    \n",
    "    if field is None:\n",
    "        field = zeros((2*xpts, 2*ypts), complex)\n",
    "    \n",
    "    field[:midpt, :midpt] = qd3\n",
    "    # qd4\n",
    "    field[:midpt, midpt:] = flip(qd3, axis=1) \n",
    "    # qd1\n",
    "    field[midpt:, midpt:] = flip(qd3)\n",
    "    # qd2\n",
    "    field[midpt:, :midpt] = flip(qd3, axis=0)\n",
    "    \n",
    "    return field\n",
    "\n",
    "def get_meshgrid(w, pts, polar=False):\n",
    "    \"\"\"\n",
    "    'w': grid half width\n",
    "    'pts': pts along one dimension; i.e. the full grid is pts x pts\n",
    "    \"\"\"\n",
    "    midpt = int(pts/2)\n",
    "    x = linspace(-w, w, pts)\n",
    "    y = linspace(-w, w, pts)\n",
    "    xx, yy = meshgrid(x,y, sparse=True)\n",
    "    if polar:\n",
    "        rr = sqrt(xx**2 + yy**2)\n",
    "        phi = arctan2(yy,xx)\n",
    "        phi[:midpt, :] += 2*pi\n",
    "        return x,midpt,rr,phi\n",
    "    else:\n",
    "        return x,midpt,xx,yy\n",
    "    \n",
    "def get_grid(dx,dy,xnum,ynum):\n",
    "    xpts = []\n",
    "    ypts = []\n",
    "    for i in range(xnum):\n",
    "        for j in range(ynum):\n",
    "            xpts.append((1+i)*dy - dy*(1+ynum)/2)\n",
    "            ypts.append((1+j)*dx - dx*(1+xnum)/2)\n",
    "    return xpts, ypts\n",
    "\n",
    "def figax(roi=None, ylabel='y/a', xlabel='x/a'):\n",
    "    fig,ax = plt.subplots()\n",
    "    if roi is not None:\n",
    "        ax.set_xlim(-roi,roi)\n",
    "        ax.set_ylim(-roi,roi)\n",
    "    ax.set_aspect('equal')\n",
    "    ax.set_xlabel(xlabel)\n",
    "    ax.set_ylabel(ylabel)\n",
    "    return fig, ax"
   ]
  },
  {
   "cell_type": "markdown",
   "metadata": {},
   "source": [
    "## Analytically derived fields \n",
    "\n",
    "The fields below are evaluated at specified points by numerical integration the integrals I derived for output plane field.  \n",
    "\n",
    "<b>TODO</b>\n",
    " * fix units in field below.\n",
    " * calculate expected peak intensity for bright trap and compare to result; use to get appropriate r value for reflective spots\n",
    " * plot dark trap array using that r\n",
    " * show Talbot plain mismatch mitigates trapping volumes"
   ]
  },
  {
   "cell_type": "markdown",
   "metadata": {},
   "source": [
    "### Field in output plane (A2)\n",
    "<b>Bright trap</b>\n",
    "\n",
    "I think the prefactor here has bad units such that the whole integral comes out as field amplitude per length^2\n",
    "\n",
    "\\begin{equation*} \n",
    "A_2(\\mathbf{\\rho_2}, z_2) = - A_0 \\frac{k a}{2 \\pi f_2} \\int_{-b}^b dx \\int_{-\\sqrt{b^2-x_1^2}}^{\\sqrt{b^2-x_1^2}} dy \\frac{\\sin{(\\frac{N k x_1 d}{2 f_1})}}{\\sin{(\\frac{k x_1 d}{2 f_1}})} \\frac{\\sin{(\\frac{N k y_1 d}{2 f_1})}}{\\sin{(\\frac{k y_1 d}{2 f_1}})} \\frac{J_1(a \\rho_1 \\frac{k}{f_1})}{\\rho_1}\\exp{\\bigg(-\\frac{i k}{2 f_2}(\\rho_1^2(\\frac{z_2}{f_2} - 1) + 2 \\mathbf{\\rho_1} \\cdot \\mathbf{\\rho_2)}\\bigg)}, \\quad \\rho_1 = \\sqrt{x_1^2 + y_1^2}\n",
    "\\end{equation*}\n",
    "\n",
    "Break up into real, imaginary to solve with scipy dblquad:\n",
    "\n",
    "\\begin{equation*} \n",
    "A_2(\\mathbf{\\rho_2}, z_2) = - A_0 \\frac{k a}{2 \\pi f_2} \\int_{-b}^b dx \\int_{-\\sqrt{b^2-x_1^2}}^{\\sqrt{b^2-x_1^2}} dy \\frac{\\sin{(\\frac{N k x_1 d}{2 f_1})}}{\\sin{(\\frac{k x_1 d}{2 f_1}})} \\frac{\\sin{(\\frac{N k y_1 d}{2 f_1})}}{\\sin{(\\frac{k y_1 d}{2 f_1}})} \\frac{J_1(a \\rho_1 \\frac{k}{f_1})}{\\rho_1}\\bigg(\\cos{\\bigg(\\frac{k}{2 f_2}(\\rho_1^2(\\frac{z_2}{f_2} - 1) + 2 \\mathbf{\\rho_1} \\cdot \\mathbf{\\rho_2)}\\bigg)} \\\\ - i \\sin{\\bigg(\\frac{k}{2 f_2}(\\rho_1^2(\\frac{z_2}{f_2} - 1) + 2 \\mathbf{\\rho_1} \\cdot \\mathbf{\\rho_2)}\\bigg)} \\bigg), \\quad \\rho_1 = \\sqrt{x_1^2 + y_1^2}\n",
    "\\end{equation*}\n",
    "\n",
    "<b>Dark Trap</b>\n",
    "\n",
    "The plate is now transmissive with spots of reflectivity r in place of the apertures.  \n",
    "Input field amplitude is $A_d$ (the plane wave amplitude at a unit cell), and the output field is\n",
    "\n",
    "\\begin{equation*}\n",
    "A_2 = - A_d - r\\sum_{ij}A_{2ij}\n",
    "\\end{equation*}\n",
    "where the the sum is merely the field A_2(\\mathbf{\\rho_2}) derived above. To create an array of dark traps whose near-Gaussian profiles have zero intensity at the center, we need  \n",
    "\n",
    "\\begin{equation*}\n",
    "I_{ij} = 0 \\propto |A_d|^2 + 2 r A_d \\cdot A_{2ij} + r^2 |A_{2ij}|^2\n",
    "\\end{equation*}  \n",
    "\n",
    "\n",
    "where $I_{ij}$ is the output net intensity at center of site (i,j). The peak intensity for the bright array is $I_t = \\epsilon I_d$. Using $I_t \\propto \\sqrt{A_{2ij}}$, we find the required reflection for $I_{ij} = 0$ to be $r = 1/\\sqrt{\\epsilon}$ \n",
    "\n",
    "But is the efficiency for a single aperture the same? The total intensity should be the same but for more apertures, we're going to get skinnier output beams and therefore higher peak intensities. This would suggest that the efficiency (and therefore r) for the single aperture is not what we're interested in here. "
   ]
  },
  {
   "cell_type": "code",
   "execution_count": 79,
   "metadata": {},
   "outputs": [],
   "source": [
    "## physics and system params. grid params based on Mark's ordered pieces\n",
    "lmbda = 8.25e-7\n",
    "k = 2*pi/lmbda\n",
    "A0 = 1\n",
    "# want M = f2/f1 something like ~ .03\n",
    "f1 = 1\n",
    "f2 = 0.03\n",
    "a = 1e-4 # aperture 1 radius = 100 um\n",
    "b = f1*3.8317/(a*k) # the filter radius. 3.8317 is a00, the first zero of the J0(x).\n",
    "\n",
    "dx = 4.3*a # center-to-center spacing between spots\n",
    "dy = dx\n",
    "\n",
    "xnum = ynum = 10"
   ]
  },
  {
   "cell_type": "code",
   "execution_count": 80,
   "metadata": {},
   "outputs": [],
   "source": [
    "def re_iint(y1, x1, y2, x2, z2):\n",
    "    \"\"\"\n",
    "    the real part of the integrand in the cell above for the output field.\n",
    "    \"\"\"\n",
    "    \n",
    "    r1 = sqrt(x1**2 + y1**2)\n",
    "    \n",
    "    intgd = (sin(xnum*k*dx*x1/(2*f1))*sin(ynum*k*dy*y1/(2*f1)) \\\n",
    "            /(sin(sin(k*dx*x1/(2*f1))*sin(k*dy*y1/(2*f1))))) \\\n",
    "            *j1(a*r1*k/f1)*cos(k*((z2/f2 - 1)*r1**2 + 2*(x1*x2 + y1*y2))/(2*f2))/r1\n",
    "    \n",
    "    return intgd\n",
    "\n",
    "\n",
    "def im_iint(y1, x1, y2, x2, z2):\n",
    "    \"\"\"\n",
    "    the imaginary part of the integrand in the cell above for the output field\n",
    "    \"\"\"\n",
    "    \n",
    "    r1 = sqrt(x1**2 + y1**2)\n",
    "    \n",
    "    intgd = - (sin(xnum*k*dx*x1/(2*f1))*sin(ynum*k*dy*y1/(2*f1)) \\\n",
    "              /(sin(sin(k*dx*x1/(2*f1))*sin(k*dy*y1/(2*f1))))) \\\n",
    "              *j1(a*r1*k/f1)*sin(k*((z2/f2 - 1)*r1**2 + 2*(x1*x2 + y1*y2))/(2*f2))/r1\n",
    "    \n",
    "    return intgd\n",
    "\n",
    "    \n",
    "def field2_int(x2, y2, z2):\n",
    "    \"\"\" \n",
    "    compute the integral in the cell above for the output field \n",
    "    integral broken up to avoid the pole at x1=y1 = 0; only integrate over \n",
    "    quadrant one in the Fourier plane, then multiply the result by 4 to \n",
    "    account for the other quadrants. works by symmetry. \n",
    "\n",
    "    Args:\n",
    "        x2\n",
    "        y2\n",
    "        z2: the distance from the second lens\n",
    "    Return:\n",
    "        'field': complex\n",
    "    \"\"\"\n",
    "    \n",
    "    # unconstrained limits: x in [-b,b], y in [-sqrt(b**2 - x**2), sqrt(b**2 - x**2)]\n",
    "    # 1 quadrant: x in [0,b], y in [0, sqrt(b**2 - x**2)]. make lower bound finite in either x or y\n",
    "    \n",
    "    iargs = (y2, x2, z2)\n",
    "    \n",
    "    # avoid the pole in x\n",
    "    field2 = 4*(A0*a*k)*(dblquad(re_iint, 1e-6, b, \n",
    "                                  lambda x: 0, # keep small enough to obtain good resolution\n",
    "                                  lambda x: sqrt(b**2 - x**2), \n",
    "                                  args=iargs)[0]/(2*pi*f1*f2) \n",
    "                          -1j*dblquad(im_iint, 1e-6, b, \n",
    "                                  lambda x: 0, # keep small enough to obtain good resolution \n",
    "                                  lambda x: sqrt(b**2 - x**2), \n",
    "                                  args=iargs)[0]/(2*pi*f2)) \n",
    "\n",
    "    \n",
    "    return field2"
   ]
  },
  {
   "cell_type": "code",
   "execution_count": 114,
   "metadata": {},
   "outputs": [],
   "source": [
    "# build the meshgrid\n",
    "w = dx*f2/f1 # 2 x 2 grid, dx = dy = 3*a, M = .03, gridwidth out ~ ((xnum-1)*d + a)*.03 = .12*a\n",
    "pts = 50\n",
    "\n",
    "# only works for square grid; need to update. get xarr, yarr, midx, midy\n",
    "xarr2,midpt,xx2,yy2 = get_meshgrid(w, pts, polar=False)\n",
    "\n",
    "field2 = zeros((pts,pts), complex)"
   ]
  },
  {
   "cell_type": "code",
   "execution_count": 115,
   "metadata": {
    "collapsed": true
   },
   "outputs": [
    {
     "name": "stdout",
     "output_type": "stream",
     "text": [
      "y step 0 in time 68.7236099243164 s\n",
      "y step 1 in time 77.679518699646 s\n",
      "y step 2 in time 78.73150062561035 s\n",
      "y step 3 in time 83.30539464950562 s\n",
      "y step 4 in time 85.37236523628235 s\n",
      "y step 5 in time 83.74310350418091 s\n",
      "y step 6 in time 84.36252284049988 s\n",
      "y step 7 in time 88.22523236274719 s\n",
      "y step 8 in time 88.19583225250244 s\n",
      "y step 9 in time 89.3351149559021 s\n",
      "y step 10 in time 89.62559986114502 s\n",
      "y step 11 in time 86.32521629333496 s\n",
      "y step 12 in time 87.18775773048401 s\n",
      "y step 13 in time 87.95725536346436 s\n",
      "y step 14 in time 87.07389187812805 s\n",
      "y step 15 in time 85.79584503173828 s\n",
      "y step 16 in time 85.15869855880737 s\n",
      "y step 17 in time 81.58014869689941 s\n",
      "y step 18 in time 79.88073348999023 s\n",
      "y step 19 in time 74.74258542060852 s\n",
      "y step 20 in time 71.74175906181335 s\n",
      "y step 21 in time 68.25243997573853 s\n",
      "y step 22 in time 65.87804365158081 s\n",
      "y step 23 in time 62.206223011016846 s\n",
      "y step 24 in time 58.39383935928345 s\n",
      "calculated field2 in 33.32473321358363 minutes\n"
     ]
    }
   ],
   "source": [
    "## compute the field\n",
    "z2 = f2\n",
    "t0 = time()\n",
    "q3 = copy(field2[:midpt,:midpt])\n",
    "for i in range(midpt):\n",
    "    ty = time()\n",
    "    for j in range(midpt):\n",
    "        q3[i,j] = field2_int(xx2[0,j], yy2[i,0] ,z2)\n",
    "    print(f'y step {i} in time {time()-ty} s')\n",
    "field2 = from_quadrant3(q3, field=field2)\n",
    "print(f\"calculated field2 in {(time()-t0)/60} minutes\")"
   ]
  },
  {
   "cell_type": "code",
   "execution_count": 117,
   "metadata": {
    "scrolled": true
   },
   "outputs": [
    {
     "data": {
      "text/plain": [
       "Text(0.5, 1.0, 'Output Focal Plane Intensity (10x10)')"
      ]
     },
     "execution_count": 117,
     "metadata": {},
     "output_type": "execute_result"
    },
    {
     "data": {
      "image/png": "[encoded data removed]",
      "text/plain": [
       "<Figure size 432x288 with 2 Axes>"
      ]
     },
     "metadata": {
      "needs_background": "light"
     },
     "output_type": "display_data"
    }
   ],
   "source": [
    "I2 = conjugate(field2)*field2\n",
    "I2 /= amax(I2)\n",
    "I2 = 1 - I2\n",
    "\n",
    "fig,ax = figax(xlabel=r'x [$\\mu$m]', ylabel=r'y [$\\mu$m]')\n",
    "cbar = ax.contourf(xarr2/1e-6,xarr2/1e-6,I2)\n",
    "fig.colorbar(cbar)\n",
    "ax.set_title(f'Output Focal Plane Intensity ({xnum}x{ynum})')\n",
    "# plt.savefig(f'dark_f2_intensity_{xnum}by{ynum}.png')"
   ]
  },
  {
   "cell_type": "code",
   "execution_count": 122,
   "metadata": {},
   "outputs": [
    {
     "data": {
      "text/plain": [
       "(2245.2189133171582+0j)"
      ]
     },
     "execution_count": 122,
     "metadata": {},
     "output_type": "execute_result"
    }
   ],
   "source": [
    "f2_Imax = amax(conjugate(field2)*field2)\n",
    "f2_Imax"
   ]
  },
  {
   "cell_type": "code",
   "execution_count": 240,
   "metadata": {},
   "outputs": [
    {
     "data": {
      "text/plain": [
       "5.1428571428571415"
      ]
     },
     "execution_count": 240,
     "metadata": {},
     "output_type": "execute_result"
    }
   ],
   "source": [
    "xarr2[int(midpt*1.4)]/1e-6"
   ]
  },
  {
   "cell_type": "code",
   "execution_count": 67,
   "metadata": {},
   "outputs": [
    {
     "data": {
      "image/png": "[encoded data removed]",
      "text/plain": [
       "<Figure size 432x288 with 1 Axes>"
      ]
     },
     "metadata": {
      "needs_background": "light"
     },
     "output_type": "display_data"
    }
   ],
   "source": [
    "# fig,ax = figax(xlabel=r'x [$\\mu$m]', ylabel=r'y [$\\mu$m]')\n",
    "fig,ax = plt.subplots()\n",
    "I2x = I2[int(midpt*1.4),:] # get a slice through y = 5 um\n",
    "ax.plot(xarr2/1e-6,I2x,color='darkblue')\n",
    "ax.set_title(f'Output Intensity ({xnum}x{ynum}) | Focal Plane '+r' y=5$\\mu$m slice')\n",
    "ax.set_xlabel(r'x [$\\mu$m]')\n",
    "ax.set_ylabel(r'Intensity [arb. units]')\n",
    "# plt.savefig(f'dark_f2_intensity_{xnum}by{ynum}_slice.png')"
   ]
  },
  {
   "cell_type": "markdown",
   "metadata": {},
   "source": [
    "## Talbot Plane Analysis"
   ]
  },
  {
   "cell_type": "code",
   "execution_count": 99,
   "metadata": {},
   "outputs": [],
   "source": [
    "## plot the field in the x2-z2 plane after lens 2. \n",
    "# could restrict to being on z-axis for a trap site\n",
    "\n",
    "Lx2 = (f2*dx/f1) # output array periodicity (big *I think* here)\n",
    "zTalbot = 2*Lx2**2/lmbda # Talbot length behind lens f2\n",
    "numxpts = 50\n",
    "numzpts = 1000\n",
    "\n",
    "assert numxpts % 2 == 0, \"need even numxpts to be able to reflect field\"\n",
    "midx = int(numxpts/2)\n",
    "\n",
    "w = Lx2 \n",
    "pts = 50\n",
    "\n",
    "xpts2 = linspace(-w, w, numxpts)\n",
    "zpts2 = linspace(f2 - 1.2*zTalbot, f2, numzpts) # plot two Talbot planes back from f2"
   ]
  },
  {
   "cell_type": "code",
   "execution_count": 84,
   "metadata": {},
   "outputs": [
    {
     "data": {
      "text/plain": [
       "(31.27272727272727, 0.0004034181818181817)"
      ]
     },
     "execution_count": 84,
     "metadata": {},
     "output_type": "execute_result"
    }
   ],
   "source": [
    "zTalbot/w, zTalbot"
   ]
  },
  {
   "cell_type": "code",
   "execution_count": 70,
   "metadata": {},
   "outputs": [
    {
     "name": "stdout",
     "output_type": "stream",
     "text": [
      "37 6.122448979591837e-06\n",
      "38 6.6122448979591815e-06\n",
      "39 7.102040816326529e-06\n"
     ]
    }
   ],
   "source": [
    "for i,x in enumerate(xpts2):\n",
    "    if x < 7.5e-6 and x > 6e-6:\n",
    "        print(i,x)"
   ]
  },
  {
   "cell_type": "code",
   "execution_count": 102,
   "metadata": {
    "collapsed": true
   },
   "outputs": [
    {
     "name": "stdout",
     "output_type": "stream",
     "text": [
      "zstep 0, time=70.89820337295532 s\n",
      "zstep 1, time=72.13070440292358 s\n",
      "zstep 2, time=72.43987774848938 s\n",
      "zstep 3, time=75.8156259059906 s\n",
      "zstep 4, time=72.13818526268005 s\n"
     ]
    },
    {
     "ename": "KeyboardInterrupt",
     "evalue": "",
     "output_type": "error",
     "traceback": [
      "\u001b[1;31m---------------------------------------------------------------------------\u001b[0m",
      "\u001b[1;31mKeyboardInterrupt\u001b[0m                         Traceback (most recent call last)",
      "\u001b[1;32m<ipython-input-102-f0f21a77e7a2>\u001b[0m in \u001b[0;36m<module>\u001b[1;34m\u001b[0m\n\u001b[0;32m      9\u001b[0m     \u001b[0mtz0\u001b[0m \u001b[1;33m=\u001b[0m \u001b[0mtime\u001b[0m\u001b[1;33m(\u001b[0m\u001b[1;33m)\u001b[0m\u001b[1;33m\u001b[0m\u001b[1;33m\u001b[0m\u001b[0m\n\u001b[0;32m     10\u001b[0m     \u001b[1;32mfor\u001b[0m \u001b[0mi\u001b[0m \u001b[1;32min\u001b[0m \u001b[0mrange\u001b[0m\u001b[1;33m(\u001b[0m\u001b[0mmidx\u001b[0m\u001b[1;33m)\u001b[0m\u001b[1;33m:\u001b[0m \u001b[1;31m# loop\u001b[0m\u001b[1;33m\u001b[0m\u001b[1;33m\u001b[0m\u001b[0m\n\u001b[1;32m---> 11\u001b[1;33m         \u001b[0mfieldxz2\u001b[0m\u001b[1;33m[\u001b[0m\u001b[0mi\u001b[0m\u001b[1;33m,\u001b[0m\u001b[0mj\u001b[0m\u001b[1;33m]\u001b[0m \u001b[1;33m=\u001b[0m \u001b[0mfield2_int\u001b[0m\u001b[1;33m(\u001b[0m\u001b[0mxpts2\u001b[0m\u001b[1;33m[\u001b[0m\u001b[0mi\u001b[0m\u001b[1;33m]\u001b[0m\u001b[1;33m,\u001b[0m \u001b[0my2\u001b[0m \u001b[1;33m,\u001b[0m\u001b[0mzpts2\u001b[0m\u001b[1;33m[\u001b[0m\u001b[0mj\u001b[0m\u001b[1;33m]\u001b[0m\u001b[1;33m)\u001b[0m\u001b[1;33m\u001b[0m\u001b[1;33m\u001b[0m\u001b[0m\n\u001b[0m\u001b[0;32m     12\u001b[0m     \u001b[0mprint\u001b[0m\u001b[1;33m(\u001b[0m\u001b[1;34mf\"zstep {j}, time={(time()-tz0)} s\"\u001b[0m\u001b[1;33m)\u001b[0m\u001b[1;33m\u001b[0m\u001b[1;33m\u001b[0m\u001b[0m\n\u001b[0;32m     13\u001b[0m \u001b[0mprint\u001b[0m\u001b[1;33m(\u001b[0m\u001b[1;34mf\"total time={time()-t0}\"\u001b[0m\u001b[1;33m)\u001b[0m\u001b[1;33m\u001b[0m\u001b[1;33m\u001b[0m\u001b[0m\n",
      "\u001b[1;32m<ipython-input-80-3bf10c7384cf>\u001b[0m in \u001b[0;36mfield2_int\u001b[1;34m(x2, y2, z2)\u001b[0m\n\u001b[0;32m     51\u001b[0m                                   \u001b[1;32mlambda\u001b[0m \u001b[0mx\u001b[0m\u001b[1;33m:\u001b[0m \u001b[1;36m0\u001b[0m\u001b[1;33m,\u001b[0m \u001b[1;31m# keep small enough to obtain good resolution\u001b[0m\u001b[1;33m\u001b[0m\u001b[1;33m\u001b[0m\u001b[0m\n\u001b[0;32m     52\u001b[0m                                   \u001b[1;32mlambda\u001b[0m \u001b[0mx\u001b[0m\u001b[1;33m:\u001b[0m \u001b[0msqrt\u001b[0m\u001b[1;33m(\u001b[0m\u001b[0mb\u001b[0m\u001b[1;33m**\u001b[0m\u001b[1;36m2\u001b[0m \u001b[1;33m-\u001b[0m \u001b[0mx\u001b[0m\u001b[1;33m**\u001b[0m\u001b[1;36m2\u001b[0m\u001b[1;33m)\u001b[0m\u001b[1;33m,\u001b[0m\u001b[1;33m\u001b[0m\u001b[1;33m\u001b[0m\u001b[0m\n\u001b[1;32m---> 53\u001b[1;33m                                   args=iargs)[0]/(2*pi*f1*f2) \n\u001b[0m\u001b[0;32m     54\u001b[0m                           -1j*dblquad(im_iint, 1e-6, b, \n\u001b[0;32m     55\u001b[0m                                   \u001b[1;32mlambda\u001b[0m \u001b[0mx\u001b[0m\u001b[1;33m:\u001b[0m \u001b[1;36m0\u001b[0m\u001b[1;33m,\u001b[0m \u001b[1;31m# keep small enough to obtain good resolution\u001b[0m\u001b[1;33m\u001b[0m\u001b[1;33m\u001b[0m\u001b[0m\n",
      "\u001b[1;32m~\\Anaconda3\\lib\\site-packages\\scipy\\integrate\\quadpack.py\u001b[0m in \u001b[0;36mdblquad\u001b[1;34m(func, a, b, gfun, hfun, args, epsabs, epsrel)\u001b[0m\n\u001b[0;32m    579\u001b[0m \u001b[1;33m\u001b[0m\u001b[0m\n\u001b[0;32m    580\u001b[0m     return nquad(func, [temp_ranges, [a, b]], args=args,\n\u001b[1;32m--> 581\u001b[1;33m             opts={\"epsabs\": epsabs, \"epsrel\": epsrel})\n\u001b[0m\u001b[0;32m    582\u001b[0m \u001b[1;33m\u001b[0m\u001b[0m\n\u001b[0;32m    583\u001b[0m \u001b[1;33m\u001b[0m\u001b[0m\n",
      "\u001b[1;32m~\\Anaconda3\\lib\\site-packages\\scipy\\integrate\\quadpack.py\u001b[0m in \u001b[0;36mnquad\u001b[1;34m(func, ranges, args, opts, full_output)\u001b[0m\n\u001b[0;32m    803\u001b[0m     \u001b[1;32melse\u001b[0m\u001b[1;33m:\u001b[0m\u001b[1;33m\u001b[0m\u001b[1;33m\u001b[0m\u001b[0m\n\u001b[0;32m    804\u001b[0m         \u001b[0mopts\u001b[0m \u001b[1;33m=\u001b[0m \u001b[1;33m[\u001b[0m\u001b[0mopt\u001b[0m \u001b[1;32mif\u001b[0m \u001b[0mcallable\u001b[0m\u001b[1;33m(\u001b[0m\u001b[0mopt\u001b[0m\u001b[1;33m)\u001b[0m \u001b[1;32melse\u001b[0m \u001b[0m_OptFunc\u001b[0m\u001b[1;33m(\u001b[0m\u001b[0mopt\u001b[0m\u001b[1;33m)\u001b[0m \u001b[1;32mfor\u001b[0m \u001b[0mopt\u001b[0m \u001b[1;32min\u001b[0m \u001b[0mopts\u001b[0m\u001b[1;33m]\u001b[0m\u001b[1;33m\u001b[0m\u001b[1;33m\u001b[0m\u001b[0m\n\u001b[1;32m--> 805\u001b[1;33m     \u001b[1;32mreturn\u001b[0m \u001b[0m_NQuad\u001b[0m\u001b[1;33m(\u001b[0m\u001b[0mfunc\u001b[0m\u001b[1;33m,\u001b[0m \u001b[0mranges\u001b[0m\u001b[1;33m,\u001b[0m \u001b[0mopts\u001b[0m\u001b[1;33m,\u001b[0m \u001b[0mfull_output\u001b[0m\u001b[1;33m)\u001b[0m\u001b[1;33m.\u001b[0m\u001b[0mintegrate\u001b[0m\u001b[1;33m(\u001b[0m\u001b[1;33m*\u001b[0m\u001b[0margs\u001b[0m\u001b[1;33m)\u001b[0m\u001b[1;33m\u001b[0m\u001b[1;33m\u001b[0m\u001b[0m\n\u001b[0m\u001b[0;32m    806\u001b[0m \u001b[1;33m\u001b[0m\u001b[0m\n\u001b[0;32m    807\u001b[0m \u001b[1;33m\u001b[0m\u001b[0m\n",
      "\u001b[1;32m~\\Anaconda3\\lib\\site-packages\\scipy\\integrate\\quadpack.py\u001b[0m in \u001b[0;36mintegrate\u001b[1;34m(self, *args, **kwargs)\u001b[0m\n\u001b[0;32m    858\u001b[0m             \u001b[0mf\u001b[0m \u001b[1;33m=\u001b[0m \u001b[0mpartial\u001b[0m\u001b[1;33m(\u001b[0m\u001b[0mself\u001b[0m\u001b[1;33m.\u001b[0m\u001b[0mintegrate\u001b[0m\u001b[1;33m,\u001b[0m \u001b[0mdepth\u001b[0m\u001b[1;33m=\u001b[0m\u001b[0mdepth\u001b[0m\u001b[1;33m+\u001b[0m\u001b[1;36m1\u001b[0m\u001b[1;33m)\u001b[0m\u001b[1;33m\u001b[0m\u001b[1;33m\u001b[0m\u001b[0m\n\u001b[0;32m    859\u001b[0m         quad_r = quad(f, low, high, args=args, full_output=self.full_output,\n\u001b[1;32m--> 860\u001b[1;33m                       **opt)\n\u001b[0m\u001b[0;32m    861\u001b[0m         \u001b[0mvalue\u001b[0m \u001b[1;33m=\u001b[0m \u001b[0mquad_r\u001b[0m\u001b[1;33m[\u001b[0m\u001b[1;36m0\u001b[0m\u001b[1;33m]\u001b[0m\u001b[1;33m\u001b[0m\u001b[1;33m\u001b[0m\u001b[0m\n\u001b[0;32m    862\u001b[0m         \u001b[0mabserr\u001b[0m \u001b[1;33m=\u001b[0m \u001b[0mquad_r\u001b[0m\u001b[1;33m[\u001b[0m\u001b[1;36m1\u001b[0m\u001b[1;33m]\u001b[0m\u001b[1;33m\u001b[0m\u001b[1;33m\u001b[0m\u001b[0m\n",
      "\u001b[1;32m~\\Anaconda3\\lib\\site-packages\\scipy\\integrate\\quadpack.py\u001b[0m in \u001b[0;36mquad\u001b[1;34m(func, a, b, args, full_output, epsabs, epsrel, limit, points, weight, wvar, wopts, maxp1, limlst)\u001b[0m\n\u001b[0;32m    339\u001b[0m     \u001b[1;32mif\u001b[0m \u001b[0mweight\u001b[0m \u001b[1;32mis\u001b[0m \u001b[1;32mNone\u001b[0m\u001b[1;33m:\u001b[0m\u001b[1;33m\u001b[0m\u001b[1;33m\u001b[0m\u001b[0m\n\u001b[0;32m    340\u001b[0m         retval = _quad(func, a, b, args, full_output, epsabs, epsrel, limit,\n\u001b[1;32m--> 341\u001b[1;33m                        points)\n\u001b[0m\u001b[0;32m    342\u001b[0m     \u001b[1;32melse\u001b[0m\u001b[1;33m:\u001b[0m\u001b[1;33m\u001b[0m\u001b[1;33m\u001b[0m\u001b[0m\n\u001b[0;32m    343\u001b[0m         retval = _quad_weight(func, a, b, args, full_output, epsabs, epsrel,\n",
      "\u001b[1;32m~\\Anaconda3\\lib\\site-packages\\scipy\\integrate\\quadpack.py\u001b[0m in \u001b[0;36m_quad\u001b[1;34m(func, a, b, args, full_output, epsabs, epsrel, limit, points)\u001b[0m\n\u001b[0;32m    446\u001b[0m     \u001b[1;32mif\u001b[0m \u001b[0mpoints\u001b[0m \u001b[1;32mis\u001b[0m \u001b[1;32mNone\u001b[0m\u001b[1;33m:\u001b[0m\u001b[1;33m\u001b[0m\u001b[1;33m\u001b[0m\u001b[0m\n\u001b[0;32m    447\u001b[0m         \u001b[1;32mif\u001b[0m \u001b[0minfbounds\u001b[0m \u001b[1;33m==\u001b[0m \u001b[1;36m0\u001b[0m\u001b[1;33m:\u001b[0m\u001b[1;33m\u001b[0m\u001b[1;33m\u001b[0m\u001b[0m\n\u001b[1;32m--> 448\u001b[1;33m             \u001b[1;32mreturn\u001b[0m \u001b[0m_quadpack\u001b[0m\u001b[1;33m.\u001b[0m\u001b[0m_qagse\u001b[0m\u001b[1;33m(\u001b[0m\u001b[0mfunc\u001b[0m\u001b[1;33m,\u001b[0m\u001b[0ma\u001b[0m\u001b[1;33m,\u001b[0m\u001b[0mb\u001b[0m\u001b[1;33m,\u001b[0m\u001b[0margs\u001b[0m\u001b[1;33m,\u001b[0m\u001b[0mfull_output\u001b[0m\u001b[1;33m,\u001b[0m\u001b[0mepsabs\u001b[0m\u001b[1;33m,\u001b[0m\u001b[0mepsrel\u001b[0m\u001b[1;33m,\u001b[0m\u001b[0mlimit\u001b[0m\u001b[1;33m)\u001b[0m\u001b[1;33m\u001b[0m\u001b[1;33m\u001b[0m\u001b[0m\n\u001b[0m\u001b[0;32m    449\u001b[0m         \u001b[1;32melse\u001b[0m\u001b[1;33m:\u001b[0m\u001b[1;33m\u001b[0m\u001b[1;33m\u001b[0m\u001b[0m\n\u001b[0;32m    450\u001b[0m             \u001b[1;32mreturn\u001b[0m \u001b[0m_quadpack\u001b[0m\u001b[1;33m.\u001b[0m\u001b[0m_qagie\u001b[0m\u001b[1;33m(\u001b[0m\u001b[0mfunc\u001b[0m\u001b[1;33m,\u001b[0m\u001b[0mbound\u001b[0m\u001b[1;33m,\u001b[0m\u001b[0minfbounds\u001b[0m\u001b[1;33m,\u001b[0m\u001b[0margs\u001b[0m\u001b[1;33m,\u001b[0m\u001b[0mfull_output\u001b[0m\u001b[1;33m,\u001b[0m\u001b[0mepsabs\u001b[0m\u001b[1;33m,\u001b[0m\u001b[0mepsrel\u001b[0m\u001b[1;33m,\u001b[0m\u001b[0mlimit\u001b[0m\u001b[1;33m)\u001b[0m\u001b[1;33m\u001b[0m\u001b[1;33m\u001b[0m\u001b[0m\n",
      "\u001b[1;32m~\\Anaconda3\\lib\\site-packages\\scipy\\integrate\\quadpack.py\u001b[0m in \u001b[0;36mintegrate\u001b[1;34m(self, *args, **kwargs)\u001b[0m\n\u001b[0;32m    858\u001b[0m             \u001b[0mf\u001b[0m \u001b[1;33m=\u001b[0m \u001b[0mpartial\u001b[0m\u001b[1;33m(\u001b[0m\u001b[0mself\u001b[0m\u001b[1;33m.\u001b[0m\u001b[0mintegrate\u001b[0m\u001b[1;33m,\u001b[0m \u001b[0mdepth\u001b[0m\u001b[1;33m=\u001b[0m\u001b[0mdepth\u001b[0m\u001b[1;33m+\u001b[0m\u001b[1;36m1\u001b[0m\u001b[1;33m)\u001b[0m\u001b[1;33m\u001b[0m\u001b[1;33m\u001b[0m\u001b[0m\n\u001b[0;32m    859\u001b[0m         quad_r = quad(f, low, high, args=args, full_output=self.full_output,\n\u001b[1;32m--> 860\u001b[1;33m                       **opt)\n\u001b[0m\u001b[0;32m    861\u001b[0m         \u001b[0mvalue\u001b[0m \u001b[1;33m=\u001b[0m \u001b[0mquad_r\u001b[0m\u001b[1;33m[\u001b[0m\u001b[1;36m0\u001b[0m\u001b[1;33m]\u001b[0m\u001b[1;33m\u001b[0m\u001b[1;33m\u001b[0m\u001b[0m\n\u001b[0;32m    862\u001b[0m         \u001b[0mabserr\u001b[0m \u001b[1;33m=\u001b[0m \u001b[0mquad_r\u001b[0m\u001b[1;33m[\u001b[0m\u001b[1;36m1\u001b[0m\u001b[1;33m]\u001b[0m\u001b[1;33m\u001b[0m\u001b[1;33m\u001b[0m\u001b[0m\n",
      "\u001b[1;32m~\\Anaconda3\\lib\\site-packages\\scipy\\integrate\\quadpack.py\u001b[0m in \u001b[0;36mquad\u001b[1;34m(func, a, b, args, full_output, epsabs, epsrel, limit, points, weight, wvar, wopts, maxp1, limlst)\u001b[0m\n\u001b[0;32m    339\u001b[0m     \u001b[1;32mif\u001b[0m \u001b[0mweight\u001b[0m \u001b[1;32mis\u001b[0m \u001b[1;32mNone\u001b[0m\u001b[1;33m:\u001b[0m\u001b[1;33m\u001b[0m\u001b[1;33m\u001b[0m\u001b[0m\n\u001b[0;32m    340\u001b[0m         retval = _quad(func, a, b, args, full_output, epsabs, epsrel, limit,\n\u001b[1;32m--> 341\u001b[1;33m                        points)\n\u001b[0m\u001b[0;32m    342\u001b[0m     \u001b[1;32melse\u001b[0m\u001b[1;33m:\u001b[0m\u001b[1;33m\u001b[0m\u001b[1;33m\u001b[0m\u001b[0m\n\u001b[0;32m    343\u001b[0m         retval = _quad_weight(func, a, b, args, full_output, epsabs, epsrel,\n",
      "\u001b[1;32m~\\Anaconda3\\lib\\site-packages\\scipy\\integrate\\quadpack.py\u001b[0m in \u001b[0;36m_quad\u001b[1;34m(func, a, b, args, full_output, epsabs, epsrel, limit, points)\u001b[0m\n\u001b[0;32m    446\u001b[0m     \u001b[1;32mif\u001b[0m \u001b[0mpoints\u001b[0m \u001b[1;32mis\u001b[0m \u001b[1;32mNone\u001b[0m\u001b[1;33m:\u001b[0m\u001b[1;33m\u001b[0m\u001b[1;33m\u001b[0m\u001b[0m\n\u001b[0;32m    447\u001b[0m         \u001b[1;32mif\u001b[0m \u001b[0minfbounds\u001b[0m \u001b[1;33m==\u001b[0m \u001b[1;36m0\u001b[0m\u001b[1;33m:\u001b[0m\u001b[1;33m\u001b[0m\u001b[1;33m\u001b[0m\u001b[0m\n\u001b[1;32m--> 448\u001b[1;33m             \u001b[1;32mreturn\u001b[0m \u001b[0m_quadpack\u001b[0m\u001b[1;33m.\u001b[0m\u001b[0m_qagse\u001b[0m\u001b[1;33m(\u001b[0m\u001b[0mfunc\u001b[0m\u001b[1;33m,\u001b[0m\u001b[0ma\u001b[0m\u001b[1;33m,\u001b[0m\u001b[0mb\u001b[0m\u001b[1;33m,\u001b[0m\u001b[0margs\u001b[0m\u001b[1;33m,\u001b[0m\u001b[0mfull_output\u001b[0m\u001b[1;33m,\u001b[0m\u001b[0mepsabs\u001b[0m\u001b[1;33m,\u001b[0m\u001b[0mepsrel\u001b[0m\u001b[1;33m,\u001b[0m\u001b[0mlimit\u001b[0m\u001b[1;33m)\u001b[0m\u001b[1;33m\u001b[0m\u001b[1;33m\u001b[0m\u001b[0m\n\u001b[0m\u001b[0;32m    449\u001b[0m         \u001b[1;32melse\u001b[0m\u001b[1;33m:\u001b[0m\u001b[1;33m\u001b[0m\u001b[1;33m\u001b[0m\u001b[0m\n\u001b[0;32m    450\u001b[0m             \u001b[1;32mreturn\u001b[0m \u001b[0m_quadpack\u001b[0m\u001b[1;33m.\u001b[0m\u001b[0m_qagie\u001b[0m\u001b[1;33m(\u001b[0m\u001b[0mfunc\u001b[0m\u001b[1;33m,\u001b[0m\u001b[0mbound\u001b[0m\u001b[1;33m,\u001b[0m\u001b[0minfbounds\u001b[0m\u001b[1;33m,\u001b[0m\u001b[0margs\u001b[0m\u001b[1;33m,\u001b[0m\u001b[0mfull_output\u001b[0m\u001b[1;33m,\u001b[0m\u001b[0mepsabs\u001b[0m\u001b[1;33m,\u001b[0m\u001b[0mepsrel\u001b[0m\u001b[1;33m,\u001b[0m\u001b[0mlimit\u001b[0m\u001b[1;33m)\u001b[0m\u001b[1;33m\u001b[0m\u001b[1;33m\u001b[0m\u001b[0m\n",
      "\u001b[1;32m<ipython-input-80-3bf10c7384cf>\u001b[0m in \u001b[0;36mre_iint\u001b[1;34m(y1, x1, y2, x2, z2)\u001b[0m\n\u001b[0;32m      8\u001b[0m     intgd = (sin(xnum*k*dx*x1/(2*f1))*sin(ynum*k*dy*y1/(2*f1)) \\\n\u001b[0;32m      9\u001b[0m             /(sin(sin(k*dx*x1/(2*f1))*sin(k*dy*y1/(2*f1))))) \\\n\u001b[1;32m---> 10\u001b[1;33m             \u001b[1;33m*\u001b[0m\u001b[0mj1\u001b[0m\u001b[1;33m(\u001b[0m\u001b[0ma\u001b[0m\u001b[1;33m*\u001b[0m\u001b[0mr1\u001b[0m\u001b[1;33m*\u001b[0m\u001b[0mk\u001b[0m\u001b[1;33m/\u001b[0m\u001b[0mf1\u001b[0m\u001b[1;33m)\u001b[0m\u001b[1;33m*\u001b[0m\u001b[0mcos\u001b[0m\u001b[1;33m(\u001b[0m\u001b[0mk\u001b[0m\u001b[1;33m*\u001b[0m\u001b[1;33m(\u001b[0m\u001b[1;33m(\u001b[0m\u001b[0mz2\u001b[0m\u001b[1;33m/\u001b[0m\u001b[0mf2\u001b[0m \u001b[1;33m-\u001b[0m \u001b[1;36m1\u001b[0m\u001b[1;33m)\u001b[0m\u001b[1;33m*\u001b[0m\u001b[0mr1\u001b[0m\u001b[1;33m**\u001b[0m\u001b[1;36m2\u001b[0m \u001b[1;33m+\u001b[0m \u001b[1;36m2\u001b[0m\u001b[1;33m*\u001b[0m\u001b[1;33m(\u001b[0m\u001b[0mx1\u001b[0m\u001b[1;33m*\u001b[0m\u001b[0mx2\u001b[0m \u001b[1;33m+\u001b[0m \u001b[0my1\u001b[0m\u001b[1;33m*\u001b[0m\u001b[0my2\u001b[0m\u001b[1;33m)\u001b[0m\u001b[1;33m)\u001b[0m\u001b[1;33m/\u001b[0m\u001b[1;33m(\u001b[0m\u001b[1;36m2\u001b[0m\u001b[1;33m*\u001b[0m\u001b[0mf2\u001b[0m\u001b[1;33m)\u001b[0m\u001b[1;33m)\u001b[0m\u001b[1;33m/\u001b[0m\u001b[0mr1\u001b[0m\u001b[1;33m\u001b[0m\u001b[1;33m\u001b[0m\u001b[0m\n\u001b[0m\u001b[0;32m     11\u001b[0m \u001b[1;33m\u001b[0m\u001b[0m\n\u001b[0;32m     12\u001b[0m     \u001b[1;32mreturn\u001b[0m \u001b[0mintgd\u001b[0m\u001b[1;33m\u001b[0m\u001b[1;33m\u001b[0m\u001b[0m\n",
      "\u001b[1;31mKeyboardInterrupt\u001b[0m: "
     ]
    }
   ],
   "source": [
    "## now make a contour plot in x2-z2 plane\n",
    "# seems like this works. up the z pts\n",
    "\n",
    "y2 = xpts2[39] # plane intersecting gaussians near minima\n",
    "\n",
    "fieldxz2 = empty((numxpts, numzpts), complex)\n",
    "t0 = time()\n",
    "for j in range(0,numzpts):\n",
    "    tz0 = time()\n",
    "    for i in range(midx): # loop \n",
    "        fieldxz2[i,j] = field2_int(xpts2[i], y2 ,zpts2[j])\n",
    "    print(f\"zstep {j}, time={(time()-tz0)} s\")\n",
    "print(f\"total time={time()-t0}\")"
   ]
  },
  {
   "cell_type": "code",
   "execution_count": 85,
   "metadata": {},
   "outputs": [],
   "source": [
    "fieldxz2[midx:] = flip(fieldxz2[:midx,:], axis=0)"
   ]
  },
  {
   "cell_type": "code",
   "execution_count": 86,
   "metadata": {
    "collapsed": true
   },
   "outputs": [
    {
     "data": {
      "text/plain": [
       "<matplotlib.colorbar.Colorbar at 0x21579b4c358>"
      ]
     },
     "execution_count": 86,
     "metadata": {},
     "output_type": "execute_result"
    },
    {
     "data": {
      "image/png": "[encoded data removed]",
      "text/plain": [
       "<Figure size 432x288 with 2 Axes>"
      ]
     },
     "metadata": {
      "needs_background": "light"
     },
     "output_type": "display_data"
    }
   ],
   "source": [
    "Ixz2 = conjugate(fieldxz2)*fieldxz2\n",
    "Ixz2 /= amax(Ixz2)\n",
    "Ixz2 = 1 - Ixz2\n",
    "fig,ax = plt.subplots()\n",
    "ax.set_xlabel('z [um]')\n",
    "ax.set_ylabel('x [um]')\n",
    "ax.set_title('Output Intensity | xy Slice, y=5 $\\mu$m '+f'({xnum}x{ynum})')\n",
    "cbar = ax.contourf((zpts2 - f2)*1e6, xpts2*1e6, Ixz2)\n",
    "fig.colorbar(cbar)\n",
    "# plt.savefig(f'intensity_xz2_{xnum}by{ynum}.png')\n",
    "\n",
    "# TODO: show L_talbot calculation in group meeting"
   ]
  },
  {
   "cell_type": "code",
   "execution_count": 91,
   "metadata": {
    "scrolled": true
   },
   "outputs": [
    {
     "data": {
      "text/plain": [
       "(50, 1500)"
      ]
     },
     "execution_count": 91,
     "metadata": {},
     "output_type": "execute_result"
    }
   ],
   "source": [
    "fieldxz2.shape"
   ]
  },
  {
   "cell_type": "code",
   "execution_count": 87,
   "metadata": {},
   "outputs": [],
   "source": [
    "f2plane_Imax = amax(conjugate(fieldxz2)*fieldxz2)"
   ]
  },
  {
   "cell_type": "code",
   "execution_count": 94,
   "metadata": {},
   "outputs": [
    {
     "data": {
      "text/plain": [
       "[<matplotlib.lines.Line2D at 0x21579c11e48>]"
      ]
     },
     "execution_count": 94,
     "metadata": {},
     "output_type": "execute_result"
    },
    {
     "data": {
      "image/png": "[encoded data removed]",
      "text/plain": [
       "<Figure size 432x288 with 1 Axes>"
      ]
     },
     "metadata": {
      "needs_background": "light"
     },
     "output_type": "display_data"
    }
   ],
   "source": [
    "plt.plot(xpts2,conjugate(fieldxz2[:,-1])*fieldxz2[:,-1])"
   ]
  },
  {
   "cell_type": "code",
   "execution_count": 88,
   "metadata": {
    "scrolled": true
   },
   "outputs": [
    {
     "data": {
      "text/plain": [
       "403.4181818181817"
      ]
     },
     "execution_count": 88,
     "metadata": {},
     "output_type": "execute_result"
    }
   ],
   "source": [
    "zTalbot*1e6"
   ]
  },
  {
   "cell_type": "code",
   "execution_count": 105,
   "metadata": {},
   "outputs": [
    {
     "data": {
      "text/plain": [
       "(1.2899999999999998e-05, 50)"
      ]
     },
     "execution_count": 105,
     "metadata": {},
     "output_type": "execute_result"
    }
   ],
   "source": [
    "# build the meshgrid\n",
    "\n",
    "xarr2,midpt,xx2,yy2 = get_meshgrid(w, pts, polar=False)\n",
    "field2_zt = zeros((pts,pts), complex)\n",
    "w,pts"
   ]
  },
  {
   "cell_type": "code",
   "execution_count": 106,
   "metadata": {
    "collapsed": true
   },
   "outputs": [
    {
     "name": "stdout",
     "output_type": "stream",
     "text": [
      "y step 0, time elapsed = 70.8831570148468 s, estimated time remaining: 1701.1957683563232 s\n",
      "y step 1, time elapsed = 144.01417088508606 s, estimated time remaining: 2471.319270849228 s\n",
      "y step 2, time elapsed = 218.53004217147827 s, estimated time remaining: 3178.4673805236816 s\n",
      "y step 3, time elapsed = 295.8515498638153 s, estimated time remaining: 3828.714329659939 s\n",
      "y step 4, time elapsed = 373.86153054237366 s, estimated time remaining: 4412.5618019104 s\n",
      "y step 5, time elapsed = 450.22481536865234 s, estimated time remaining: 4918.990008513133 s\n",
      "y step 6, time elapsed = 524.0873818397522 s, estimated time remaining: 5342.021094049725 s\n",
      "y step 7, time elapsed = 594.0135025978088 s, estimated time remaining: 5676.865569353104 s\n",
      "y step 8, time elapsed = 663.1159324645996 s, estimated time remaining: 5928.145924886067 s\n",
      "y step 9, time elapsed = 732.1242680549622 s, estimated time remaining: 6100.059526205063 s\n",
      "y step 10, time elapsed = 802.0768008232117 s, estimated time remaining: 6196.633102070202 s\n",
      "y step 11, time elapsed = 870.8600671291351 s, estimated time remaining: 6217.946820318699 s\n",
      "y step 12, time elapsed = 938.8403177261353 s, estimated time remaining: 6164.754033675561 s\n",
      "y step 13, time elapsed = 1006.8980040550232 s, estimated time remaining: 6038.514067564692 s\n",
      "y step 14, time elapsed = 1078.0149228572845 s, estimated time remaining: 5842.264308929443 s\n",
      "y step 15, time elapsed = 1145.5254566669464 s, estimated time remaining: 5573.768580034375 s\n",
      "y step 16, time elapsed = 1211.6483175754547 s, estimated time remaining: 5233.209523593679 s\n",
      "y step 17, time elapsed = 1278.094693660736 s, estimated time remaining: 4821.703028837839 s\n",
      "y step 18, time elapsed = 1343.776222705841 s, estimated time remaining: 4339.718259158888 s\n",
      "y step 19, time elapsed = 1409.3823606967926 s, estimated time remaining: 3787.955878674984 s\n",
      "y step 20, time elapsed = 1474.749113559723 s, estimated time remaining: 3166.9662149066016 s\n",
      "y step 21, time elapsed = 1539.224246263504 s, estimated time remaining: 2477.1541192531586 s\n",
      "y step 22, time elapsed = 1604.0356662273407 s, estimated time remaining: 1719.1158731087394 s\n",
      "y step 23, time elapsed = 1663.6320822238922 s, estimated time remaining: 893.0610259572665 s\n",
      "y step 24, time elapsed = 1716.0763280391693 s, estimated time remaining: 0.0 s\n",
      "calculated field2 in 0.4766881459951401 hrs\n"
     ]
    }
   ],
   "source": [
    "## compute the field in the xy plane at z2 = f2 - zTalbot\n",
    "\n",
    "q3 = copy(field2_zt[:midpt,:midpt])\n",
    "times = []\n",
    "avg = 0\n",
    "t0 = time()\n",
    "for i in range(midpt):\n",
    "    for j in range(midpt):\n",
    "        q3[i,j] = field2_int(xx2[0,j], yy2[i,0] ,f2 - zTalbot)\n",
    "    times.append(time()-t0)\n",
    "    avg = sum(times)/(i+1)\n",
    "    print(f\"y step {i}, time elapsed = {times[i]} s, estimated time remaining: {avg*(midpt - i - 1)} s\")\n",
    "field2_zt = from_quadrant3(q3, field=field2_zt)\n",
    "print(f\"calculated field2 in {(time()-t0)/3600} hrs\")"
   ]
  },
  {
   "cell_type": "code",
   "execution_count": 124,
   "metadata": {},
   "outputs": [],
   "source": [
    "I2zt = conjugate(field2_zt)*field2_zt/f2_Imax\n",
    "I2zt = 1 - I2zt"
   ]
  },
  {
   "cell_type": "code",
   "execution_count": 136,
   "metadata": {
    "scrolled": true
   },
   "outputs": [
    {
     "data": {
      "image/png": "[encoded data removed]",
      "text/plain": [
       "<Figure size 432x288 with 2 Axes>"
      ]
     },
     "metadata": {
      "needs_background": "light"
     },
     "output_type": "display_data"
    }
   ],
   "source": [
    "fig,ax = figax(xlabel=r'x [$\\mu$m]', ylabel=r'y [$\\mu$m]')\n",
    "cbar = ax.contourf(xarr2/1e-6,xarr2/1e-6,I2zt)\n",
    "fig.colorbar(cbar)\n",
    "ax.set_title(f'Output Intensity | z = f2 - zTalbot ({xnum}x{ynum})'+'\\n Normalized to focal plane intensity')\n",
    "# plt.savefig(f'dark_f2-zTalbot_xy_intensity_{xnum}by{ynum}.png')"
   ]
  },
  {
   "cell_type": "code",
   "execution_count": null,
   "metadata": {},
   "outputs": [],
   "source": [
    "## Asymmetric array"
   ]
  }
 ],
 "metadata": {
  "kernelspec": {
   "display_name": "Python 3",
   "language": "python",
   "name": "python3"
  },
  "language_info": {
   "codemirror_mode": {
    "name": "ipython",
    "version": 3
   },
   "file_extension": ".py",
   "mimetype": "text/x-python",
   "name": "python",
   "nbconvert_exporter": "python",
   "pygments_lexer": "ipython3",
   "version": "3.7.3"
  }
 },
 "nbformat": 4,
 "nbformat_minor": 2
}
