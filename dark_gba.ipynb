{
 "cells": [
  {
   "cell_type": "markdown",
   "metadata": {},
   "source": [
    "# Periodic Array - Dark Traps\n",
    "\n",
    "Calculate output field for a plane wave of wave number k and\n",
    "amplitude A0 passing through  \n",
    "1) aperture plate: rectangular grid of spots of radius a, dx,dy center to center; spots can be transmissive or reflective  \n",
    "2) lens f1  \n",
    "3) circular aperture radius b  \n",
    "4) lens f2  \n",
    "\n",
    "Everything in this notebook pertains to dark traps."
   ]
  },
  {
   "cell_type": "code",
   "execution_count": 1,
   "metadata": {},
   "outputs": [
    {
     "data": {
      "text/html": [
       "<style>.container{width:100% !important;}</style>"
      ],
      "text/plain": [
       "<IPython.core.display.HTML object>"
      ]
     },
     "metadata": {},
     "output_type": "display_data"
    }
   ],
   "source": [
    "from numpy import *\n",
    "from numpy.fft import fft,fft2,fftshift,ifftshift\n",
    "from scipy.integrate import quad, dblquad\n",
    "from scipy.special import j0, j1\n",
    "import matplotlib.pyplot as plt\n",
    "from time import time, perf_counter_ns\n",
    "import random as rand\n",
    "\n",
    "## make the display wide\n",
    "from IPython.core.display import HTML, display\n",
    "display(HTML(\"<style>.container{width:100% !important;}</style>\"))"
   ]
  },
  {
   "cell_type": "code",
   "execution_count": 2,
   "metadata": {},
   "outputs": [],
   "source": [
    "## functions\n",
    "\n",
    "def from_quadrant3(qd3, field=None):\n",
    "    \"\"\"\n",
    "    construct field with rectangular symmetry given only\n",
    "    quadrant 3 (i.e., field is mirrored across x axis and\n",
    "    across y axis)\n",
    "    \n",
    "    'qd3' 2D numpy array\n",
    "    Return 'field' 2D numpy array\n",
    "    \"\"\"\n",
    "    \n",
    "    xpts, ypts = qd3.shape\n",
    "    xmpt, ympt = int(xpts/2), int(ypts/2)\n",
    "    \n",
    "    if field is None:\n",
    "        field = zeros((2*xpts, 2*ypts), complex)\n",
    "    \n",
    "    field[:midpt, :midpt] = qd3\n",
    "    # qd4\n",
    "    field[:midpt, midpt:] = flip(qd3, axis=1) \n",
    "    # qd1\n",
    "    field[midpt:, midpt:] = flip(qd3)\n",
    "    # qd2\n",
    "    field[midpt:, :midpt] = flip(qd3, axis=0)\n",
    "    \n",
    "    return field\n",
    "\n",
    "def get_meshgrid(w, pts, polar=False):\n",
    "    \"\"\"\n",
    "    'w': grid half width\n",
    "    'pts': pts along one dimension; i.e. the full grid is pts x pts\n",
    "    \"\"\"\n",
    "    midpt = int(pts/2)\n",
    "    x = linspace(-w, w, pts)\n",
    "    y = linspace(-w, w, pts)\n",
    "    xx, yy = meshgrid(x,y, sparse=True)\n",
    "    if polar:\n",
    "        rr = sqrt(xx**2 + yy**2)\n",
    "        phi = arctan2(yy,xx)\n",
    "        phi[:midpt, :] += 2*pi\n",
    "        return x,midpt,rr,phi\n",
    "    else:\n",
    "        return x,midpt,xx,yy\n",
    "    \n",
    "def get_grid(dx,dy,xnum,ynum):\n",
    "    xpts = []\n",
    "    ypts = []\n",
    "    for i in range(xnum):\n",
    "        for j in range(ynum):\n",
    "            xpts.append((1+i)*dy - dy*(1+ynum)/2)\n",
    "            ypts.append((1+j)*dx - dx*(1+xnum)/2)\n",
    "    return xpts, ypts\n",
    "\n",
    "def figax(roi=None, ylabel='y/a', xlabel='x/a'):\n",
    "    fig,ax = plt.subplots()\n",
    "    if roi is not None:\n",
    "        ax.set_xlim(-roi,roi)\n",
    "        ax.set_ylim(-roi,roi)\n",
    "    ax.set_aspect('equal')\n",
    "    ax.set_xlabel(xlabel)\n",
    "    ax.set_ylabel(ylabel)\n",
    "    return fig, ax"
   ]
  },
  {
   "cell_type": "markdown",
   "metadata": {},
   "source": [
    "## Analytically derived fields \n",
    "\n",
    "The fields below are evaluated at specified points by numerical integration the integrals I derived for output plane field.  \n",
    "\n",
    "<b>TODO</b>\n",
    " * fix units in field below.\n",
    " * calculate expected peak intensity for bright trap and compare to result; use to get appropriate r value for reflective spots\n",
    " * plot dark trap array using that r\n",
    " * show Talbot plain mismatch mitigates trapping volumes"
   ]
  },
  {
   "cell_type": "markdown",
   "metadata": {},
   "source": [
    "### Field in output plane (A2)\n",
    "<b>Bright trap</b>\n",
    "\n",
    "I think the prefactor here has bad units such that the whole integral comes out as field amplitude per length^2\n",
    "\n",
    "\\begin{equation*} \n",
    "A_2(\\mathbf{\\rho_2}, z_2) = - A_0 \\frac{k a}{2 \\pi f_2} \\int_{-b}^b dx \\int_{-\\sqrt{b^2-x_1^2}}^{\\sqrt{b^2-x_1^2}} dy \\frac{\\sin{(\\frac{N k x_1 d}{2 f_1})}}{\\sin{(\\frac{k x_1 d}{2 f_1}})} \\frac{\\sin{(\\frac{N k y_1 d}{2 f_1})}}{\\sin{(\\frac{k y_1 d}{2 f_1}})} \\frac{J_1(a \\rho_1 \\frac{k}{f_1})}{\\rho_1}\\exp{\\bigg(-\\frac{i k}{2 f_2}(\\rho_1^2(\\frac{z_2}{f_2} - 1) + 2 \\mathbf{\\rho_1} \\cdot \\mathbf{\\rho_2)}\\bigg)}, \\quad \\rho_1 = \\sqrt{x_1^2 + y_1^2}\n",
    "\\end{equation*}\n",
    "\n",
    "Break up into real, imaginary to solve with scipy dblquad:\n",
    "\n",
    "\\begin{equation*} \n",
    "A_2(\\mathbf{\\rho_2}, z_2) = - A_0 \\frac{k a}{2 \\pi f_2} \\int_{-b}^b dx \\int_{-\\sqrt{b^2-x_1^2}}^{\\sqrt{b^2-x_1^2}} dy \\frac{\\sin{(\\frac{N k x_1 d}{2 f_1})}}{\\sin{(\\frac{k x_1 d}{2 f_1}})} \\frac{\\sin{(\\frac{N k y_1 d}{2 f_1})}}{\\sin{(\\frac{k y_1 d}{2 f_1}})} \\frac{J_1(a \\rho_1 \\frac{k}{f_1})}{\\rho_1}\\bigg(\\cos{\\bigg(\\frac{k}{2 f_2}(\\rho_1^2(\\frac{z_2}{f_2} - 1) + 2 \\mathbf{\\rho_1} \\cdot \\mathbf{\\rho_2)}\\bigg)} \\\\ - i \\sin{\\bigg(\\frac{k}{2 f_2}(\\rho_1^2(\\frac{z_2}{f_2} - 1) + 2 \\mathbf{\\rho_1} \\cdot \\mathbf{\\rho_2)}\\bigg)} \\bigg), \\quad \\rho_1 = \\sqrt{x_1^2 + y_1^2}\n",
    "\\end{equation*}\n",
    "\n",
    "<b>Dark Trap</b>\n",
    "\n",
    "The plate is now transmissive with spots of reflectivity r in place of the apertures.  \n",
    "Input field amplitude is $A_d$ (the plane wave amplitude at a unit cell), and the output field is\n",
    "\n",
    "\\begin{equation*}\n",
    "A_2 = - A_d - r\\sum_{ij}A_{2ij}\n",
    "\\end{equation*}\n",
    "where the the sum is merely the field $A_2(\\mathbf{\\rho_2})$ derived above. To create an array of dark traps whose near-Gaussian profiles have zero intensity at the center, we need  \n",
    "\n",
    "\\begin{equation*}\n",
    "I_{ij} = 0 \\propto |A_d|^2 + 2 r A_d \\cdot A_{2ij} + r^2 |A_{2ij}|^2\n",
    "\\end{equation*}  \n",
    "\n",
    "\n",
    "where $I_{ij}$ is the output net intensity at center of site (i,j). The peak intensity for the bright array is $I_t = \\epsilon I_d$. Using $I_t \\propto \\sqrt{A_{2ij}}$, we find the required reflection for $I_{ij} = 0$ to be $r = 1/\\sqrt{\\epsilon}$ \n",
    "\n",
    "But is the efficiency for a single aperture the same? The total intensity should be the same but for more apertures, we're going to get skinnier output beams and therefore higher peak intensities. This would suggest that the efficiency (and therefore r) for the single aperture is not what we're interested in here. "
   ]
  },
  {
   "cell_type": "code",
   "execution_count": 79,
   "metadata": {},
   "outputs": [],
   "source": [
    "## physics and system params. grid params based on Mark's ordered pieces\n",
    "lmbda = 8.25e-7\n",
    "k = 2*pi/lmbda\n",
    "A0 = 1\n",
    "# want M = f2/f1 something like ~ .03\n",
    "f1 = 1\n",
    "f2 = 0.03\n",
    "a = 1e-4 # aperture 1 radius = 100 um\n",
    "b = f1*3.8317/(a*k) # the filter radius. 3.8317 is a00, the first zero of the J0(x).\n",
    "\n",
    "dx = 4.3*a # center-to-center spacing between spots\n",
    "dy = dx\n",
    "\n",
    "xnum = ynum = 10"
   ]
  },
  {
   "cell_type": "code",
   "execution_count": 80,
   "metadata": {},
   "outputs": [],
   "source": [
    "def re_iint(y1, x1, y2, x2, z2):\n",
    "    \"\"\"\n",
    "    the real part of the integrand in the cell above for the output field.\n",
    "    \"\"\"\n",
    "    \n",
    "    r1 = sqrt(x1**2 + y1**2)\n",
    "    \n",
    "    intgd = (sin(xnum*k*dx*x1/(2*f1))*sin(ynum*k*dy*y1/(2*f1)) \\\n",
    "            /(sin(sin(k*dx*x1/(2*f1))*sin(k*dy*y1/(2*f1))))) \\\n",
    "            *j1(a*r1*k/f1)*cos(k*((z2/f2 - 1)*r1**2 + 2*(x1*x2 + y1*y2))/(2*f2))/r1\n",
    "    \n",
    "    return intgd\n",
    "\n",
    "\n",
    "def im_iint(y1, x1, y2, x2, z2):\n",
    "    \"\"\"\n",
    "    the imaginary part of the integrand in the cell above for the output field\n",
    "    \"\"\"\n",
    "    \n",
    "    r1 = sqrt(x1**2 + y1**2)\n",
    "    \n",
    "    intgd = - (sin(xnum*k*dx*x1/(2*f1))*sin(ynum*k*dy*y1/(2*f1)) \\\n",
    "              /(sin(sin(k*dx*x1/(2*f1))*sin(k*dy*y1/(2*f1))))) \\\n",
    "              *j1(a*r1*k/f1)*sin(k*((z2/f2 - 1)*r1**2 + 2*(x1*x2 + y1*y2))/(2*f2))/r1\n",
    "    \n",
    "    return intgd\n",
    "\n",
    "    \n",
    "def field2_int(x2, y2, z2):\n",
    "    \"\"\" \n",
    "    compute the integral in the cell above for the output field \n",
    "    integral broken up to avoid the pole at x1=y1 = 0; only integrate over \n",
    "    quadrant one in the Fourier plane, then multiply the result by 4 to \n",
    "    account for the other quadrants. works by symmetry. \n",
    "\n",
    "    Args:\n",
    "        x2\n",
    "        y2\n",
    "        z2: the distance from the second lens\n",
    "    Return:\n",
    "        'field': complex\n",
    "    \"\"\"\n",
    "    \n",
    "    # unconstrained limits: x in [-b,b], y in [-sqrt(b**2 - x**2), sqrt(b**2 - x**2)]\n",
    "    # 1 quadrant: x in [0,b], y in [0, sqrt(b**2 - x**2)]. make lower bound finite in either x or y\n",
    "    \n",
    "    iargs = (y2, x2, z2)\n",
    "    \n",
    "    # avoid the pole in x\n",
    "    field2 = 4*(A0*a*k)*(dblquad(re_iint, 1e-6, b, \n",
    "                                  lambda x: 0, # keep small enough to obtain good resolution\n",
    "                                  lambda x: sqrt(b**2 - x**2), \n",
    "                                  args=iargs)[0]/(2*pi*f1*f2) \n",
    "                          -1j*dblquad(im_iint, 1e-6, b, \n",
    "                                  lambda x: 0, # keep small enough to obtain good resolution \n",
    "                                  lambda x: sqrt(b**2 - x**2), \n",
    "                                  args=iargs)[0]/(2*pi*f2)) \n",
    "\n",
    "    \n",
    "    return field2"
   ]
  },
  {
   "cell_type": "code",
   "execution_count": 114,
   "metadata": {},
   "outputs": [],
   "source": [
    "# build the meshgrid\n",
    "w = dx*f2/f1 # 2 x 2 grid, dx = dy = 3*a, M = .03, gridwidth out ~ ((xnum-1)*d + a)*.03 = .12*a\n",
    "pts = 50\n",
    "\n",
    "# only works for square grid; need to update. get xarr, yarr, midx, midy\n",
    "xarr2,midpt,xx2,yy2 = get_meshgrid(w, pts, polar=False)\n",
    "\n",
    "field2 = zeros((pts,pts), complex)"
   ]
  },
  {
   "cell_type": "code",
   "execution_count": 115,
   "metadata": {
    "collapsed": true
   },
   "outputs": [
    {
     "name": "stdout",
     "output_type": "stream",
     "text": [
      "y step 0 in time 68.7236099243164 s\n",
      "y step 1 in time 77.679518699646 s\n",
      "y step 2 in time 78.73150062561035 s\n",
      "y step 3 in time 83.30539464950562 s\n",
      "y step 4 in time 85.37236523628235 s\n",
      "y step 5 in time 83.74310350418091 s\n",
      "y step 6 in time 84.36252284049988 s\n",
      "y step 7 in time 88.22523236274719 s\n",
      "y step 8 in time 88.19583225250244 s\n",
      "y step 9 in time 89.3351149559021 s\n",
      "y step 10 in time 89.62559986114502 s\n",
      "y step 11 in time 86.32521629333496 s\n",
      "y step 12 in time 87.18775773048401 s\n",
      "y step 13 in time 87.95725536346436 s\n",
      "y step 14 in time 87.07389187812805 s\n",
      "y step 15 in time 85.79584503173828 s\n",
      "y step 16 in time 85.15869855880737 s\n",
      "y step 17 in time 81.58014869689941 s\n",
      "y step 18 in time 79.88073348999023 s\n",
      "y step 19 in time 74.74258542060852 s\n",
      "y step 20 in time 71.74175906181335 s\n",
      "y step 21 in time 68.25243997573853 s\n",
      "y step 22 in time 65.87804365158081 s\n",
      "y step 23 in time 62.206223011016846 s\n",
      "y step 24 in time 58.39383935928345 s\n",
      "calculated field2 in 33.32473321358363 minutes\n"
     ]
    }
   ],
   "source": [
    "## compute the field\n",
    "z2 = f2\n",
    "t0 = time()\n",
    "q3 = copy(field2[:midpt,:midpt])\n",
    "for i in range(midpt):\n",
    "    ty = time()\n",
    "    for j in range(midpt):\n",
    "        q3[i,j] = field2_int(xx2[0,j], yy2[i,0] ,z2)\n",
    "    print(f'y step {i} in time {time()-ty} s')\n",
    "field2 = from_quadrant3(q3, field=field2)\n",
    "print(f\"calculated field2 in {(time()-t0)/60} minutes\")"
   ]
  },
  {
   "cell_type": "code",
   "execution_count": 117,
   "metadata": {
    "scrolled": true
   },
   "outputs": [
    {
     "data": {
      "text/plain": [
       "Text(0.5, 1.0, 'Output Focal Plane Intensity (10x10)')"
      ]
     },
     "execution_count": 117,
     "metadata": {},
     "output_type": "execute_result"
    },
    {
     "data": {
      "image/png": "[encoded data removed]",
      "text/plain": [
       "<Figure size 432x288 with 2 Axes>"
      ]
     },
     "metadata": {
      "needs_background": "light"
     },
     "output_type": "display_data"
    }
   ],
   "source": [
    "I2 = conjugate(field2)*field2\n",
    "I2 /= amax(I2)\n",
    "I2 = 1 - I2\n",
    "\n",
    "fig,ax = figax(xlabel=r'x [$\\mu$m]', ylabel=r'y [$\\mu$m]')\n",
    "cbar = ax.contourf(xarr2/1e-6,xarr2/1e-6,I2)\n",
    "fig.colorbar(cbar)\n",
    "ax.set_title(f'Output Focal Plane Intensity ({xnum}x{ynum})')\n",
    "# plt.savefig(f'dark_f2_intensity_{xnum}by{ynum}.png')"
   ]
  },
  {
   "cell_type": "code",
   "execution_count": 122,
   "metadata": {},
   "outputs": [
    {
     "data": {
      "text/plain": [
       "(2245.2189133171582+0j)"
      ]
     },
     "execution_count": 122,
     "metadata": {},
     "output_type": "execute_result"
    }
   ],
   "source": [
    "f2_Imax = amax(conjugate(field2)*field2)\n",
    "f2_Imax"
   ]
  },
  {
   "cell_type": "code",
   "execution_count": 240,
   "metadata": {},
   "outputs": [
    {
     "data": {
      "text/plain": [
       "5.1428571428571415"
      ]
     },
     "execution_count": 240,
     "metadata": {},
     "output_type": "execute_result"
    }
   ],
   "source": [
    "xarr2[int(midpt*1.4)]/1e-6"
   ]
  },
  {
   "cell_type": "code",
   "execution_count": 67,
   "metadata": {},
   "outputs": [
    {
     "data": {
      "image/png": "[encoded data removed]",
      "text/plain": [
       "<Figure size 432x288 with 1 Axes>"
      ]
     },
     "metadata": {
      "needs_background": "light"
     },
     "output_type": "display_data"
    }
   ],
   "source": [
    "# fig,ax = figax(xlabel=r'x [$\\mu$m]', ylabel=r'y [$\\mu$m]')\n",
    "fig,ax = plt.subplots()\n",
    "I2x = I2[int(midpt*1.4),:] # get a slice through y = 5 um\n",
    "ax.plot(xarr2/1e-6,I2x,color='darkblue')\n",
    "ax.set_title(f'Output Intensity ({xnum}x{ynum}) | Focal Plane '+r' y=5$\\mu$m slice')\n",
    "ax.set_xlabel(r'x [$\\mu$m]')\n",
    "ax.set_ylabel(r'Intensity [arb. units]')\n",
    "# plt.savefig(f'dark_f2_intensity_{xnum}by{ynum}_slice.png')"
   ]
  },
  {
   "cell_type": "markdown",
   "metadata": {},
   "source": [
    "## Talbot Plane Analysis"
   ]
  },
  {
   "cell_type": "code",
   "execution_count": 52,
   "metadata": {},
   "outputs": [],
   "source": [
    "## plot the field in the x2-z2 plane after lens 2. \n",
    "# could restrict to being on z-axis for a trap site\n",
    "\n",
    "Lx2 = (f2*dx/f1) # output array periodicity (big *I think* here)\n",
    "zTalbot = 2*Lx2**2/lmbda # Talbot length behind lens f2\n",
    "numxpts = 50\n",
    "numzpts = 1000\n",
    "\n",
    "assert numxpts % 2 == 0, \"need even numxpts to be able to reflect field\"\n",
    "midx = int(numxpts/2)\n",
    "\n",
    "w = Lx2 \n",
    "pts = 50\n",
    "\n",
    "xpts2 = linspace(-w, w, numxpts)\n",
    "zpts2 = linspace(f2 - 1.2*zTalbot, f2, numzpts) # plot two Talbot planes back from f2"
   ]
  },
  {
   "cell_type": "code",
   "execution_count": 53,
   "metadata": {},
   "outputs": [
    {
     "data": {
      "text/plain": [
       "(31.27272727272727, 0.0004034181818181817)"
      ]
     },
     "execution_count": 53,
     "metadata": {},
     "output_type": "execute_result"
    }
   ],
   "source": [
    "zTalbot/w, zTalbot"
   ]
  },
  {
   "cell_type": "code",
   "execution_count": 54,
   "metadata": {},
   "outputs": [
    {
     "name": "stdout",
     "output_type": "stream",
     "text": [
      "36 6.055102040816327e-06\n",
      "37 6.581632653061226e-06\n",
      "38 7.108163265306121e-06\n"
     ]
    }
   ],
   "source": [
    "for i,x in enumerate(xpts2):\n",
    "    if x < 7.5e-6 and x > 6e-6:\n",
    "        print(i,x)"
   ]
  },
  {
   "cell_type": "code",
   "execution_count": 55,
   "metadata": {
    "collapsed": true
   },
   "outputs": [
    {
     "ename": "TypeError",
     "evalue": "field2_int() missing 5 required positional arguments: 'dx', 'xnum', 'ynum', 'a', and 'b'",
     "output_type": "error",
     "traceback": [
      "\u001b[1;31m---------------------------------------------------------------------------\u001b[0m",
      "\u001b[1;31mTypeError\u001b[0m                                 Traceback (most recent call last)",
      "\u001b[1;32m<ipython-input-55-f0f21a77e7a2>\u001b[0m in \u001b[0;36m<module>\u001b[1;34m\u001b[0m\n\u001b[0;32m      9\u001b[0m     \u001b[0mtz0\u001b[0m \u001b[1;33m=\u001b[0m \u001b[0mtime\u001b[0m\u001b[1;33m(\u001b[0m\u001b[1;33m)\u001b[0m\u001b[1;33m\u001b[0m\u001b[1;33m\u001b[0m\u001b[0m\n\u001b[0;32m     10\u001b[0m     \u001b[1;32mfor\u001b[0m \u001b[0mi\u001b[0m \u001b[1;32min\u001b[0m \u001b[0mrange\u001b[0m\u001b[1;33m(\u001b[0m\u001b[0mmidx\u001b[0m\u001b[1;33m)\u001b[0m\u001b[1;33m:\u001b[0m \u001b[1;31m# loop\u001b[0m\u001b[1;33m\u001b[0m\u001b[1;33m\u001b[0m\u001b[0m\n\u001b[1;32m---> 11\u001b[1;33m         \u001b[0mfieldxz2\u001b[0m\u001b[1;33m[\u001b[0m\u001b[0mi\u001b[0m\u001b[1;33m,\u001b[0m\u001b[0mj\u001b[0m\u001b[1;33m]\u001b[0m \u001b[1;33m=\u001b[0m \u001b[0mfield2_int\u001b[0m\u001b[1;33m(\u001b[0m\u001b[0mxpts2\u001b[0m\u001b[1;33m[\u001b[0m\u001b[0mi\u001b[0m\u001b[1;33m]\u001b[0m\u001b[1;33m,\u001b[0m \u001b[0my2\u001b[0m \u001b[1;33m,\u001b[0m\u001b[0mzpts2\u001b[0m\u001b[1;33m[\u001b[0m\u001b[0mj\u001b[0m\u001b[1;33m]\u001b[0m\u001b[1;33m)\u001b[0m\u001b[1;33m\u001b[0m\u001b[1;33m\u001b[0m\u001b[0m\n\u001b[0m\u001b[0;32m     12\u001b[0m     \u001b[0mprint\u001b[0m\u001b[1;33m(\u001b[0m\u001b[1;34mf\"zstep {j}, time={(time()-tz0)} s\"\u001b[0m\u001b[1;33m)\u001b[0m\u001b[1;33m\u001b[0m\u001b[1;33m\u001b[0m\u001b[0m\n\u001b[0;32m     13\u001b[0m \u001b[0mprint\u001b[0m\u001b[1;33m(\u001b[0m\u001b[1;34mf\"total time={time()-t0}\"\u001b[0m\u001b[1;33m)\u001b[0m\u001b[1;33m\u001b[0m\u001b[1;33m\u001b[0m\u001b[0m\n",
      "\u001b[1;31mTypeError\u001b[0m: field2_int() missing 5 required positional arguments: 'dx', 'xnum', 'ynum', 'a', and 'b'"
     ]
    }
   ],
   "source": [
    "## now make a contour plot in x2-z2 plane\n",
    "# seems like this works. up the z pts\n",
    "\n",
    "y2 = xpts2[39] # plane intersecting gaussians near minima\n",
    "\n",
    "fieldxz2 = empty((numxpts, numzpts), complex)\n",
    "t0 = time()\n",
    "for j in range(0,numzpts):\n",
    "    tz0 = time()\n",
    "    for i in range(midx): # loop \n",
    "        fieldxz2[i,j] = field2_int(xpts2[i], y2 ,zpts2[j])\n",
    "    print(f\"zstep {j}, time={(time()-tz0)} s\")\n",
    "print(f\"total time={time()-t0}\")"
   ]
  },
  {
   "cell_type": "code",
   "execution_count": 85,
   "metadata": {},
   "outputs": [],
   "source": [
    "fieldxz2[midx:] = flip(fieldxz2[:midx,:], axis=0)"
   ]
  },
  {
   "cell_type": "code",
   "execution_count": 86,
   "metadata": {
    "collapsed": true
   },
   "outputs": [
    {
     "data": {
      "text/plain": [
       "<matplotlib.colorbar.Colorbar at 0x21579b4c358>"
      ]
     },
     "execution_count": 86,
     "metadata": {},
     "output_type": "execute_result"
    },
    {
     "data": {
      "image/png": "[encoded data removed]",
      "text/plain": [
       "<Figure size 432x288 with 2 Axes>"
      ]
     },
     "metadata": {
      "needs_background": "light"
     },
     "output_type": "display_data"
    }
   ],
   "source": [
    "Ixz2 = conjugate(fieldxz2)*fieldxz2\n",
    "Ixz2 /= amax(Ixz2)\n",
    "Ixz2 = 1 - Ixz2\n",
    "fig,ax = plt.subplots()\n",
    "ax.set_xlabel('z [um]')\n",
    "ax.set_ylabel('x [um]')\n",
    "ax.set_title('Output Intensity | xy Slice, y=5 $\\mu$m '+f'({xnum}x{ynum})')\n",
    "cbar = ax.contourf((zpts2 - f2)*1e6, xpts2*1e6, Ixz2)\n",
    "fig.colorbar(cbar)\n",
    "# plt.savefig(f'intensity_xz2_{xnum}by{ynum}.png')\n",
    "\n",
    "# TODO: show L_talbot calculation in group meeting"
   ]
  },
  {
   "cell_type": "code",
   "execution_count": 91,
   "metadata": {
    "scrolled": true
   },
   "outputs": [
    {
     "data": {
      "text/plain": [
       "(50, 1500)"
      ]
     },
     "execution_count": 91,
     "metadata": {},
     "output_type": "execute_result"
    }
   ],
   "source": [
    "fieldxz2.shape"
   ]
  },
  {
   "cell_type": "code",
   "execution_count": 68,
   "metadata": {
    "scrolled": true
   },
   "outputs": [
    {
     "name": "stderr",
     "output_type": "stream",
     "text": [
      "C:\\Users\\gothr\\Anaconda3\\lib\\site-packages\\ipykernel_launcher.py:1: RuntimeWarning: overflow encountered in multiply\n",
      "  \"\"\"Entry point for launching an IPython kernel.\n",
      "C:\\Users\\gothr\\Anaconda3\\lib\\site-packages\\ipykernel_launcher.py:1: RuntimeWarning: invalid value encountered in multiply\n",
      "  \"\"\"Entry point for launching an IPython kernel.\n"
     ]
    }
   ],
   "source": [
    "f2plane_Imax = amax(conjugate(fieldxz2)*fieldxz2)"
   ]
  },
  {
   "cell_type": "code",
   "execution_count": 94,
   "metadata": {},
   "outputs": [
    {
     "data": {
      "text/plain": [
       "[<matplotlib.lines.Line2D at 0x21579c11e48>]"
      ]
     },
     "execution_count": 94,
     "metadata": {},
     "output_type": "execute_result"
    },
    {
     "data": {
      "image/png": "[encoded data removed]",
      "text/plain": [
       "<Figure size 432x288 with 1 Axes>"
      ]
     },
     "metadata": {
      "needs_background": "light"
     },
     "output_type": "display_data"
    }
   ],
   "source": [
    "plt.plot(xpts2,conjugate(fieldxz2[:,-1])*fieldxz2[:,-1])"
   ]
  },
  {
   "cell_type": "code",
   "execution_count": 88,
   "metadata": {
    "scrolled": true
   },
   "outputs": [
    {
     "data": {
      "text/plain": [
       "403.4181818181817"
      ]
     },
     "execution_count": 88,
     "metadata": {},
     "output_type": "execute_result"
    }
   ],
   "source": [
    "zTalbot*1e6"
   ]
  },
  {
   "cell_type": "code",
   "execution_count": 105,
   "metadata": {},
   "outputs": [
    {
     "data": {
      "text/plain": [
       "(1.2899999999999998e-05, 50)"
      ]
     },
     "execution_count": 105,
     "metadata": {},
     "output_type": "execute_result"
    }
   ],
   "source": [
    "## build the meshgrid\n",
    "xarr2,midpt,xx2,yy2 = get_meshgrid(w, pts, polar=False)\n",
    "field2_zt = zeros((pts,pts), complex)\n",
    "w,pts"
   ]
  },
  {
   "cell_type": "code",
   "execution_count": 63,
   "metadata": {},
   "outputs": [],
   "source": [
    "# integral for the field at x2,y2,z2 (z measured from lens f2)\n",
    "f2int = lambda x2,y2,z2: field2_int(x2,y2,z2,dx,xnum,ynum,a,b,dy=None,A0=A0,k=k,f1=f1,f2=f2)"
   ]
  },
  {
   "cell_type": "code",
   "execution_count": 64,
   "metadata": {},
   "outputs": [
    {
     "name": "stdout",
     "output_type": "stream",
     "text": [
      "y step 0, time elapsed = 69.67176127433777 s, estimated time remaining: 1672.1222705841064 s\n",
      "y step 1, time elapsed = 140.93120741844177 s, estimated time remaining: 2421.9341399669647 s\n",
      "y step 2, time elapsed = 215.66041350364685 s, estimated time remaining: 3125.93146944046 s\n",
      "y step 3, time elapsed = 288.08405327796936 s, estimated time remaining: 3750.3240362405777 s\n",
      "y step 4, time elapsed = 363.8534429073334 s, estimated time remaining: 4312.8035135269165 s\n",
      "y step 5, time elapsed = 438.3502688407898 s, estimated time remaining: 4802.411966204643 s\n",
      "y step 6, time elapsed = 511.31619691848755 s, estimated time remaining: 5214.51602779116 s\n",
      "y step 7, time elapsed = 589.2249281406403 s, estimated time remaining: 5561.321078598499 s\n",
      "y step 8, time elapsed = 661.0489060878754 s, estimated time remaining: 5827.806539323595 s\n",
      "y step 9, time elapsed = 727.2987816333771 s, estimated time remaining: 6008.159940004349 s\n",
      "y step 10, time elapsed = 798.0167095661163 s, estimated time remaining: 6113.490306724201 s\n",
      "y step 11, time elapsed = 869.145504951477 s, estimated time remaining: 6145.319022397201 s\n",
      "y step 12, time elapsed = 938.5589573383331 s, estimated time remaining: 6102.610275561993 s\n",
      "y step 13, time elapsed = 1012.170670747757 s, estimated time remaining: 5989.760702048029 s\n",
      "y step 14, time elapsed = 1080.2625827789307 s, estimated time remaining: 5802.3962569236755 s\n",
      "y step 15, time elapsed = 1146.529448747635 s, estimated time remaining: 5540.694656699896 s\n",
      "y step 16, time elapsed = 1210.525314092636 s, estimated time remaining: 5205.011363870957 s\n",
      "y step 17, time elapsed = 1274.418529033661 s, estimated time remaining: 4796.970763378673 s\n",
      "y step 18, time elapsed = 1339.6850304603577 s, estimated time remaining: 4318.342960332569 s\n",
      "y step 19, time elapsed = 1406.0536320209503 s, estimated time remaining: 3770.2015849351883 s\n",
      "y step 20, time elapsed = 1469.5898852348328 s, estimated time remaining: 3152.4564238048733 s\n",
      "y step 21, time elapsed = 1534.6888020038605 s, estimated time remaining: 2466.14795822447 s\n",
      "y step 22, time elapsed = 1595.9460635185242 s, estimated time remaining: 1711.3940078693888 s\n",
      "y step 23, time elapsed = 1658.450600385666 s, estimated time remaining: 889.1450704534849 s\n",
      "y step 24, time elapsed = 1711.259376525879 s, estimated time remaining: 0.0 s\n",
      "calculated field2 in 0.47535010364320546 hrs\n"
     ]
    }
   ],
   "source": [
    "## compute the field in the xy plane at z2 = f2 - zTalbot\n",
    "q3 = copy(field2_zt[:midpt,:midpt])\n",
    "times = []\n",
    "avg = 0\n",
    "t0 = time()\n",
    "for i in range(midpt):\n",
    "    for j in range(midpt):\n",
    "        q3[i,j] = f2int(xx2[0,j], yy2[i,0] ,f2 - zTalbot)\n",
    "    times.append(time()-t0)\n",
    "    avg = sum(times)/(i+1)\n",
    "    print(f\"y step {i}, time elapsed = {times[i]} s, estimated time remaining: {avg*(midpt - i - 1)} s\")\n",
    "field2_zt = from_quadrant3(q3, field=field2_zt)\n",
    "print(f\"calculated field2 in {(time()-t0)/3600} hrs\")"
   ]
  },
  {
   "cell_type": "code",
   "execution_count": 70,
   "metadata": {},
   "outputs": [],
   "source": [
    "I2zt = conjugate(field2_zt)*field2_zt\n",
    "f2_max = amax(I2zt)\n",
    "I2zt /= 2540 # fudged. it was about this\n",
    "I2zt = 1 - I2zt"
   ]
  },
  {
   "cell_type": "code",
   "execution_count": 73,
   "metadata": {
    "scrolled": false
   },
   "outputs": [
    {
     "data": {
      "image/png": "[encoded data removed]",
      "text/plain": [
       "<Figure size 432x288 with 2 Axes>"
      ]
     },
     "metadata": {
      "needs_background": "light"
     },
     "output_type": "display_data"
    }
   ],
   "source": [
    "fig,ax = figax(xlabel=r'x [$\\mu$m]', ylabel=r'y [$\\mu$m]')\n",
    "cbar = ax.contourf(xarr2/1e-6,xarr2/1e-6,I2zt)\n",
    "fig.colorbar(cbar)\n",
    "ax.set_title(f'Output Intensity | z = f2 - zTalbot ({xnum}x{ynum})'+'\\n Normalized to focal plane intensity')\n",
    "plt.savefig(f'dark_f2_zTalbot_xy_intensity_{xnum}by{ynum}.png', bbox_inches='tight')"
   ]
  },
  {
   "cell_type": "markdown",
   "metadata": {},
   "source": [
    "## Asymmetric array"
   ]
  },
  {
   "cell_type": "code",
   "execution_count": 3,
   "metadata": {},
   "outputs": [],
   "source": [
    "# del field2_int\n",
    "from field_int import field2_int"
   ]
  },
  {
   "cell_type": "code",
   "execution_count": 4,
   "metadata": {},
   "outputs": [],
   "source": [
    "## physics and system params. grid params except dy based on Mark's ordered pieces\n",
    "lmbda = 8.25e-7\n",
    "k = 2*pi/lmbda\n",
    "A0 = 1\n",
    "\n",
    "# want M = f2/f1 something like ~ .03\n",
    "f1 = 1\n",
    "f2 = 0.03\n",
    "a = 1e-4 # aperture 1 radius = 100 um\n",
    "b = f1*3.8317/(a*k) # the filter radius. 3.8317 is a00, the first zero of the J0(x).\n",
    "\n",
    "dx = 4.3*a # center-to-center spacing between spots\n",
    "dy = 0.9*dx\n",
    "\n",
    "xnum = ynum = 10"
   ]
  },
  {
   "cell_type": "code",
   "execution_count": 5,
   "metadata": {},
   "outputs": [
    {
     "data": {
      "text/plain": [
       "(0.0004034181818181817, 0.0003267687272727272)"
      ]
     },
     "execution_count": 5,
     "metadata": {},
     "output_type": "execute_result"
    }
   ],
   "source": [
    "# Talbot lengths for output field\n",
    "Lx2 = dx*f2/f1\n",
    "Ly2 = dy*f2/f1\n",
    "zTalbotx = 2*Lx2**2/lmbda\n",
    "zTalboty = 2*Ly2**2/lmbda\n",
    "zTalbotx, zTalboty"
   ]
  },
  {
   "cell_type": "code",
   "execution_count": 19,
   "metadata": {},
   "outputs": [
    {
     "data": {
      "text/plain": [
       "(1.2899999999999998e-05, 50)"
      ]
     },
     "execution_count": 19,
     "metadata": {},
     "output_type": "execute_result"
    }
   ],
   "source": [
    "## build the meshgrid\n",
    "w = max(Lx2,Ly2)\n",
    "pts = 50\n",
    "xarr2,midpt,xx2,yy2 = get_meshgrid(w, pts, polar=False)\n",
    "field2_z = zeros((pts,pts), complex)\n",
    "w,pts"
   ]
  },
  {
   "cell_type": "code",
   "execution_count": null,
   "metadata": {},
   "outputs": [],
   "source": [
    "## field in the output plane - TODO"
   ]
  },
  {
   "cell_type": "code",
   "execution_count": 7,
   "metadata": {},
   "outputs": [],
   "source": [
    "# integral for the field at x2,y2,z2 (z measured from lens f2)\n",
    "f2int = lambda x2,y2,z2: field2_int(x2,y2,z2,dx,xnum,ynum,a,b,dy=dy,A0=A0,k=k,f1=f1,f2=f2)"
   ]
  },
  {
   "cell_type": "markdown",
   "metadata": {},
   "source": [
    "### Focal plane field"
   ]
  },
  {
   "cell_type": "code",
   "execution_count": 28,
   "metadata": {
    "scrolled": true
   },
   "outputs": [
    {
     "name": "stdout",
     "output_type": "stream",
     "text": [
      "y step 0, time elapsed = 41.07717728614807 s, estimated time remaining: 985.8522548675537 s\n",
      "y step 1, time elapsed = 76.2571210861206 s, estimated time remaining: 1349.3444312810898 s\n",
      "y step 2, time elapsed = 109.23694610595703 s, estimated time remaining: 1661.5224595069885 s\n",
      "y step 3, time elapsed = 144.44780707359314 s, estimated time remaining: 1947.850020647049 s\n",
      "y step 4, time elapsed = 180.63705444335938 s, estimated time remaining: 2206.624423980713 s\n",
      "y step 5, time elapsed = 216.9609353542328 s, estimated time remaining: 2433.9539642731347 s\n",
      "y step 6, time elapsed = 254.57138061523438 s, estimated time remaining: 2631.055942194803 s\n",
      "y step 7, time elapsed = 293.9191813468933 s, estimated time remaining: 2798.8536570370197 s\n",
      "y step 8, time elapsed = 335.8241460323334 s, estimated time remaining: 2938.545332166884 s\n",
      "y step 9, time elapsed = 377.4348945617676 s, estimated time remaining: 3045.5499658584595 s\n",
      "y step 10, time elapsed = 419.2575685977936 s, estimated time remaining: 3117.7035431861877 s\n",
      "y step 11, time elapsed = 463.2010803222656 s, estimated time remaining: 3155.560733894507 s\n",
      "y step 12, time elapsed = 507.7502090930939 s, estimated time remaining: 3157.454309463501 s\n",
      "y step 13, time elapsed = 547.2760927677155 s, estimated time remaining: 3117.597681539399 s\n",
      "y step 14, time elapsed = 589.5051898956299 s, estimated time remaining: 3038.237856388092 s\n",
      "y step 15, time elapsed = 631.0541064739227 s, estimated time remaining: 2918.481126219034 s\n",
      "y step 16, time elapsed = 670.4607529640198 s, estimated time remaining: 2757.1160677741555 s\n",
      "y step 17, time elapsed = 709.1173963546753 s, estimated time remaining: 2554.2179601457383 s\n",
      "y step 18, time elapsed = 746.8694636821747 s, estimated time remaining: 2309.9553170706095 s\n",
      "y step 19, time elapsed = 784.064532995224 s, estimated time remaining: 2024.7307592630386 s\n",
      "y step 20, time elapsed = 818.684972524643 s, estimated time remaining: 1698.5920018241518 s\n",
      "y step 21, time elapsed = 852.3130633831024 s, estimated time remaining: 1332.2619644945319 s\n",
      "y step 22, time elapsed = 882.4046125411987 s, estimated time remaining: 926.2891900435737 s\n",
      "y step 23, time elapsed = 911.1058769226074 s, estimated time remaining: 481.8096484343211 s\n",
      "y step 24, time elapsed = 937.7177264690399 s, estimated time remaining: 0.0 s\n",
      "calculated field2 in 0.2604771462414 hrs\n"
     ]
    }
   ],
   "source": [
    "## compute the field in the back focal plane z2 = f2\n",
    "\n",
    "field2_f2 = copy(field2_z)\n",
    "q3 = copy(field2_f2[:midpt,:midpt])\n",
    "times = []\n",
    "avg = 0\n",
    "t0 = time()\n",
    "for i in range(midpt):\n",
    "    for j in range(midpt):\n",
    "        q3[i,j] = f2int(xx2[0,j], yy2[i,0], f2)\n",
    "    times.append(time()-t0)\n",
    "    avg = sum(times)/(i+1)\n",
    "    print(f\"y step {i}, time elapsed = {times[i]} s, estimated time remaining: {avg*(midpt - i - 1)} s\")\n",
    "field2_f2 = from_quadrant3(q3, field=field2_f2)\n",
    "print(f\"calculated field2 in {(time()-t0)/3600} hrs\")"
   ]
  },
  {
   "cell_type": "code",
   "execution_count": 37,
   "metadata": {},
   "outputs": [
    {
     "data": {
      "text/plain": [
       "(2214.7178620378654+0j)"
      ]
     },
     "execution_count": 37,
     "metadata": {},
     "output_type": "execute_result"
    }
   ],
   "source": [
    "I2_f2 = conjugate(field2_f2)*field2_f2\n",
    "f2asym_max = amax(I2_f2) \n",
    "I2_f2 /= f2asym_max\n",
    "I2_f2 = 1 - I2_f2\n",
    "f2asym_max"
   ]
  },
  {
   "cell_type": "code",
   "execution_count": 38,
   "metadata": {},
   "outputs": [
    {
     "data": {
      "image/png": "[encoded data removed]",
      "text/plain": [
       "<Figure size 432x288 with 2 Axes>"
      ]
     },
     "metadata": {
      "needs_background": "light"
     },
     "output_type": "display_data"
    }
   ],
   "source": [
    "fig,ax = figax(xlabel=r'x [$\\mu$m]', ylabel=r'y [$\\mu$m]')\n",
    "cbar = ax.contourf(xarr2/1e-6,xarr2/1e-6,I2_f2)\n",
    "fig.colorbar(cbar)\n",
    "ax.set_title(f'Output Intensity | z=f2 | dy/dx=0.9 ({xnum}x{ynum})'+'\\n Normalized to peak intensity')\n",
    "# plt.savefig(f'dark_asym_f2_xy_intensity_{xnum}by{ynum}.png', bbox_inches='tight')"
   ]
  },
  {
   "cell_type": "markdown",
   "metadata": {},
   "source": [
    "### Talbot plane fields"
   ]
  },
  {
   "cell_type": "code",
   "execution_count": 8,
   "metadata": {
    "collapsed": true
   },
   "outputs": [
    {
     "name": "stdout",
     "output_type": "stream",
     "text": [
      "y step 0, time elapsed = 68.67738366127014 s, estimated time remaining: 1648.2572078704834 s\n",
      "y step 1, time elapsed = 132.61747217178345 s, estimated time remaining: 2314.8908420801163 s\n",
      "y step 2, time elapsed = 196.5794267654419 s, estimated time remaining: 2917.7447390556335 s\n",
      "y step 3, time elapsed = 261.218642950058 s, estimated time remaining: 3460.2378591299057 s\n",
      "y step 4, time elapsed = 324.74479961395264 s, estimated time remaining: 3935.3509006500244 s\n",
      "y step 5, time elapsed = 388.3696584701538 s, estimated time remaining: 4345.323381503424 s\n",
      "y step 6, time elapsed = 455.8408408164978 s, estimated time remaining: 4700.695434297833 s\n",
      "y step 7, time elapsed = 525.8167588710785 s, estimated time remaining: 5001.963089555502 s\n",
      "y step 8, time elapsed = 592.3069565296173 s, estimated time remaining: 5237.639004177518 s\n",
      "y step 9, time elapsed = 658.026251077652 s, estimated time remaining: 5406.297286391258 s\n",
      "y step 10, time elapsed = 723.6637630462646 s, estimated time remaining: 5508.187941421162 s\n",
      "y step 11, time elapsed = 788.8504793643951 s, estimated time remaining: 5543.105136116345 s\n",
      "y step 12, time elapsed = 855.5032787322998 s, estimated time remaining: 5512.81450344966 s\n",
      "y step 13, time elapsed = 917.4187767505646 s, estimated time remaining: 5413.284241216523 s\n",
      "y step 14, time elapsed = 987.7272794246674 s, estimated time remaining: 5251.574512163798 s\n",
      "y step 15, time elapsed = 1053.4436178207397 s, estimated time remaining: 5023.578029662371 s\n",
      "y step 16, time elapsed = 1120.1711795330048 s, estimated time remaining: 4729.871324987973 s\n",
      "y step 17, time elapsed = 1185.159462928772 s, estimated time remaining: 4369.60845553875 s\n",
      "y step 18, time elapsed = 1250.7799851894379 s, estimated time remaining: 3943.2366359108373 s\n",
      "y step 19, time elapsed = 1316.5680949687958 s, estimated time remaining: 3450.871027171612 s\n",
      "y step 20, time elapsed = 1386.429316520691 s, estimated time remaining: 2893.316842896598 s\n",
      "y step 21, time elapsed = 1449.4438412189484 s, estimated time remaining: 2269.003263603557 s\n",
      "y step 22, time elapsed = 1516.1340506076813 s, estimated time remaining: 1578.7383753942406 s\n",
      "y step 23, time elapsed = 1578.9132039546967 s, estimated time remaining: 822.266855041186 s\n",
      "y step 24, time elapsed = 1642.657948732376 s, estimated time remaining: 0.0 s\n",
      "calculated field2 in 0.45629415141211616 hrs\n"
     ]
    }
   ],
   "source": [
    "## compute the field in the first x Talbot plane\n",
    "\n",
    "field2_ztx = copy(field2_z)\n",
    "q3 = copy(field2_ztx[:midpt,:midpt])\n",
    "times = []\n",
    "avg = 0\n",
    "t0 = time()\n",
    "for i in range(midpt):\n",
    "    for j in range(midpt):\n",
    "        q3[i,j] = f2int(xx2[0,j], yy2[i,0], f2 - zTalbotx)\n",
    "    times.append(time()-t0)\n",
    "    avg = sum(times)/(i+1)\n",
    "    print(f\"y step {i}, time elapsed = {times[i]} s, estimated time remaining: {avg*(midpt - i - 1)} s\")\n",
    "field2_ztx = from_quadrant3(q3, field=field2_ztx)\n",
    "print(f\"calculated field2 in {(time()-t0)/3600} hrs\")"
   ]
  },
  {
   "cell_type": "code",
   "execution_count": 40,
   "metadata": {},
   "outputs": [],
   "source": [
    "I2ztx = conjugate(field2_zt)*field2_zt \n",
    "I2ztx /= f2asym_max # should be divided by max intensity in the focal plane\n",
    "I2ztx = 1 - I2ztx # r**2 = 1/eps, where eps is the efficiency of the bright array\n",
    "\n",
    "# I_2 = conjugate(field2_zt)*field2_zt \n",
    "# I_2 /= amax(I2ztx) # should be divided by max intensity in the focal plane\n",
    "# I_2 = 1 - r**2*I2ztx # r**2 = 1/eps, where eps is the efficiency of the bright array"
   ]
  },
  {
   "cell_type": "code",
   "execution_count": 42,
   "metadata": {
    "scrolled": true
   },
   "outputs": [
    {
     "data": {
      "image/png": "[encoded data removed]",
      "text/plain": [
       "<Figure size 432x288 with 2 Axes>"
      ]
     },
     "metadata": {
      "needs_background": "light"
     },
     "output_type": "display_data"
    }
   ],
   "source": [
    "fig,ax = figax(xlabel=r'x [$\\mu$m]', ylabel=r'y [$\\mu$m]')\n",
    "cbar = ax.contourf(xarr2/1e-6,xarr2/1e-6,I2ztx)\n",
    "fig.colorbar(cbar)\n",
    "ax.set_title(f'Output Intensity | z = f2 - zTalbot_x ({xnum}x{ynum})'+'\\n Normalized to focal plane intensity')\n",
    "# plt.savefig(f'dark_f2-zTalbotx_xy_intensity_{xnum}by{ynum}.png', bbox_inches='tight')"
   ]
  },
  {
   "cell_type": "code",
   "execution_count": null,
   "metadata": {},
   "outputs": [],
   "source": [
    "## compute the field in the y Talbot plane\n",
    "\n",
    "field2_zty = copy(field2_z)\n",
    "q3 = copy(field2_zty[:midpt,:midpt])\n",
    "times = []\n",
    "avg = 0\n",
    "t0 = time()\n",
    "for i in range(midpt):\n",
    "    for j in range(midpt):\n",
    "        q3[i,j] = f2int(xx2[0,j], yy2[i,0], f2 - zTalboty)\n",
    "    times.append(time()-t0)\n",
    "    avg = sum(times)/(i+1)\n",
    "    print(f\"y step {i}, time elapsed = {times[i]} s, estimated time remaining: {avg*(midpt - i - 1)} s\")\n",
    "    print(f\"calculated field2 in {(time()-t0)/3600} hrs\")"
   ]
  },
  {
   "cell_type": "code",
   "execution_count": 44,
   "metadata": {},
   "outputs": [
    {
     "name": "stdout",
     "output_type": "stream",
     "text": [
      "calculated field2 in 0.5026839365561803 hrs\n"
     ]
    }
   ],
   "source": [
    "field2_zty = from_quadrant3(q3, field=field2_zty)"
   ]
  },
  {
   "cell_type": "code",
   "execution_count": 47,
   "metadata": {},
   "outputs": [],
   "source": [
    "I2zty = conjugate(field2_zty)*field2_zty \n",
    "I2zty /= f2asym_max # should be divided by max intensity in the focal plane\n",
    "I2zty = 1 - I2zty # r**2 = 1/eps, where eps is the efficiency of the bright array"
   ]
  },
  {
   "cell_type": "code",
   "execution_count": 48,
   "metadata": {},
   "outputs": [
    {
     "data": {
      "text/plain": [
       "Text(0.5, 1.0, 'Output Intensity | z = f2 - zTalbot_y (10x10)\\n Normalized to focal plane intensity')"
      ]
     },
     "execution_count": 48,
     "metadata": {},
     "output_type": "execute_result"
    },
    {
     "data": {
      "image/png": "[encoded data removed]",
      "text/plain": [
       "<Figure size 432x288 with 2 Axes>"
      ]
     },
     "metadata": {
      "needs_background": "light"
     },
     "output_type": "display_data"
    }
   ],
   "source": [
    "fig,ax = figax(xlabel=r'x [$\\mu$m]', ylabel=r'y [$\\mu$m]')\n",
    "cbar = ax.contourf(xarr2/1e-6,xarr2/1e-6,I2zty)\n",
    "fig.colorbar(cbar)\n",
    "ax.set_title(f'Output Intensity | z = f2 - zTalbot_y ({xnum}x{ynum})'+'\\n Normalized to focal plane intensity')\n",
    "# plt.savefig(f'dark_asym_zTalboty_xy_intensity_{xnum}by{ynum}.png', bbox_inches='tight')"
   ]
  },
  {
   "cell_type": "code",
   "execution_count": null,
   "metadata": {},
   "outputs": [],
   "source": []
  }
 ],
 "metadata": {
  "kernelspec": {
   "display_name": "Python 3",
   "language": "python",
   "name": "python3"
  },
  "language_info": {
   "codemirror_mode": {
    "name": "ipython",
    "version": 3
   },
   "file_extension": ".py",
   "mimetype": "text/x-python",
   "name": "python",
   "nbconvert_exporter": "python",
   "pygments_lexer": "ipython3",
   "version": "3.7.3"
  }
 },
 "nbformat": 4,
 "nbformat_minor": 2
}
