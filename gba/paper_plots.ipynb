{
 "cells": [
  {
   "cell_type": "markdown",
   "id": "68aef315",
   "metadata": {},
   "source": [
    "# Plot creation for the array paper"
   ]
  },
  {
   "cell_type": "code",
   "execution_count": 1,
   "id": "e1a7179f",
   "metadata": {},
   "outputs": [
    {
     "data": {
      "text/html": [
       "<style>.container{width:100% !important;}</style>"
      ],
      "text/plain": [
       "<IPython.core.display.HTML object>"
      ]
     },
     "metadata": {},
     "output_type": "display_data"
    },
    {
     "name": "stdout",
     "output_type": "stream",
     "text": [
      "images saved in ..\\images\n"
     ]
    }
   ],
   "source": [
    "from matplotlib import colors\n",
    "import matplotlib.pyplot as plt\n",
    "\n",
    "## local imports\n",
    "import os,sys\n",
    "sys.path.append(os.path.join(\"..\",\".\"))\n",
    "from field_funcs import * # my helper functions\n",
    "\n",
    "## make the display wide\n",
    "from IPython.core.display import HTML, display, Image\n",
    "display(HTML(\"<style>.container{width:100% !important;}</style>\"))\n",
    "\n",
    "# image path \n",
    "imagedir = os.path.join('..','images')\n",
    "print(\"images saved in\", imagedir)\n",
    "\n",
    "# for matplotlib labels\n",
    "fontsize=14\n",
    "\n",
    "def savefigure(fname):\n",
    "    filepath = os.path.join(imagedir,fname)\n",
    "    plt.savefig(filepath, bbox_inches='tight')\n",
    "    print(\"saved file to\",filepath)"
   ]
  },
  {
   "cell_type": "code",
   "execution_count": null,
   "id": "12e057ae",
   "metadata": {},
   "outputs": [],
   "source": []
  }
 ],
 "metadata": {
  "kernelspec": {
   "display_name": "Python 3",
   "language": "python",
   "name": "python3"
  },
  "language_info": {
   "codemirror_mode": {
    "name": "ipython",
    "version": 3
   },
   "file_extension": ".py",
   "mimetype": "text/x-python",
   "name": "python",
   "nbconvert_exporter": "python",
   "pygments_lexer": "ipython3",
   "version": "3.9.0"
  }
 },
 "nbformat": 4,
 "nbformat_minor": 5
}
