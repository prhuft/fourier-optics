{
 "cells": [
  {
   "cell_type": "code",
   "execution_count": 5,
   "metadata": {},
   "outputs": [
    {
     "data": {
      "text/html": [
       "<style>.container{width:100% !important;}</style>"
      ],
      "text/plain": [
       "<IPython.core.display.HTML object>"
      ]
     },
     "metadata": {},
     "output_type": "display_data"
    },
    {
     "name": "stdout",
     "output_type": "stream",
     "text": [
      "images saved in .\\paper_data\n"
     ]
    }
   ],
   "source": [
    "from numpy import *\n",
    "import diffractio\n",
    "from diffractio import sp, nm, plt, mm, degrees, um\n",
    "from diffractio.scalar_fields_XY import Scalar_field_XY\n",
    "from diffractio.scalar_sources_XY import Scalar_source_XY\n",
    "from diffractio.scalar_masks_XY import Scalar_mask_XY\n",
    "from diffractio.utils_drawing import draw_several_fields\n",
    "from scipy.special import jn\n",
    "from scipy.special import jn_zeros\n",
    "\n",
    "%matplotlib inline\n",
    "\n",
    "## local imports\n",
    "import os,sys\n",
    "sys.path.append(os.path.join(\"..\",\".\"))\n",
    "from field_funcs import * # my helper functions\n",
    "from simfuncs import * # for saving/retreiving data\n",
    "\n",
    "## make the display wide\n",
    "from IPython.core.display import HTML, display, Image\n",
    "display(HTML(\"<style>.container{width:100% !important;}</style>\"))\n",
    "\n",
    "# image path \n",
    "# imagedir = os.path.join('..','images')\n",
    "imagedir = os.path.join('.','paper_data')\n",
    "print(\"images saved in\", imagedir)\n",
    "\n",
    "# for matplotlib labels\n",
    "fontsize=14\n",
    "\n",
    "def check_samp(field,x1fp,x2fp,z12,w,pts,lmbda,draw=True,onlycheck=False):\n",
    "    \"\"\"resamples the field if necessary to the closest power of 2 to the minimum pts required\n",
    "    x1fp: the largest value of x we care about in plane 1\n",
    "    x2fp: same but for plane 2\n",
    "    z12: the propagation distance from 1 to 2\n",
    "    w: the full width in the object plane\n",
    "    pts: the number of pts along one dimension of field. field assumed pts by pts.\n",
    "    lmbda: the wavelength\n",
    "    draw: draw the resampled field if True\n",
    "    onlycheck: don't resample the field, just print the number of required pts if resampling is needed.\n",
    "    returns:\n",
    "        field, xpts, ypts. if field needs to be resampled, returns the resampled field. otherwise, field is simply passed out.\n",
    "    \"\"\"\n",
    "    \n",
    "    minpts = int(w*2*(x1fp + x2fp)/(lmbda*sqrt((x1fp + x2fp)**2 + z12**2))+0.5)\n",
    "    print(\"min pts req'd:\",minpts)\n",
    "    print(f\"current pts: {pts}\")\n",
    "    if minpts > pts:\n",
    "        if not onlycheck:\n",
    "            newpts = 2**int(log2(minpts)+0.5)\n",
    "            if newpts != pts: # sometimes minpts is just slightly over pts, and so newpts = pts\n",
    "                if newpts/minpts > 1.2:\n",
    "                    pts = minpts\n",
    "                else:\n",
    "                    pts = newpts\n",
    "                print(f\"resampling with {pts} pts...\")\n",
    "                field = field.cut_resample(num_points=[pts,pts],new_field=True)\n",
    "                if draw:\n",
    "                    field.draw_profile(point1=(-w/2,0),point2=(w/2,0))\n",
    "            else:\n",
    "                print(f\"undersampling by {100*(1-pts/minpts):.2f}%\")\n",
    "    else:\n",
    "        if not onlycheck:\n",
    "            newpts = 2**int(log2(minpts)+0.5)\n",
    "            if newpts != pts:\n",
    "                if newpts/minpts < 0.9:\n",
    "                    pts = minpts\n",
    "                else:\n",
    "                    pts = newpts\n",
    "                print(f\"resampling with {pts} pts...\")\n",
    "                field = field.cut_resample(num_points=[pts,pts],new_field=True)\n",
    "                if draw:\n",
    "                    field.draw_profile(point1=(-w/2,0),point2=(w/2,0))\n",
    "            else:\n",
    "                print(f\"oversampling by {100*(1-pts/minpts):.2f}%\")\n",
    "\n",
    "    xpts = linspace(-w/2,w/2,pts)\n",
    "    ypts = linspace(-w/2,w/2,pts)\n",
    "    return field,xpts,ypts"
   ]
  },
  {
   "cell_type": "code",
   "execution_count": 6,
   "metadata": {},
   "outputs": [
    {
     "name": "stdout",
     "output_type": "stream",
     "text": [
      "min pts req'd: 841\n"
     ]
    }
   ],
   "source": [
    "## physics and lens params\n",
    "lmbda = .808*um\n",
    "k = 2*pi/lmbda\n",
    "f1 = 150*mm # lens focal length [m]\n",
    "f2 = 5*mm\n",
    "\n",
    "## input mask grid params\n",
    "xnum = ynum = 1 # number of apertures in each dimension\n",
    "w = 10*mm\n",
    "a = 100*um\n",
    "\n",
    "# use sufficient sampling. see Eq. 5, \"Is the Rayleigh-Sommerfeld diffraction always an exact \n",
    "# reference for high speed diffraction algorithms?\"\n",
    "x1fp = a\n",
    "x2fp = w/2 # maximum fov we care about in plane of lens1;\n",
    "z12 = f1\n",
    "minpts = int(w*2*(x1fp + x2fp)/(lmbda*sqrt((x1fp + x2fp)**2 + z12**2))+0.5)\n",
    "print(\"min pts req'd:\",minpts)\n",
    "pts = 2048\n",
    "assert pts > minpts, \"undersampling!\"\n",
    "\n",
    "xpts=np.linspace(-w/2, w/2, pts)\n",
    "ypts=np.linspace(-w/2, w/2, pts)"
   ]
  },
  {
   "cell_type": "code",
   "execution_count": 7,
   "metadata": {},
   "outputs": [],
   "source": [
    "# plane wave input\n",
    "A0 = Scalar_source_XY(xpts, ypts, wavelength=lmbda, info='A0')\n",
    "A0.plane_wave(phi=0*degrees, theta=0*degrees)\n",
    "\n",
    "# # apply mask\n",
    "\n",
    "# bright traps\n",
    "# mask = Scalar_mask_XY(xpts, ypts, lmbda)\n",
    "# mask.circle(r0=(0,0), radius=(a, a), angle=0)\n",
    "\n",
    "# dark traps\n",
    "sq = Scalar_mask_XY(xpts, ypts, lmbda)\n",
    "sq.square(r0=(0,0), size=(w,w), angle=0)\n",
    "circ = Scalar_mask_XY(xpts, ypts, lmbda)\n",
    "circ.circle(r0=(0,0), radius=(a,a), angle=0)\n",
    "mask = sq - circ\n",
    "\n",
    "A0 *= mask\n",
    "# A0.draw(kind='intensity')"
   ]
  },
  {
   "cell_type": "code",
   "execution_count": 17,
   "metadata": {},
   "outputs": [
    {
     "data": {
      "text/plain": [
       "(<Figure size 432x288 with 1 Axes>,\n",
       " <AxesSubplot:xlabel='$x  (\\\\mu m)$', ylabel='$y  (\\\\mu m)$'>,\n",
       " <matplotlib.image.AxesImage at 0x172285480d0>)"
      ]
     },
     "execution_count": 17,
     "metadata": {},
     "output_type": "execute_result"
    },
    {
     "data": {
      "image/png": "[encoded data removed]",
      "text/plain": [
       "<Figure size 432x288 with 1 Axes>"
      ]
     },
     "metadata": {
      "needs_background": "light"
     },
     "output_type": "display_data"
    }
   ],
   "source": [
    "mask.draw(kind='intensity')"
   ]
  },
  {
   "cell_type": "code",
   "execution_count": 9,
   "metadata": {},
   "outputs": [
    {
     "name": "stdout",
     "output_type": "stream",
     "text": [
      "min pts req'd: 977\n",
      "current pts: 2048\n"
     ]
    }
   ],
   "source": [
    "# propagate to first lens\n",
    "A0f1 = A0.RS(z=f1, new_field=True)\n",
    "\n",
    "# b = f1*3.8317/(k*a) # bright trap\n",
    "b = f1*jn_zeros(0,1)[0]/(k*a) # dark trap\n",
    "\n",
    "x1fp = w/2\n",
    "x2fp = 2*b # maximum fov we care about in Fourier plane\n",
    "z12 = f1\n",
    "minpts = int(w*2*(x1fp + x2fp)/(lmbda*sqrt((x1fp + x2fp)**2 + z12**2))+0.5)\n",
    "A0f1,xpts,ypts = check_samp(A0f1,x1fp,x2fp,z12,w,pts,lmbda,draw=False,onlycheck=True)\n",
    "pts = len(xpts)\n",
    "\n",
    "lens1 = Scalar_mask_XY(xpts, ypts, lmbda)\n",
    "lens1.lens(\n",
    "    r0=(0, 0),\n",
    "    radius=(w/2, w/2),\n",
    "    focal=(f1, f1),\n",
    "    angle=0)"
   ]
  },
  {
   "cell_type": "code",
   "execution_count": 10,
   "metadata": {
    "scrolled": false
   },
   "outputs": [],
   "source": [
    "# transform to Fourier plane\n",
    "A1 = (A0f1*lens1).RS(z=f1, new_field=True)\n",
    "# A1.draw()\n",
    "# A1.draw_profile(point1=(-w/2,0),point2=(w/2,0))"
   ]
  },
  {
   "cell_type": "code",
   "execution_count": 12,
   "metadata": {},
   "outputs": [
    {
     "data": {
      "text/plain": [
       "2.404825557695773"
      ]
     },
     "execution_count": 12,
     "metadata": {},
     "output_type": "execute_result"
    }
   ],
   "source": [
    "jn_zeros(0,1)[0]"
   ]
  },
  {
   "cell_type": "code",
   "execution_count": 11,
   "metadata": {
    "scrolled": false
   },
   "outputs": [],
   "source": [
    "# apply the Fourier filter\n",
    "maskb = Scalar_mask_XY(xpts, ypts, lmbda)\n",
    "maskb.circle(r0=(0,0), radius=(b, b), angle=0)\n",
    "\n",
    "A1 = A1*maskb\n",
    "# A1.draw_profile(point1=(-w/2,0),point2=(w/2,0))"
   ]
  },
  {
   "cell_type": "code",
   "execution_count": 19,
   "metadata": {
    "collapsed": true
   },
   "outputs": [
    {
     "data": {
      "text/plain": [
       "(array([-5000.        , -4998.30508475, -4996.61016949, ...,\n",
       "         4996.61016949,  4998.30508475,  5000.        ]),\n",
       " array([0., 0., 0., ..., 0., 0., 0.]),\n",
       " (-5000.0, 0),\n",
       " (5000.0, 0))"
      ]
     },
     "execution_count": 19,
     "metadata": {},
     "output_type": "execute_result"
    },
    {
     "data": {
      "image/png": "[encoded data removed]",
      "text/plain": [
       "<Figure size 432x288 with 1 Axes>"
      ]
     },
     "metadata": {
      "needs_background": "light"
     },
     "output_type": "display_data"
    }
   ],
   "source": [
    "maskb.draw_profile(point1=(-w/2,0),point2=(w/2,0))"
   ]
  },
  {
   "cell_type": "code",
   "execution_count": 15,
   "metadata": {},
   "outputs": [
    {
     "data": {
      "text/plain": [
       "<matplotlib.lines.Line2D at 0x1878bb45dc0>"
      ]
     },
     "execution_count": 15,
     "metadata": {},
     "output_type": "execute_result"
    },
    {
     "data": {
      "image/png": "[encoded data removed]",
      "text/plain": [
       "<Figure size 432x288 with 1 Axes>"
      ]
     },
     "metadata": {
      "needs_background": "light"
     },
     "output_type": "display_data"
    }
   ],
   "source": [
    "airydisk = lambda x: (2*jn(1,x*k*a/f1)/(x*k*a/f1))**2\n",
    "plt.plot(xpts, airydisk(xpts))\n",
    "wAD = 0.84*lmbda*f1/(2*a) # the waist of a Gaussian approx to the Airy disk\n",
    "gaussian = lambda x: exp(-2*(x/wAD)**2)\n",
    "plt.plot(xpts,gaussian(xpts))\n",
    "# plt.axvline(1.5*wAD)"
   ]
  },
  {
   "cell_type": "code",
   "execution_count": 12,
   "metadata": {},
   "outputs": [
    {
     "name": "stdout",
     "output_type": "stream",
     "text": [
      "min pts req'd: 5901\n",
      "current pts: 2048\n",
      "resampling with 5901 pts...\n",
      "propagating...\n"
     ]
    }
   ],
   "source": [
    "# propagate the masked Fourier field to lens2 - warning: takes ~ 10 minutes\n",
    "x1fp = b\n",
    "wAD = 0.84*lmbda*f1/(2*a) # the waist of a Gaussian approx to the Airy disk\n",
    "zR = pi*wAD**2/lmbda # effective Rayleigh range\n",
    "wLens2 = wAD*sqrt(1+(f2/zR)**2) # the approximate waist on lens2\n",
    "x2fp = 1.5*wLens2 # estimate the extent of the field we need care about on lens2\n",
    "z12 = f2\n",
    "A1,xpts,ypts = check_samp(A1,x1fp,x2fp,z12,w,pts,lmbda,draw=False)\n",
    "pts = len(xpts)\n",
    "print(\"propagating...\")\n",
    "A1f2 = A1.RS(z=f2,new_field=True)"
   ]
  },
  {
   "cell_type": "code",
   "execution_count": 13,
   "metadata": {},
   "outputs": [
    {
     "name": "stdout",
     "output_type": "stream",
     "text": [
      "propagating...\n"
     ]
    }
   ],
   "source": [
    "x1fp = 1.5*wLens2 # the previous x2fp\n",
    "x2fp = 20*um # estimate the extent of the field we need care about in the image plane\n",
    "z12 = f2\n",
    "# A1f2,xpts,ypts = check_samp(A1f2,x2fp,10*um,z12,w,pts,lmbda,draw=False,onlycheck=True)\n",
    "# pts = len(xpts)\n",
    "\n",
    "lens2 = Scalar_mask_XY(xpts, ypts, lmbda)\n",
    "lens2.lens(\n",
    "    r0=(0, 0),\n",
    "    radius=(w/2, w/2),\n",
    "    focal=(f2, f2),\n",
    "    angle=0)\n",
    "print(\"propagating...\")\n",
    "A2 = (A1f2*lens2).RS(z=f2,new_field=True)"
   ]
  },
  {
   "cell_type": "code",
   "execution_count": 14,
   "metadata": {},
   "outputs": [
    {
     "data": {
      "image/png": "[encoded data removed]",
      "text/plain": [
       "<Figure size 432x288 with 1 Axes>"
      ]
     },
     "metadata": {
      "needs_background": "light"
     },
     "output_type": "display_data"
    }
   ],
   "source": [
    "xout,yout,pt1,pt2 = A2.draw_profile(point1=(-20*um,0),point2=(20*um,0))"
   ]
  },
  {
   "cell_type": "code",
   "execution_count": 15,
   "metadata": {},
   "outputs": [
    {
     "name": "stdout",
     "output_type": "stream",
     "text": [
      "wrote data to rs_dark_f1_150mm_f2_5mm_a_100um.csv\n"
     ]
    }
   ],
   "source": [
    "soln_to_csv('rs_dark_f1_150mm_f2_5mm_a_100um.csv',data=[list(xout),list(yout)],labels=None)#['x [um]','y [arb.]'])"
   ]
  },
  {
   "cell_type": "code",
   "execution_count": 31,
   "metadata": {},
   "outputs": [],
   "source": [
    "soln_to_csv?"
   ]
  },
  {
   "cell_type": "code",
   "execution_count": 27,
   "metadata": {},
   "outputs": [
    {
     "data": {
      "text/plain": [
       "(1, 8192)"
      ]
     },
     "execution_count": 27,
     "metadata": {},
     "output_type": "execute_result"
    }
   ],
   "source": [
    "(xout.reshape(1,-1)).shape"
   ]
  },
  {
   "cell_type": "code",
   "execution_count": 10,
   "metadata": {},
   "outputs": [
    {
     "data": {
      "text/plain": [
       "(array([-500.        , -499.02248289, -498.04496579, ...,  498.04496579,\n",
       "         499.02248289,  500.        ]),\n",
       " array([1., 1., 1., ..., 1., 1., 1.]),\n",
       " (-500, 0),\n",
       " (500, 0))"
      ]
     },
     "execution_count": 10,
     "metadata": {},
     "output_type": "execute_result"
    },
    {
     "data": {
      "image/png": "[encoded data removed]",
      "text/plain": [
       "<Figure size 432x288 with 1 Axes>"
      ]
     },
     "metadata": {
      "needs_background": "light"
     },
     "output_type": "display_data"
    }
   ],
   "source": [
    "mask.draw_profile(point1=(-500,0),point2=(500,0)) # (kind='intensity')"
   ]
  },
  {
   "cell_type": "code",
   "execution_count": 9,
   "metadata": {},
   "outputs": [
    {
     "name": "stdout",
     "output_type": "stream",
     "text": [
      "10000.0\n"
     ]
    },
    {
     "data": {
      "image/png": "[encoded data removed]",
      "text/plain": [
       "<Figure size 500x500 with 2 Axes>"
      ]
     },
     "metadata": {
      "needs_background": "light"
     },
     "output_type": "display_data"
    }
   ],
   "source": [
    "#Field at first lens (f=f1) => u2\n",
    "f1 = 100*a\n",
    "print(f1)\n",
    "u2 = u1.RS(z=f1, new_field=True)\n",
    "\n",
    "#First lens (f=f1) => t1\n",
    "t1 = Scalar_mask_XY(x, y, wavelength)\n",
    "t1.lens(\n",
    "    r0=(0 * um, 0 * um),\n",
    "    radius=(w/2,w/2),\n",
    "    focal=(f1, f1),\n",
    "    angle=0 * degrees)\n",
    "\n",
    "\n",
    "#Field propagating through first lens => u3\n",
    "u3=t1*u2\n",
    "\n",
    "#Field in the fourier plane => u4\n",
    "u4 = u3.RS(z=f1, new_field=True)\n",
    "#u4.cut_resample(\n",
    "#    x_limits=(-200 * um, 200 * um),\n",
    "#    y_limits=(-200 * um, 200 * um),\n",
    "#    num_points=(512, 512),\n",
    "#    new_field=False)\n",
    "u4.draw(kind='intensity', logarithm=False,has_colorbar='vertical');"
   ]
  },
  {
   "cell_type": "code",
   "execution_count": 12,
   "metadata": {
    "scrolled": false
   },
   "outputs": [
    {
     "data": {
      "text/plain": [
       "(<Figure size 500x500 with 1 Axes>,\n",
       " <AxesSubplot:xlabel='$x  (\\\\mu m)$', ylabel='$y  (\\\\mu m)$'>,\n",
       " <matplotlib.image.AxesImage at 0x1802170e4c0>)"
      ]
     },
     "execution_count": 12,
     "metadata": {},
     "output_type": "execute_result"
    },
    {
     "data": {
      "image/png": "[encoded data removed]",
      "text/plain": [
       "<Figure size 500x500 with 1 Axes>"
      ]
     },
     "metadata": {
      "needs_background": "light"
     },
     "output_type": "display_data"
    }
   ],
   "source": [
    "b1 = f1*3.8317/(a*k) #radius of slit in fourier plane\n",
    "b2= f1*7.0156/(a*k)\n",
    "b3= f1*10.1735/(a*k)\n",
    "\n",
    "#Fourier plane filter\n",
    "c2 = Scalar_mask_XY(x, y, wavelength)\n",
    "c2.circle(\n",
    "    r0=(0 * um, 0 * um), radius=(b3, b3), angle=0 * degrees)\n",
    "\n",
    "\n",
    "r2 = Scalar_mask_XY(x, y, wavelength=wavelength)\n",
    "r2.ring(\n",
    "    r0=(0 * um, 0 * um),\n",
    "    radius1=(b1, b1),\n",
    "    radius2=(b2, b2),\n",
    "    angle=0 * degrees)\n",
    "\n",
    "t2a=c2-r2\n",
    "\n",
    "t2a.draw()\n",
    "\n",
    "# t2b = Scalar_mask_XY(x, y, wavelength)\n",
    "# t2b.circle(\n",
    "#     r0=(0 * um, 0 * um), radius=(b1, b1), angle=0 * degrees)\n",
    "# t2b.draw(title='Fourier plane filter - Circle at first 0')\n"
   ]
  },
  {
   "cell_type": "code",
   "execution_count": 2,
   "metadata": {},
   "outputs": [],
   "source": [
    "Scalar_mask_XY.lens?"
   ]
  },
  {
   "cell_type": "code",
   "execution_count": 13,
   "metadata": {},
   "outputs": [],
   "source": [
    "#Field passing through the fourier plane => u5\n",
    "u5a=t2a*u4\n",
    "# u5b=t2b*u4\n",
    "\n",
    "f2=f1/100\n",
    "#Field at the second lens (f=f2)\n",
    "u6a = u5a.RS(z=f2, new_field=True)\n",
    "# u6b = u5b.RS(z=f2, new_field=True)\n",
    "\n",
    "#Second lens (f=f2) => t3\n",
    "t3 = Scalar_mask_XY(x, y, wavelength)\n",
    "t3.lens(\n",
    "    r0=(0 * um, 0 * um),\n",
    "    radius=(-1 * size, 1 * size),\n",
    "    focal=(f2, f2),\n",
    "    angle=0 * degrees)\n",
    "\n",
    "#Field propagating through second lens => u7\n",
    "u7a=t3*u6a\n",
    "# u7b=t3*u6b\n",
    "\n",
    "#Field in the image plane =>u8\n",
    "u8a = u7a.RS(z=f2, new_field=True)\n",
    "# u8b = u7b.RS(z=f2, new_field=True)\n",
    "\n",
    "u8a.cut_resample(\n",
    "    x_limits=(-120 * um, 120 * um),\n",
    "    y_limits=(-120 * um, 120 * um),\n",
    "    num_points=(1024, 1024),\n",
    "    new_field=False)\n",
    "\n",
    "# u8b.cut_resample(\n",
    "#     x_limits=(-120 * um, 120 * um),\n",
    "#     y_limits=(-120 * um, 120 * um),\n",
    "#     num_points=(1024, 1024),\n",
    "#     new_field=False)"
   ]
  },
  {
   "cell_type": "code",
   "execution_count": 14,
   "metadata": {
    "scrolled": false
   },
   "outputs": [
    {
     "data": {
      "text/plain": [
       "(array([-15.        , -14.97067449, -14.94134897, ...,  14.94134897,\n",
       "         14.97067449,  15.        ]),\n",
       " array([0.08878976, 0.0653202 , 0.04696286, ..., 0.04696286, 0.0653202 ,\n",
       "        0.08878976]),\n",
       " (-15, 0),\n",
       " (15, 0))"
      ]
     },
     "execution_count": 14,
     "metadata": {},
     "output_type": "execute_result"
    },
    {
     "data": {
      "image/png": "[encoded data removed]",
      "text/plain": [
       "<Figure size 500x500 with 2 Axes>"
      ]
     },
     "metadata": {
      "needs_background": "light"
     },
     "output_type": "display_data"
    },
    {
     "data": {
      "image/png": "[encoded data removed]",
      "text/plain": [
       "<Figure size 500x500 with 1 Axes>"
      ]
     },
     "metadata": {
      "needs_background": "light"
     },
     "output_type": "display_data"
    }
   ],
   "source": [
    "# u8a.normalize()\n",
    "u8a.draw(kind='intensity', logarithm=False, has_colorbar='vertical')\n",
    "# u8b.draw(kind='intensity', logarithm=False, has_colorbar='vertical', title='Img Plane (Circle fourier plane)')\n",
    "\n",
    "u8a.draw_profile(point1=(-15, 0), point2=(15, 0), kind='intensity', order=2)\n",
    "# u8b.draw_profile(point1=(-15, 0), point2=(15, 0), kind='intensity', order=2)\n",
    "\n",
    "# h, profile, p1, p2 = t1.profile(\n",
    "#     point1=(-50, 0), point2=(50, 0), kind='intensity', order=1)\n",
    "# plt.plot(h, profile, 'r', lw=2);"
   ]
  },
  {
   "cell_type": "code",
   "execution_count": 74,
   "metadata": {},
   "outputs": [
    {
     "name": "stdout",
     "output_type": "stream",
     "text": [
      "95.5\n"
     ]
    },
    {
     "data": {
      "text/plain": [
       "(array([-7.45      , -7.44514816, -7.44029632, ...,  7.44029632,\n",
       "         7.44514816,  7.45      ]),\n",
       " array([1.00000000e+00, 9.95603748e-01, 9.91142134e-01, ...,\n",
       "        3.44412508e-05, 3.50309597e-05, 3.56249065e-05]),\n",
       " (0.1, 0),\n",
       " (15, 0))"
      ]
     },
     "execution_count": 74,
     "metadata": {},
     "output_type": "execute_result"
    },
    {
     "data": {
      "image/png": "[encoded data removed]",
      "text/plain": [
       "<Figure size 500x500 with 1 Axes>"
      ]
     },
     "metadata": {
      "needs_background": "light"
     },
     "output_type": "display_data"
    }
   ],
   "source": [
    "z10= (f2 - 4.5* um) \n",
    "print(z10)\n",
    "u10 = u7a.RS(z=z10, new_field=True)\n",
    "u10.normalize(kind='intensity')\n",
    "u10.draw_profile(point1=(0.1, 0), point2=(15, 0), kind='intensity', order=2)"
   ]
  },
  {
   "cell_type": "code",
   "execution_count": null,
   "metadata": {},
   "outputs": [],
   "source": []
  }
 ],
 "metadata": {
  "kernelspec": {
   "display_name": "Python 3 (ipykernel)",
   "language": "python",
   "name": "python3"
  },
  "language_info": {
   "codemirror_mode": {
    "name": "ipython",
    "version": 3
   },
   "file_extension": ".py",
   "mimetype": "text/x-python",
   "name": "python",
   "nbconvert_exporter": "python",
   "pygments_lexer": "ipython3",
   "version": "3.9.6"
  }
 },
 "nbformat": 4,
 "nbformat_minor": 4
}
